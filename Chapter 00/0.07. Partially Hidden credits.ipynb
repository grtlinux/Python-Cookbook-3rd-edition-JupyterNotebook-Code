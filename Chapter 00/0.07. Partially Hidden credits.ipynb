{
 "cells": [
  {
   "cell_type": "markdown",
   "metadata": {},
   "source": [
    "### 0.07. Partially Hidden credits"
   ]
  },
  {
   "cell_type": "code",
   "execution_count": null,
   "metadata": {},
   "outputs": [],
   "source": []
  },
  {
   "cell_type": "code",
   "execution_count": null,
   "metadata": {},
   "outputs": [],
   "source": [
    "from moviepy.editor import *\n",
    "from moviepy.video.tools.credits import credits1\n",
    "\n",
    "# Load the mountains clip, cut it, slow it down, make it look darker\n",
    "clip = (VideoFileClip('../../videos/badl-0001.mov', audio=False)\n",
    "           .subclip(37,46)\n",
    "           .speedx( 0.4)\n",
    "           .fx( vfx.colorx, 0.7))\n",
    "\n",
    "# Save the first frame to later make a mask with GIMP (only once)\n",
    "#~ clip.save_frame('../../credits/mountainMask2.png')\n",
    "\n",
    "\n",
    "# Load the mountain mask made with GIMP\n",
    "mountainmask = ImageClip('../../credits/mountainMask2.png',ismask=True)\n",
    "\n",
    "# Generate the credits from a text file\n",
    "credits = credits1('../../credits/credits.txt',3*clip.w/4)\n",
    "scrolling_credits = credits.set_pos(lambda t:('center',-10*t))\n",
    "\n",
    "\n",
    "# Make the credits scroll. Here, 10 pixels per second\n",
    "final = CompositeVideoClip([clip,\n",
    "                            scrolling_credits,\n",
    "                            clip.set_mask(mountainmask)])\n",
    "                            \n",
    "final.subclip(8,10).write_videofile(\"../../credits_mountains.avi\")"
   ]
  }
 ],
 "metadata": {
  "kernelspec": {
   "display_name": "first-py310",
   "language": "python",
   "name": "python3"
  },
  "language_info": {
   "name": "python",
   "version": "3.10.9"
  }
 },
 "nbformat": 4,
 "nbformat_minor": 2
}
