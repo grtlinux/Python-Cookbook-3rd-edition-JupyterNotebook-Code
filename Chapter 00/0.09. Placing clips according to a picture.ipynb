{
 "cells": [
  {
   "cell_type": "markdown",
   "metadata": {},
   "source": [
    "### 0.09. Placing clips according to a picture"
   ]
  },
  {
   "cell_type": "code",
   "execution_count": null,
   "metadata": {},
   "outputs": [],
   "source": []
  },
  {
   "cell_type": "code",
   "execution_count": null,
   "metadata": {},
   "outputs": [],
   "source": [
    "from moviepy.editor import *\n",
    "from moviepy.video.tools.segmenting import findObjects\n",
    "\n",
    "# Load the image specifying the regions.\n",
    "im = ImageClip(\"../../ultracompositing/motif.png\")\n",
    "\n",
    "# Loacate the regions, return a list of ImageClips\n",
    "regions = findObjects(im)\n",
    "\n",
    "\n",
    "# Load 7 clips from the US National Parks. Public Domain :D\n",
    "clips = [VideoFileClip(n, audio=False).subclip(18,22) for n in\n",
    "     [ \"../../videos/romo_0004.mov\",\n",
    "      \"../../videos/apis-0001.mov\",\n",
    "      \"../../videos/romo_0001.mov\",\n",
    "      \"../../videos/elma_s0003.mov\",\n",
    "      \"../../videos/elma_s0002.mov\",\n",
    "      \"../../videos/calo-0007.mov\",\n",
    "      \"../../videos/grsm_0005.mov\"]]\n",
    "\n",
    "# fit each clip into its region\n",
    "comp_clips =  [c.resize(r.size)\n",
    "                .set_mask(r.mask)\n",
    "                .set_pos(r.screenpos)\n",
    "               for c,r in zip(clips,regions)]\n",
    "\n",
    "cc = CompositeVideoClip(comp_clips,im.size)\n",
    "cc.resize(0.6).write_videofile(\"../../composition.mp4\")\n",
    "\n",
    "# Note that this particular composition takes quite a long time of\n",
    "# rendering (about 20s on my computer for just 4s of video)."
   ]
  }
 ],
 "metadata": {
  "kernelspec": {
   "display_name": "first-py310",
   "language": "python",
   "name": "python3"
  },
  "language_info": {
   "name": "python",
   "version": "3.10.9"
  }
 },
 "nbformat": 4,
 "nbformat_minor": 2
}
