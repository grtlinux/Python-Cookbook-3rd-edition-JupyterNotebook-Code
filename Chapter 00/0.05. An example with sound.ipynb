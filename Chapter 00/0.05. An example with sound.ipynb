{
 "cells": [
  {
   "cell_type": "markdown",
   "metadata": {},
   "source": [
    "### 0.05. An example with sound"
   ]
  },
  {
   "cell_type": "code",
   "execution_count": null,
   "metadata": {},
   "outputs": [],
   "source": []
  },
  {
   "cell_type": "code",
   "execution_count": null,
   "metadata": {},
   "outputs": [],
   "source": [
    "\"\"\"\n",
    "Description of the video:\n",
    "The screen is split in two parts showing Carry and Audrey at the phone,\n",
    "talking at the same time, because it is actually two scenes of a same\n",
    "movie put together.\n",
    "\"\"\"\n",
    "\n",
    "from moviepy.editor import *\n",
    "from moviepy.video.tools.drawing import color_split\n",
    "\n",
    "duration = 6 # duration of the final clip\n",
    "\n",
    "# LOAD THE MAIN SCENE\n",
    "# this small video contains the two scenes that we will put together.\n",
    "\n",
    "main_clip = VideoFileClip(\"../../videos/charadePhone.mp4\")\n",
    "W,H = main_clip.size\n",
    "\n",
    "\n",
    "# MAKE THE LEFT CLIP : cut, crop, add a mask \n",
    "                            \n",
    "mask = color_split((2*W/3,H),\n",
    "                   p1=(W/3,H), p2=(2*W/3,0),\n",
    "                   col1=1, col2=0,\n",
    "                   grad_width=2)\n",
    "                   \n",
    "mask_clip = ImageClip(mask, ismask=True)\n",
    "                   \n",
    "clip_left = (main_clip.coreader()\n",
    "                      .subclip(0,duration)\n",
    "                      .crop( x1=60, x2=60 + 2*W/3)\n",
    "                      .set_mask(mask_clip))\n",
    "\n",
    "\n",
    "# MAKE THE RIGHT CLIP : cut, crop, add a mask \n",
    "                   \n",
    "mask = color_split((2*W/3,H),\n",
    "                   p1=(2,H), p2=(W/3+2,0),\n",
    "                   col1=0, col2=1,\n",
    "                   grad_width=2)\n",
    "\n",
    "mask_clip = ImageClip(mask, ismask=True)\n",
    "\n",
    "clip_right = (main_clip.coreader()\n",
    "                       .subclip(21,21+duration)\n",
    "                       .crop(x1=70, x2=70+2*W/3)\n",
    "                       .set_mask(mask_clip))\n",
    "\n",
    "\n",
    "# ASSEMBLE AND WRITE THE MOVIE TO A FILE\n",
    "\n",
    "cc = CompositeVideoClip([clip_right.set_pos('right').volumex(0.4),\n",
    "                         clip_left.set_pos('left').volumex(0.4)],\n",
    "                         size = (W,H))\n",
    "#cc.preview()\n",
    "cc.write_videofile(\"../../biphone3.avi\",fps=24, codec='mpeg4')"
   ]
  }
 ],
 "metadata": {
  "kernelspec": {
   "display_name": "first-py310",
   "language": "python",
   "name": "python3"
  },
  "language_info": {
   "name": "python",
   "version": "3.10.9"
  }
 },
 "nbformat": 4,
 "nbformat_minor": 2
}
