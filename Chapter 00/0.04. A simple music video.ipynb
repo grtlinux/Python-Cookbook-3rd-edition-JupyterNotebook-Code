{
 "cells": [
  {
   "cell_type": "markdown",
   "metadata": {},
   "source": [
    "### 0.04. A simple music video"
   ]
  },
  {
   "cell_type": "code",
   "execution_count": null,
   "metadata": {},
   "outputs": [],
   "source": []
  },
  {
   "cell_type": "code",
   "execution_count": null,
   "metadata": {},
   "outputs": [],
   "source": [
    "from moviepy.editor import *\n",
    "\n",
    "# UKULELE CLIP, OBTAINED BY CUTTING AND CROPPING\n",
    "# RAW FOOTAGE\n",
    "\n",
    "ukulele = VideoFileClip(\"../../videos/moi_ukulele.MOV\", audio=False).\\\n",
    "               subclip(60+33, 60+50).\\\n",
    "               crop(486, 180, 1196, 570)\n",
    "\n",
    "w,h = moviesize = ukulele.size\n",
    "\n",
    "# THE PIANO FOOTAGE IS DOWNSIZED, HAS A WHITE MARGIN, IS\n",
    "# IN THE BOTTOM RIGHT CORNER \n",
    "\n",
    "piano = (VideoFileClip(\"../../videos/douceamb.mp4\",audio=False).\n",
    "         subclip(30,50).\n",
    "         resize((w/3,h/3)).    # one third of the total screen\n",
    "         margin( 6,color=(255,255,255)).  #white margin\n",
    "         margin( bottom=20, right=20, opacity=0). # transparent\n",
    "         set_pos(('right','bottom')) )\n",
    "\n",
    "\n",
    "\n",
    "# A CLIP WITH A TEXT AND A BLACK SEMI-OPAQUE BACKGROUND\n",
    "\n",
    "txt = TextClip(\"V. Zulkoninov - Ukulele Sonata\", font='Amiri-regular', color='white',fontsize=24)\n",
    "\n",
    "txt_col = txt.on_color(size=(ukulele.w + txt.w,txt.h-10), color=(0,0,0), pos=(6,'center'), col_opacity=0.6)\n",
    "\n",
    "\n",
    "# THE TEXT CLIP IS ANIMATED.\n",
    "# I am *NOT* explaining the formula, understands who can/want.\n",
    "txt_mov = txt_col.set_pos( lambda t: (max(w/30,int(w-0.5*w*t)), max(5*h/6,int(100*t))) )\n",
    "\n",
    "\n",
    "\n",
    "# FINAL ASSEMBLY\n",
    "final = CompositeVideoClip([ukulele,txt_mov,piano])\n",
    "final.subclip(0,5).write_videofile(\"../../ukulele.avi\",fps=24,codec='libx264')"
   ]
  }
 ],
 "metadata": {
  "kernelspec": {
   "display_name": "first-py310",
   "language": "python",
   "name": "python3"
  },
  "language_info": {
   "name": "python",
   "version": "3.10.9"
  }
 },
 "nbformat": 4,
 "nbformat_minor": 2
}
