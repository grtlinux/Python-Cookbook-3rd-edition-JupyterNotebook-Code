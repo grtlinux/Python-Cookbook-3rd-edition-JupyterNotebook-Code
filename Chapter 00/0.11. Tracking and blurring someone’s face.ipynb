{
 "cells": [
  {
   "cell_type": "markdown",
   "metadata": {},
   "source": [
    "### 0.11. Tracking and blurring someone’s face"
   ]
  },
  {
   "cell_type": "code",
   "execution_count": null,
   "metadata": {},
   "outputs": [],
   "source": []
  },
  {
   "cell_type": "code",
   "execution_count": null,
   "metadata": {},
   "outputs": [],
   "source": [
    "import pickle\n",
    "\n",
    "from moviepy.editor import *\n",
    "from moviepy.video.tools.tracking import manual_tracking, to_fxfy\n",
    "\n",
    "# LOAD THE CLIP (subclip 6'51 - 7'01 of a chaplin movie)\n",
    "clip = VideoFileClip(\"../../videos/chaplin.mp4\").subclip((6,51.7),(7,01.3))\n",
    "\n",
    "# MANUAL TRACKING OF THE HEAD\n",
    "\n",
    "# the three next lines are for the manual tracking and its saving\n",
    "# to a file, it must be commented once the tracking has been done\n",
    "# (after the first run of the script for instance).\n",
    "# Note that we save the list (ti,xi,yi), not the functions fx and fy\n",
    "# (that we will need) because they have dependencies.\n",
    "\n",
    "#txy, (fx,fy) = manual_tracking(clip, fps=6)\n",
    "#with open(\"../../chaplin_txy.dat\",'w+') as f:\n",
    "#    pickle.dump(txy)\n",
    "\n",
    "\n",
    "\n",
    "# IF THE MANUAL TRACKING HAS BEEN PREVIOUSLY DONE,\n",
    "# LOAD THE TRACKING DATA AND CONVERT IT TO FUNCTIONS x(t),fy(t)\n",
    "\n",
    "with open(\"../../chaplin_txy.dat\",'r') as f:\n",
    "    fx,fy = to_fxfy( pickle.load(f) )\n",
    "\n",
    "\n",
    "# BLUR CHAPLIN'S HEAD IN THE CLIP\n",
    "\n",
    "clip_blurred = clip.fx( vfx.headblur, fx, fy, 25)\n",
    "\n",
    "\n",
    "# Generate the text, put in on a grey background\n",
    "\n",
    "txt = TextClip(\"Hey you ! \\n You're blurry!\", color='grey70',\n",
    "               size = clip.size, bg_color='grey20',\n",
    "               font = \"Century-Schoolbook-Italic\", fontsize=40)\n",
    "               \n",
    "               \n",
    "# Concatenate the Chaplin clip with the text clip, add audio\n",
    "\n",
    "final = concatenate_videoclips([clip_blurred,txt.set_duration(3)]).\\\n",
    "          set_audio(clip.audio)\n",
    "\n",
    "# We write the result to a file. Here we raise the bitrate so that\n",
    "# the final video is not too ugly.\n",
    "\n",
    "final.write_videofile('../../blurredChaplin.avi', bitrate=\"3000k\")"
   ]
  }
 ],
 "metadata": {
  "kernelspec": {
   "display_name": "first-py310",
   "language": "python",
   "name": "python3"
  },
  "language_info": {
   "name": "python",
   "version": "3.10.9"
  }
 },
 "nbformat": 4,
 "nbformat_minor": 2
}
