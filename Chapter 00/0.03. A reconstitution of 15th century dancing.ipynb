{
 "cells": [
  {
   "cell_type": "markdown",
   "metadata": {},
   "source": [
    "### 0.03. A reconstitution of 15th century dancing"
   ]
  },
  {
   "cell_type": "code",
   "execution_count": null,
   "metadata": {},
   "outputs": [],
   "source": [
    "# ! brew install youtube-dl\n",
    "# ! brew upgrade youtube-dl\n",
    "# ! pip install -U youtube-dl   #! youtube-dl --update\n",
    "#   Collecting youtube-dl\n",
    "#     Downloading youtube_dl-2021.12.17-py2.py3-none-any.whl.metadata (1.5 kB)\n",
    "#   Downloading youtube_dl-2021.12.17-py2.py3-none-any.whl (1.9 MB)\n",
    "#      ━━━━━━━━━━━━━━━━━━━━━━━━━━━━━━━━━━━━━━━━ 1.9/1.9 MB 5.8 MB/s eta 0:00:00\n",
    "#   Installing collected packages: youtube-dl\n",
    "#   Successfully installed youtube-dl-2021.12.17\n",
    "# ! youtube-dl --version\n",
    "\n",
    "# https://www.youtube.com/watch?v=sXcg6IX5Yi8\n",
    "# ! youtube-dl sXcg6IX5Yi8 -o bones.mp4\n",
    "\n",
    "# https://www.youtube.com/watch?v=zvCvOC2VwDc\n",
    "# https://www.youtube.com/watch?v=lkY3Ek9VPtg\n",
    "# ! youtube-dl zvCvOC2VwDc -o knights.mp4\n",
    "# ! youtube-dl lkY3Ek9VPtg -o frontier.mp4\n",
    "# ! youtube-dl -f 'best[height<=240]' zvCvOC2VwDc -o knights.mp4\n",
    "# ! youtube-dl -f 'best[height<=240]' lkY3Ek9VPtg -o frontier.mp4\n",
    "\n",
    "import os\n",
    "os.system(\"youtube-dl -f 'best[height<=144]' zvCvOC2VwDc -o knights.mp4\")\n",
    "os.system(\"youtube-dl -f 'best[height<=144]' lkY3Ek9VPtg -o frontier.mp4\")\n",
    "\n",
    "! ls -l *.mp4"
   ]
  },
  {
   "cell_type": "code",
   "execution_count": 3,
   "metadata": {},
   "outputs": [
    {
     "name": "stdout",
     "output_type": "stream",
     "text": [
      "Analyzed the audio, found a period of 0.48 seconds\n",
      "Analyzed the video, found a period of 1.20 seconds\n",
      "Moviepy - Building video ./dancing_knights.mp4.\n",
      "MoviePy - Writing audio in dancing_knightsTEMP_MPY_wvf_snd.mp3\n"
     ]
    },
    {
     "name": "stderr",
     "output_type": "stream",
     "text": [
      "                                                                   \r"
     ]
    },
    {
     "name": "stdout",
     "output_type": "stream",
     "text": [
      "MoviePy - Done.\n",
      "Moviepy - Writing video ./dancing_knights.mp4\n",
      "\n"
     ]
    },
    {
     "name": "stderr",
     "output_type": "stream",
     "text": [
      "                                                              \r"
     ]
    },
    {
     "name": "stdout",
     "output_type": "stream",
     "text": [
      "Moviepy - Done !\n",
      "Moviepy - video ready ./dancing_knights.mp4\n"
     ]
    }
   ],
   "source": [
    "# -*- coding: utf-8 -*-\n",
    "\n",
    "\"\"\"\n",
    "Result: https://www.youtube.com/watch?v=Qu7HJrsEYFg\n",
    "\n",
    "This is how we can imagine knights dancing at the 15th century, based on a very\n",
    "serious historical study here: https://www.youtube.com/watch?v=zvCvOC2VwDc\n",
    "\n",
    "Here is what we do:\n",
    "\n",
    "0- Get the video of a dancing knight, and a (Creative Commons) audio music file.\n",
    "1- load the audio file and automatically find the tempo\n",
    "2- load the video and automatically find a segment that loops well\n",
    "3- extract this segment, slow it down so that it matches the audio tempo,\n",
    "   and make it loop forever.\n",
    "4- Symmetrize this segment so that we will get two knights instead of one\n",
    "5- Add a title screen and some credits, write to a file.\n",
    "\n",
    "This example has been originally edited in an IPython Notebook, which makes it\n",
    "easy to preview and fine-tune each part of the editing.\n",
    "\"\"\"\n",
    "\n",
    "import os\n",
    "\n",
    "from moviepy.audio.tools.cuts import find_audio_period\n",
    "from moviepy.editor import *\n",
    "from moviepy.video.tools.cuts import find_video_period\n",
    "\n",
    "# Next lines are for downloading the required videos from Youtube.\n",
    "# To do this you must have youtube-dl installed, otherwise you will need to\n",
    "# download the videos by hand and rename them, as follows:\n",
    "#     https://www.youtube.com/watch?v=zvCvOC2VwDc => knights.mp4\n",
    "#     https://www.youtube.com/watch?v=lkY3Ek9VPtg => frontier.mp4\n",
    "\n",
    "if not os.path.exists(\"./knights.mp4\"):\n",
    "    os.system(\"youtube-dl zvCvOC2VwDc -o knights.mp4\")\n",
    "    os.system(\"youtube-dl lkY3Ek9VPtg -o frontier.mp4\")\n",
    "#==========\n",
    "\n",
    "\n",
    "# LOAD, EDIT, ANALYZE THE AUDIO\n",
    "\n",
    "\n",
    "audio = (AudioFileClip(\"./frontier.mp4\")\n",
    "         .subclip((4,7), (4,18))\n",
    "         .audio_fadein(1)\n",
    "         .audio_fadeout(1))\n",
    "\n",
    "audio_period = find_audio_period(audio)\n",
    "print ('Analyzed the audio, found a period of %.02f seconds'%audio_period)\n",
    "\n",
    "\n",
    "# LOAD, EDIT, ANALYZE THE VIDEO\n",
    "\n",
    "\n",
    "clip = (VideoFileClip(\"./knights.mp4\", audio=False)\n",
    "        .subclip((1,24.15),(1,26))\n",
    "        .crop(x1=332, x2=910, y2=686))\n",
    "\n",
    "video_period = find_video_period(clip, tmin=.3)\n",
    "print ('Analyzed the video, found a period of %.02f seconds'%video_period)\n",
    "\n",
    "edited_right = (clip.subclip(0,video_period)\n",
    "                .speedx(final_duration=2*audio_period)\n",
    "                .fx(vfx.loop, duration=audio.duration)\n",
    "                .subclip(.25))\n",
    "\n",
    "edited_left = edited_right.fx(vfx.mirror_x)\n",
    "\n",
    "dancing_knights = (clips_array([[edited_left, edited_right]])\n",
    "                   .fadein(1).fadeout(1).set_audio(audio).subclip(.3))\n",
    "\n",
    "# MAKE THE TITLE SCREEN\n",
    "\n",
    "\n",
    "txt_title = (TextClip(\"15th century dancing\\n(hypothetical)\", fontsize=70,\n",
    "               font=\"Century-Schoolbook-Roman\", color=\"white\")\n",
    "             .margin(top=15, opacity=0)\n",
    "             .set_position((\"center\",\"top\")))\n",
    "\n",
    "title = (CompositeVideoClip([dancing_knights.to_ImageClip(), txt_title])\n",
    "         .fadein(.5)\n",
    "         .set_duration(3.5))\n",
    "\n",
    "\n",
    "# MAKE THE CREDITS SCREEN\n",
    "\n",
    "\n",
    "txt_credits = \"\"\"\n",
    "CREDITS\n",
    "\n",
    "Video excerpt: Le combat en armure au XVe siècle\n",
    "By J. Donzé, D. Jaquet, T. Schmuziger,\n",
    "Université de Genève, Musée National de Moyen Age\n",
    "\n",
    "Music: \"Frontier\", by DOCTOR VOX\n",
    "Under licence Creative Commons\n",
    "https://www.youtube.com/user/DOCTORVOXofficial\n",
    "\n",
    "Video editing © Zulko 2014\n",
    " Licence Creative Commons (CC BY 4.0)\n",
    "Edited with MoviePy: http://zulko.github.io/moviepy/\n",
    "\"\"\"\n",
    "\n",
    "credits = (TextClip(txt_credits, color='white',\n",
    "            font=\"Century-Schoolbook-Roman\", fontsize=35, kerning=-2,\n",
    "            interline=-1, bg_color='black', size=title.size)\n",
    "          .set_duration(2.5)\n",
    "          .fadein(.5)\n",
    "          .fadeout(.5))\n",
    "\n",
    "\n",
    "# ASSEMBLE EVERYTHING, WRITE TO FILE\n",
    "\n",
    "final = concatenate_videoclips([title, dancing_knights, credits])\n",
    "\n",
    "final.write_videofile(\"./dancing_knights.mp4\", fps=clip.fps, audio_bitrate=\"1000k\", bitrate=\"4000k\")"
   ]
  }
 ],
 "metadata": {
  "kernelspec": {
   "display_name": "first-py310",
   "language": "python",
   "name": "python3"
  },
  "language_info": {
   "codemirror_mode": {
    "name": "ipython",
    "version": 3
   },
   "file_extension": ".py",
   "mimetype": "text/x-python",
   "name": "python",
   "nbconvert_exporter": "python",
   "pygments_lexer": "ipython3",
   "version": "3.10.9"
  }
 },
 "nbformat": 4,
 "nbformat_minor": 2
}
