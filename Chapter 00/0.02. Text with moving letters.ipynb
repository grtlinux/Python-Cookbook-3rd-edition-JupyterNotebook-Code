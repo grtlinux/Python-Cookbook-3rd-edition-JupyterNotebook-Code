{
 "cells": [
  {
   "cell_type": "markdown",
   "metadata": {},
   "source": [
    "### 0.02. Text with moving letters"
   ]
  },
  {
   "cell_type": "code",
   "execution_count": null,
   "metadata": {},
   "outputs": [],
   "source": [
    "! pip install scipy"
   ]
  },
  {
   "cell_type": "code",
   "execution_count": 10,
   "metadata": {},
   "outputs": [
    {
     "name": "stdout",
     "output_type": "stream",
     "text": [
      "Moviepy - Building video ./coolTextEffects.mp4.\n",
      "Moviepy - Writing video ./coolTextEffects.mp4\n",
      "\n"
     ]
    },
    {
     "name": "stderr",
     "output_type": "stream",
     "text": [
      "                                                               \r"
     ]
    },
    {
     "name": "stdout",
     "output_type": "stream",
     "text": [
      "Moviepy - Done !\n",
      "Moviepy - video ready ./coolTextEffects.mp4\n"
     ]
    }
   ],
   "source": [
    "import numpy as np\n",
    "\n",
    "from moviepy.editor import *\n",
    "from moviepy.video.tools.segmenting import findObjects\n",
    "\n",
    "# WE CREATE THE TEXT THAT IS GOING TO MOVE, WE CENTER IT.\n",
    "\n",
    "screensize = (720,460)\n",
    "txtClip = TextClip('Cool effect',color='white', font=\"Amiri-Bold\",\n",
    "                   kerning = 5, fontsize=100)\n",
    "cvc = CompositeVideoClip( [txtClip.set_pos('center')],\n",
    "                        size=screensize)\n",
    "\n",
    "# THE NEXT FOUR FUNCTIONS DEFINE FOUR WAYS OF MOVING THE LETTERS\n",
    "\n",
    "\n",
    "# helper function\n",
    "rotMatrix = lambda a: np.array( [[np.cos(a),np.sin(a)], \n",
    "                                 [-np.sin(a),np.cos(a)]] )\n",
    "\n",
    "def vortex(screenpos,i,nletters):\n",
    "    d = lambda t : 1.0/(0.3+t**8) #damping\n",
    "    a = i*np.pi/ nletters # angle of the movement\n",
    "    v = rotMatrix(a).dot([-1,0])\n",
    "    if i%2 : v[1] = -v[1]\n",
    "    return lambda t: screenpos+400*d(t)*rotMatrix(0.5*d(t)*a).dot(v)\n",
    "    \n",
    "def cascade(screenpos,i,nletters):\n",
    "    v = np.array([0,-1])\n",
    "    d = lambda t : 1 if t<0 else abs(np.sinc(t)/(1+t**4))\n",
    "    return lambda t: screenpos+v*400*d(t-0.15*i)\n",
    "\n",
    "def arrive(screenpos,i,nletters):\n",
    "    v = np.array([-1,0])\n",
    "    d = lambda t : max(0, 3-3*t)\n",
    "    return lambda t: screenpos-400*v*d(t-0.2*i)\n",
    "    \n",
    "def vortexout(screenpos,i,nletters):\n",
    "    d = lambda t : max(0,t) #damping\n",
    "    a = i*np.pi/ nletters # angle of the movement\n",
    "    v = rotMatrix(a).dot([-1,0])\n",
    "    if i%2 : v[1] = -v[1]\n",
    "    return lambda t: screenpos+400*d(t-0.1*i)*rotMatrix(-0.2*d(t)*a).dot(v)\n",
    "\n",
    "\n",
    "# WE USE THE PLUGIN findObjects TO LOCATE AND SEPARATE EACH LETTER\n",
    "\n",
    "letters = findObjects(cvc) # a list of ImageClips\n",
    "\n",
    "\n",
    "# WE ANIMATE THE LETTERS\n",
    "\n",
    "def moveLetters(letters, funcpos):\n",
    "    return [ letter.set_pos(funcpos(letter.screenpos,i,len(letters)))\n",
    "              for i,letter in enumerate(letters)]\n",
    "\n",
    "clips = [ CompositeVideoClip( moveLetters(letters,funcpos),\n",
    "                              size = screensize).subclip(0,5)\n",
    "          for funcpos in [vortex, cascade, arrive, vortexout] ]\n",
    "\n",
    "# WE CONCATENATE EVERYTHING AND WRITE TO A FILE\n",
    "\n",
    "final_clip = concatenate_videoclips(clips)\n",
    "# final_clip.write_videofile('./coolTextEffects.avi',fps=25,codec='mpeg4')\n",
    "# final_clip.write_videofile('./coolTextEffects.mov',fps=25,codec='mpeg4')\n",
    "final_clip.write_videofile('./coolTextEffects.mp4', fps=25)"
   ]
  },
  {
   "cell_type": "code",
   "execution_count": 11,
   "metadata": {},
   "outputs": [
    {
     "name": "stdout",
     "output_type": "stream",
     "text": [
      "-rw-r--r--  1 kang-air  staff  803484  4  1 15:57 coolTextEffects.mov\n",
      "-rw-r--r--  1 kang-air  staff   78944  4  1 16:19 coolTextEffects.mp4\n"
     ]
    }
   ],
   "source": [
    "# ! OFILE='coolTextEffects.mp4' && touch $OFILE && rm -f $OFILE && ! ffmpeg -loglevel quiet -i coolTextEffects.mov $OFILE\n",
    "# ! ffmpeg -loglevel quiet -i coolTextEffects.mov coolTextEffects.mp4\n",
    "# ! ffmpeg -loglevel quiet -i coolTextEffects.mov -c:v libx264 -c:a aac -strict experimental -b:a 192k -shortest coolTextEffects.mp4\n",
    "\n",
    "! ls -l cool*"
   ]
  }
 ],
 "metadata": {
  "kernelspec": {
   "display_name": "first-py310",
   "language": "python",
   "name": "python3"
  },
  "language_info": {
   "codemirror_mode": {
    "name": "ipython",
    "version": 3
   },
   "file_extension": ".py",
   "mimetype": "text/x-python",
   "name": "python",
   "nbconvert_exporter": "python",
   "pygments_lexer": "ipython3",
   "version": "3.10.9"
  }
 },
 "nbformat": 4,
 "nbformat_minor": 2
}
