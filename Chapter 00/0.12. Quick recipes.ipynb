{
 "cells": [
  {
   "cell_type": "markdown",
   "metadata": {},
   "source": [
    "### 0.12. Quick recipes"
   ]
  },
  {
   "cell_type": "code",
   "execution_count": null,
   "metadata": {},
   "outputs": [],
   "source": []
  },
  {
   "cell_type": "code",
   "execution_count": null,
   "metadata": {},
   "outputs": [],
   "source": [
    "from skimage.filters import gaussian_filter\n",
    "from moviepy.editor import VideoFileClip\n",
    "\n",
    "def blur(image):\n",
    "    \"\"\" Returns a blurred (radius=2 pixels) version of the image \"\"\"\n",
    "    return gaussian_filter(image.astype(float), sigma=2)\n",
    "\n",
    "clip = VideoFileClip(\"my_video.mp4\")\n",
    "clip_blurred = clip.fl_image( blur )\n",
    "clip_blurred.write_videofile(\"blurred_video.mp4\")"
   ]
  },
  {
   "cell_type": "code",
   "execution_count": null,
   "metadata": {},
   "outputs": [],
   "source": []
  },
  {
   "cell_type": "code",
   "execution_count": null,
   "metadata": {},
   "outputs": [],
   "source": [
    "from moviepy.editor import VideoFileClip, ImageClip\n",
    "clip = VideoFileClip(\"video.mp4\")\n",
    "fps= 1.0 # take one frame per second\n",
    "nframes = clip.duration*fps # total number of frames used\n",
    "total_image = sum(clip.iter_frames(fps,dtype=float,logger='bar'))\n",
    "average_image = ImageClip(total_image/ nframes)\n",
    "average_image.save_frame(\"average_test.png\")"
   ]
  },
  {
   "cell_type": "code",
   "execution_count": null,
   "metadata": {},
   "outputs": [],
   "source": []
  },
  {
   "cell_type": "code",
   "execution_count": null,
   "metadata": {},
   "outputs": [],
   "source": []
  }
 ],
 "metadata": {
  "kernelspec": {
   "display_name": "first-py310",
   "language": "python",
   "name": "python3"
  },
  "language_info": {
   "name": "python",
   "version": "3.10.9"
  }
 },
 "nbformat": 4,
 "nbformat_minor": 2
}
