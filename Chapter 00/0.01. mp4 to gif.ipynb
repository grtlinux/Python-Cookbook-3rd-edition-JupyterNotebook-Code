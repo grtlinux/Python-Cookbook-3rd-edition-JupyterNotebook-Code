{
 "cells": [
  {
   "cell_type": "markdown",
   "metadata": {},
   "source": [
    "### 0.01 Convert to Animate GIF"
   ]
  },
  {
   "cell_type": "code",
   "execution_count": 1,
   "metadata": {},
   "outputs": [
    {
     "name": "stdout",
     "output_type": "stream",
     "text": [
      "moviepy                   1.0.3\n"
     ]
    }
   ],
   "source": [
    "# Load the video clip\n",
    "! pip install moviepy\n",
    "! pip list | grep moviepy"
   ]
  },
  {
   "cell_type": "code",
   "execution_count": 17,
   "metadata": {},
   "outputs": [
    {
     "name": "stdout",
     "output_type": "stream",
     "text": [
      "-rw-r--r--  1 kang-air  staff  717319  4  1 14:21 ./1.mov_img.gif\n",
      "-rw-r--r--  1 kang-air  staff  940809  4  1 14:21 ./1.mp4_img.gif\n",
      "-rw-r--r--  1 kang-air  staff  891004  4  1 14:21 ./2.mov_img.gif\n",
      "-rw-r--r--  1 kang-air  staff  1045974  4  1 14:21 ./2.mp4_img.gif\n"
     ]
    }
   ],
   "source": [
    "# ! brew install ffmpeg\n",
    "# ! brew info ffmpeg\n",
    "# ! brew upgrade ffmpeg\n",
    "# ! ffmpeg --version\n",
    "# ! ffmpeg --help\n",
    "! OFILE='./1.mov_img.gif' && touch $OFILE && rm -f $OFILE && ffmpeg -loglevel quiet -i imsi_2024-03-28.mov -r 1 $OFILE && ls -l $OFILE\n",
    "! OFILE='./1.mp4_img.gif' && touch $OFILE && rm -f $OFILE && ffmpeg -loglevel quiet -i imsi_2024-03-28.mp4 -r 1 $OFILE && ls -l $OFILE\n",
    "! OFILE='./2.mov_img.gif' && touch $OFILE && rm -f $OFILE && ffmpeg -loglevel quiet -i imsi_2024-03-28.mov -r 2 $OFILE && ls -l $OFILE\n",
    "! OFILE='./2.mp4_img.gif' && touch $OFILE && rm -f $OFILE && ffmpeg -loglevel quiet -i imsi_2024-03-28.mp4 -r 2 $OFILE && ls -l $OFILE"
   ]
  },
  {
   "cell_type": "code",
   "execution_count": 18,
   "metadata": {},
   "outputs": [
    {
     "name": "stdout",
     "output_type": "stream",
     "text": [
      "MoviePy - Building file ./11.mov_img.gif with imageio.\n"
     ]
    },
    {
     "name": "stderr",
     "output_type": "stream",
     "text": [
      "                                                            \r"
     ]
    },
    {
     "name": "stdout",
     "output_type": "stream",
     "text": [
      "Moviepy - Building video ./11.mov_webm.webm.\n",
      "Moviepy - Writing video ./11.mov_webm.webm\n",
      "\n"
     ]
    },
    {
     "name": "stderr",
     "output_type": "stream",
     "text": [
      "                                                                "
     ]
    },
    {
     "name": "stdout",
     "output_type": "stream",
     "text": [
      "Moviepy - Done !\n",
      "Moviepy - video ready ./11.mov_webm.webm\n"
     ]
    },
    {
     "name": "stderr",
     "output_type": "stream",
     "text": [
      "\r"
     ]
    }
   ],
   "source": [
    "# in : mov\n",
    "# out: gif, webm\n",
    "import os\n",
    "from moviepy.editor import VideoFileClip, TextClip, CompositeVideoClip\n",
    "\n",
    "# Load the video clip\n",
    "videoClip = VideoFileClip('./imsi_2024-03-28.mov')\n",
    "\n",
    "# Make the text. Many more options are available.\n",
    "txtClip = ( TextClip(\"My Holidays 2024(mov)\", fontsize=70, color='yellow')\n",
    "             .set_position('center')\n",
    "             .set_duration(10) )\n",
    "resultClip = CompositeVideoClip([videoClip, txtClip])  # Overlay text on video\n",
    "\n",
    "# outfile gif\n",
    "outfile_gif = \"./11.mov_img.gif\"\n",
    "os.remove(outfile_gif) if os.path.exists(outfile_gif) else None\n",
    "resultClip.write_gif(outfile_gif, fps=2)\n",
    "\n",
    "# outfile webm\n",
    "outfile_webm = \"./11.mov_webm.webm\"\n",
    "os.remove(outfile_webm) if os.path.exists(outfile_webm) else None\n",
    "resultClip.write_videofile(outfile_webm, fps=25) # Many options...(org: fps=25)\n"
   ]
  },
  {
   "cell_type": "code",
   "execution_count": 19,
   "metadata": {},
   "outputs": [
    {
     "name": "stdout",
     "output_type": "stream",
     "text": [
      "MoviePy - Building file ./11.mp4_img.gif with imageio.\n"
     ]
    },
    {
     "name": "stderr",
     "output_type": "stream",
     "text": [
      "                                                            \r"
     ]
    },
    {
     "name": "stdout",
     "output_type": "stream",
     "text": [
      "Moviepy - Building video ./11.mp4_webm.webm.\n",
      "Moviepy - Writing video ./11.mp4_webm.webm\n",
      "\n"
     ]
    },
    {
     "name": "stderr",
     "output_type": "stream",
     "text": [
      "                                                                "
     ]
    },
    {
     "name": "stdout",
     "output_type": "stream",
     "text": [
      "Moviepy - Done !\n",
      "Moviepy - video ready ./11.mp4_webm.webm\n"
     ]
    },
    {
     "name": "stderr",
     "output_type": "stream",
     "text": [
      "\r"
     ]
    }
   ],
   "source": [
    "# in : mp4\n",
    "# out: gif, webm\n",
    "import os\n",
    "from moviepy.editor import VideoFileClip, TextClip, CompositeVideoClip\n",
    "\n",
    "# Load the video clip\n",
    "videoClip = VideoFileClip('./imsi_2024-03-28.mp4')\n",
    "\n",
    "# Make the text. Many more options are available.\n",
    "txtClip = ( TextClip(\"My Holidays 2024(mp4)\", fontsize=70, color='yellow')\n",
    "             .set_position('center')\n",
    "             .set_duration(10) )\n",
    "resultClip = CompositeVideoClip([videoClip, txtClip])  # Overlay text on video\n",
    "\n",
    "# outfile gif\n",
    "outfile_gif = \"./11.mp4_img.gif\"\n",
    "os.remove(outfile_gif) if os.path.exists(outfile_gif) else None\n",
    "resultClip.write_gif(outfile_gif, fps=2)\n",
    "\n",
    "# outfile webm\n",
    "outfile_webm = \"./11.mp4_webm.webm\"\n",
    "os.remove(outfile_webm) if os.path.exists(outfile_webm) else None\n",
    "resultClip.write_videofile(outfile_webm, fps=25) # Many options...(org: fps=25)\n"
   ]
  },
  {
   "cell_type": "code",
   "execution_count": 25,
   "metadata": {},
   "outputs": [
    {
     "name": "stdout",
     "output_type": "stream",
     "text": [
      "-rw-r--r--  1 kang-air  staff   717319  4  1 14:21 ./1.mov_img.gif\n",
      "-rw-r--r--  1 kang-air  staff   940809  4  1 14:21 ./1.mp4_img.gif\n",
      "-rw-r--r--  1 kang-air  staff  4856061  4  1 14:28 ./11.mov_img.gif\n",
      "-rw-r--r--  1 kang-air  staff   443737  4  1 14:33 ./11.mov_webm.webm\n",
      "-rw-r--r--  1 kang-air  staff  3816112  4  1 14:35 ./11.mp4_img.gif\n",
      "-rw-r--r--  1 kang-air  staff   463065  4  1 14:38 ./11.mp4_webm.webm\n",
      "-rw-r--r--  1 kang-air  staff   891004  4  1 14:21 ./2.mov_img.gif\n",
      "-rw-r--r--  1 kang-air  staff  1045974  4  1 14:21 ./2.mp4_img.gif\n"
     ]
    }
   ],
   "source": [
    "! ls -l ./[12]*"
   ]
  },
  {
   "cell_type": "code",
   "execution_count": null,
   "metadata": {},
   "outputs": [],
   "source": [
    "# videoClip = VideoFileClip('./11.mp4_webm.webm')\n",
    "videoClip = VideoFileClip('./imsi_2024-03-28.mp4')\n",
    "videoClip.ipython_display(width=800)"
   ]
  }
 ],
 "metadata": {
  "kernelspec": {
   "display_name": "first-py310",
   "language": "python",
   "name": "python3"
  },
  "language_info": {
   "codemirror_mode": {
    "name": "ipython",
    "version": 3
   },
   "file_extension": ".py",
   "mimetype": "text/x-python",
   "name": "python",
   "nbconvert_exporter": "python",
   "pygments_lexer": "ipython3",
   "version": "3.10.9"
  }
 },
 "nbformat": 4,
 "nbformat_minor": 2
}
