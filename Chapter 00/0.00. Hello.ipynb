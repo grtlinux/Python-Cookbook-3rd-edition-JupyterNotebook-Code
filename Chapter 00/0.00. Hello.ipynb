{
 "cells": [
  {
   "cell_type": "markdown",
   "metadata": {},
   "source": [
    "### 0.00. Hello"
   ]
  },
  {
   "cell_type": "code",
   "execution_count": 14,
   "metadata": {},
   "outputs": [
    {
     "data": {
      "text/plain": [
       "'{\"_fname\": \"/foo/bar\"}'"
      ]
     },
     "execution_count": 14,
     "metadata": {},
     "output_type": "execute_result"
    }
   ],
   "source": [
    "import json\n",
    "\n",
    "class FileItem:\n",
    "    def __init__(self, fname):\n",
    "        self._fname = fname\n",
    "\n",
    "    # def __json_serialize__(self):\n",
    "    #     return self.__dict__\n",
    "    \n",
    "f = FileItem(\"/foo/bar\")\n",
    "json.dumps(f.__dict__)  # OK\n",
    "# json.dumps(f)  # TypeError: Object of type FileItem is not JSON serializable"
   ]
  },
  {
   "cell_type": "code",
   "execution_count": 9,
   "metadata": {},
   "outputs": [
    {
     "name": "stdout",
     "output_type": "stream",
     "text": [
      "{\n",
      "    \"age\": 35,\n",
      "    \"dog\": {\n",
      "        \"name\": \"Apollo\"\n",
      "    },\n",
      "    \"name\": \"Onur\"\n",
      "}\n"
     ]
    }
   ],
   "source": [
    "import json\n",
    "\n",
    "class Object:\n",
    "    def toJSON(self):\n",
    "        return json.dumps(self, default=lambda o: o.__dict__, sort_keys=True, indent=4)\n",
    "\n",
    "me = Object()\n",
    "me.name = \"Onur\"\n",
    "me.age = 35\n",
    "me.dog = Object()\n",
    "me.dog.name = \"Apollo\"\n",
    "# me.dog.age = 5\n",
    "\n",
    "print(me.toJSON())"
   ]
  },
  {
   "cell_type": "code",
   "execution_count": 10,
   "metadata": {},
   "outputs": [
    {
     "data": {
      "text/plain": [
       "'{\"_fname\": \"/foo/bar\"}'"
      ]
     },
     "execution_count": 10,
     "metadata": {},
     "output_type": "execute_result"
    }
   ],
   "source": [
    "from json import JSONEncoder\n",
    "\n",
    "class MyEncoder(JSONEncoder):\n",
    "    def default(self, o):\n",
    "        return o.__dict__\n",
    "    \n",
    "MyEncoder().encode(f)"
   ]
  },
  {
   "cell_type": "code",
   "execution_count": 11,
   "metadata": {},
   "outputs": [
    {
     "data": {
      "text/plain": [
       "<__main__.FileItem at 0x111d347f0>"
      ]
     },
     "execution_count": 11,
     "metadata": {},
     "output_type": "execute_result"
    }
   ],
   "source": [
    "from json import JSONDecoder\n",
    "\n",
    "def from_json(json_object):\n",
    "    if '_fname' in json_object:\n",
    "        return FileItem(json_object['_fname'])\n",
    "\n",
    "f = JSONDecoder(object_hook=from_json).decode('{\"_fname\": \"/foo/bar\"}')\n",
    "f"
   ]
  },
  {
   "cell_type": "code",
   "execution_count": 18,
   "metadata": {},
   "outputs": [
    {
     "name": "stdout",
     "output_type": "stream",
     "text": [
      "1: {\"py/object\": \"__main__.FileItem\", \"_fname\": \"/foo/bar\"}\n",
      "2: <__main__.FileItem object at 0x111f1df30>\n"
     ]
    }
   ],
   "source": [
    "import jsonpickle\n",
    "json_string = jsonpickle.encode(f)     # Seo : string < encoding < object\n",
    "# json_string = jsonpickle.encode(f, indent=4)\n",
    "re_f = jsonpickle.decode(json_string)  # Ods : object < decoding < string\n",
    "\n",
    "print('1:', json_string)\n",
    "print('2:', re_f)"
   ]
  },
  {
   "cell_type": "code",
   "execution_count": 39,
   "metadata": {},
   "outputs": [
    {
     "name": "stdout",
     "output_type": "stream",
     "text": [
      "0: {'_fname': '/foo/bar', '_age': 12}\n",
      "--------------------------------------------------------------------------------\n",
      "1: {\n",
      "    \"py/object\": \"__main__.FileItem\",\n",
      "    \"_fname\": \"/foo/bar\",\n",
      "    \"_age\": 12\n",
      "}\n",
      "2: {\n",
      "    \"py/object\": \"__main__.FileItem\",\n",
      "    \"_fname\": \"/foo/bar\",\n",
      "    \"_age\": 12\n",
      "}\n",
      "--------------------------------------------------------------------------------\n",
      "3: {\"_fname\": \"/foo/bar\", \"_age\": 12}\n",
      "3: {'_fname': '/foo/bar', '_age': 12}\n",
      "3: None\n",
      "--------------------------------------------------------------------------------\n",
      "4:      __module__                __main__\n",
      "4:      __init__                  <function FileItem.__init__ at 0x1142f03a0>\n",
      "4:      __repr__                  <function FileItem.__repr__ at 0x1142f12d0>\n",
      "4:      __str__                   <function FileItem.__str__ at 0x1142f2e60>\n",
      "4:      __dict__                  <attribute '__dict__' of 'FileItem' objects>\n",
      "4:      __weakref__               <attribute '__weakref__' of 'FileItem' objects>\n",
      "4:      __doc__                   None\n",
      "--------------------------------------------------------------------------------\n"
     ]
    }
   ],
   "source": [
    "import os\n",
    "import jsonpickle\n",
    "import time\n",
    "\n",
    "file_name = '../data/00_1.FileItem.json'\n",
    "\n",
    "class FileItem:\n",
    "    def __init__(self, fname, age):\n",
    "        self._fname = fname\n",
    "        self._age = age\n",
    "\n",
    "    def __repr__(self):\n",
    "        return jsonpickle.encode(self.__dict__)\n",
    "\n",
    "    def __str__(self):\n",
    "        return jsonpickle.encode(self.__dict__)\n",
    "\n",
    "obj1 = FileItem('/foo/bar', 12)\n",
    "print('0:', vars(obj1))\n",
    "print('-'*80)\n",
    "\n",
    "with open(file_name, 'wt') as f:\n",
    "    f.write(jsonpickle.encode(obj1))\n",
    "time.sleep(1)\n",
    "with open(file_name, 'rt') as f:\n",
    "    obj2 = jsonpickle.decode(f.read())\n",
    "\n",
    "print('1:', jsonpickle.encode(obj1, indent=4))\n",
    "print('2:', jsonpickle.encode(obj2, indent=4))\n",
    "print('-'*80)\n",
    "\n",
    "print('3:', obj1)\n",
    "print('3:', obj2.__dict__)\n",
    "print('3:', obj2.__weakref__)\n",
    "print('-'*80)\n",
    "\n",
    "for key, value in FileItem.__dict__.items():\n",
    "    print(f'4:      {key:<25} {value}')\n",
    "print('-'*80)\n",
    "\n",
    "# remove file\n",
    "os.remove(file_name)"
   ]
  },
  {
   "cell_type": "code",
   "execution_count": 44,
   "metadata": {},
   "outputs": [
    {
     "name": "stdout",
     "output_type": "stream",
     "text": [
      "1: {'_message': 'Hello, FileItem'}\n",
      "2: {\"_fname\": \"tasks.txt\"}\n",
      "3: {\"py/object\": \"__main__.FileItem\", \"_fname\": \"tasks.txt\", \"__dict__\": {\"_message\": \"Hello, FileItem\"}}\n"
     ]
    }
   ],
   "source": [
    "class FileItem(dict):\n",
    "    def __init__(self, fname):\n",
    "        self._message = 'Hello, FileItem'\n",
    "        dict.__init__(self, _fname=fname)\n",
    "\n",
    "    def to_json(self):\n",
    "        return self._message # or how you want it to be serialized\n",
    "\n",
    "f = FileItem('tasks.txt')\n",
    "print('1:', vars(f))\n",
    "print('2:', json.dumps(f))  #No need to change anything here\n",
    "print('3:', jsonpickle.encode(f))"
   ]
  },
  {
   "cell_type": "code",
   "execution_count": null,
   "metadata": {},
   "outputs": [],
   "source": [
    "# TODO: reading\n",
    "from json import JSONEncoder\n",
    "\n",
    "def _default(self, obj):\n",
    "    return getattr(obj.__class__, \"to_json\", _default.default)(obj)\n",
    "\n",
    "_default.default = JSONEncoder().default\n",
    "JSONEncoder.default = _default\n"
   ]
  },
  {
   "cell_type": "code",
   "execution_count": null,
   "metadata": {},
   "outputs": [],
   "source": [
    "# TODO: reading\n",
    "import json\n",
    "_fallback = json._default_encoder.default\n",
    "json._default_encoder.default = lambda obj: getattr(obj.__class__,  \"to_json\", _fallback)(obj)"
   ]
  },
  {
   "cell_type": "code",
   "execution_count": 48,
   "metadata": {},
   "outputs": [
    {
     "name": "stdout",
     "output_type": "stream",
     "text": [
      "1: {\"_fname\": \"/foo/bar\", \"_age\": 12}\n",
      "2: {\"_fname\": \"/foo/bar\", \"_age\": 12}\n",
      "3: {\"_fname\": \"/foo/bar\", \"_age\": 12}\n",
      "4: {\"_fname\": \"/foo/bar\", \"_age\": 1234}\n"
     ]
    }
   ],
   "source": [
    "import json\n",
    "\n",
    "class JsonSerializable(object):\n",
    "    def toJson(self):\n",
    "        return json.dumps(self.__dict__)\n",
    "\n",
    "    def __repr__(self):\n",
    "        return self.toJson()\n",
    "    \n",
    "    def __str__(self):\n",
    "        return self.toJson()\n",
    "\n",
    "\n",
    "class FileItem(JsonSerializable):\n",
    "    def __init__(self, fname, age):\n",
    "        self._fname = fname\n",
    "        self._age = age\n",
    "\n",
    "class FileItem2:\n",
    "    def __init__(self, fname, age):\n",
    "        self._fname = fname\n",
    "        self._age = age\n",
    "\n",
    "f = FileItem('/foo/bar', 12)\n",
    "print('1:', f)\n",
    "print('2:', str(f))\n",
    "print('3:', f.toJson())\n",
    "\n",
    "f2 = FileItem2('/foo/bar', 1234)\n",
    "print('4:', json.dumps(f2, default=vars))\n"
   ]
  },
  {
   "cell_type": "code",
   "execution_count": 46,
   "metadata": {},
   "outputs": [
    {
     "name": "stdout",
     "output_type": "stream",
     "text": [
      "{\n",
      "  \"a\": \"A\",\n",
      "  \"b\": [\n",
      "    {\n",
      "      \"ab\": {\n",
      "        \"b\": \"B\",\n",
      "        \"i\": \"I\",\n",
      "        \"y\": \"y\"\n",
      "      }\n",
      "    }\n",
      "  ],\n",
      "  \"c\": {\n",
      "    \"c\": \"YES\"\n",
      "  },\n",
      "  \"i\": \"I\"\n",
      "}\n"
     ]
    }
   ],
   "source": [
    "import json\n",
    "import inspect\n",
    "\n",
    "class ObjectEncoder(json.JSONEncoder):\n",
    "    def default(self, obj):\n",
    "        if hasattr(obj, \"to_json\"):\n",
    "            return self.default(obj.to_json())\n",
    "        elif hasattr(obj, \"__dict__\"):\n",
    "            d = dict(\n",
    "                (key, value)\n",
    "                for key, value in inspect.getmembers(obj)\n",
    "                if not key.startswith(\"__\")\n",
    "                and not inspect.isabstract(value)\n",
    "                and not inspect.isbuiltin(value)\n",
    "                and not inspect.isfunction(value)\n",
    "                and not inspect.isgenerator(value)\n",
    "                and not inspect.isgeneratorfunction(value)\n",
    "                and not inspect.ismethod(value)\n",
    "                and not inspect.ismethoddescriptor(value)\n",
    "                and not inspect.isroutine(value)\n",
    "            )\n",
    "            return self.default(d)\n",
    "        return obj\n",
    "\n",
    "class C(object):\n",
    "    c = \"NO\"\n",
    "    def to_json(self):\n",
    "        return {\"c\": \"YES\"}\n",
    "\n",
    "class B(object):\n",
    "    b = \"B\"\n",
    "    i = \"I\"\n",
    "    def __init__(self, y):\n",
    "        self.y = y\n",
    "        \n",
    "    def f(self):\n",
    "        print(\"f\")\n",
    "\n",
    "class A(B):\n",
    "    a = \"A\"\n",
    "    def __init__(self):\n",
    "        self.b = [{\"ab\": B(\"y\")}]\n",
    "        self.c = C()\n",
    "\n",
    "print(json.dumps(A(), cls=ObjectEncoder, indent=2, sort_keys=True))\n"
   ]
  },
  {
   "cell_type": "code",
   "execution_count": 51,
   "metadata": {},
   "outputs": [
    {
     "name": "stdout",
     "output_type": "stream",
     "text": [
      "{\n",
      "    \"id\": 1,\n",
      "    \"name\": \"John Doe\",\n",
      "    \"email\": \"john@doe.net\",\n",
      "    \"company\": {\n",
      "        \"id\": 1,\n",
      "        \"name\": \"Example Ltd\"\n",
      "    }\n",
      "}\n"
     ]
    }
   ],
   "source": [
    "import json\n",
    "from dataclasses import dataclass\n",
    "\n",
    "\n",
    "@dataclass\n",
    "class Company:\n",
    "    id: int\n",
    "    name: str\n",
    "\n",
    "@dataclass\n",
    "class User:\n",
    "    id: int\n",
    "    name: str\n",
    "    email: str\n",
    "    company: Company\n",
    "\n",
    "\n",
    "company = Company(id=1, name=\"Example Ltd\")\n",
    "user = User(id=1, name=\"John Doe\", email=\"john@doe.net\", company=company)\n",
    "\n",
    "print('1:', json.dumps(user, default=vars, indent=4))\n"
   ]
  },
  {
   "cell_type": "code",
   "execution_count": 8,
   "metadata": {},
   "outputs": [
    {
     "name": "stdout",
     "output_type": "stream",
     "text": [
      "1: {\n",
      "    \"py/object\": \"__main__.User\",\n",
      "    \"_name\": \"Alice\",\n",
      "    \"_mail\": \"alice@mail.com\"\n",
      "}\n",
      "2: {\"_name\": \"Scott\", \"_mail\": \"scott@mail.com\"}\n",
      "3: {\"_name\": \"William\", \"_mail\": \"william@mail.com\"}\n",
      "4: {\"_name\": \"Tiger\", \"_mail\": \"tiger@mail.com\"}\n"
     ]
    }
   ],
   "source": [
    "import json\n",
    "import jsonpickle\n",
    "\n",
    "class User(object):\n",
    "    def __init__(self, name, mail):\n",
    "        self._name = name\n",
    "        self._mail = mail\n",
    "\n",
    "    def _asdict(self):\n",
    "        return self.__dict__\n",
    "\n",
    "print('1:', jsonpickle.encode(User('Alice', 'alice@mail.com'), indent=4))\n",
    "\n",
    "def default(o):\n",
    "    return o._asdict()\n",
    "\n",
    "print('2:', json.dumps(User('Scott', 'scott@mail.com'), default=default))\n",
    "print('3:', json.dumps(User('William', 'william@mail.com'), default=vars))\n",
    "print('4:', json.dumps(User('Tiger', 'tiger@mail.com'), default=lambda __o: __o.__dict__))\n"
   ]
  },
  {
   "cell_type": "code",
   "execution_count": 9,
   "metadata": {},
   "outputs": [
    {
     "name": "stdout",
     "output_type": "stream",
     "text": [
      "1: {\n",
      "  \"py/object\": \"__main__.User\",\n",
      "  \"_name\": \"Scott\",\n",
      "  \"_mail\": \"scott@mail.com\"\n",
      "}\n",
      "2: <class '__main__.User'>\n",
      "3: User\n"
     ]
    }
   ],
   "source": [
    "import json\n",
    "import jsonpickle\n",
    "\n",
    "user = User('Scott', 'scott@mail.com')\n",
    "print('1:', json.dumps(json.loads(jsonpickle.encode(user)), indent=2))\n",
    "print('2:', user.__class__)\n",
    "print('3:', user.__class__.__name__)"
   ]
  },
  {
   "cell_type": "code",
   "execution_count": 15,
   "metadata": {},
   "outputs": [
    {
     "name": "stdout",
     "output_type": "stream",
     "text": [
      "4: {\n",
      "    \"name\": \"John\",\n",
      "    \"age\": 25,\n",
      "    \"brothers\": [\n",
      "        {},\n",
      "        {\n",
      "            \"name\": \"Jack\",\n",
      "            \"age\": 23,\n",
      "            \"address\": \"NYC\"\n",
      "        },\n",
      "        {\n",
      "            \"name\": \"Alice\",\n",
      "            \"age\": 34,\n",
      "            \"position\": \"CEO\"\n",
      "        }\n",
      "    ]\n",
      "}\n"
     ]
    }
   ],
   "source": [
    "class Object(dict):\n",
    "    def __init__(self, dict_=None):\n",
    "        super().__init__(dict_ or {})\n",
    "\n",
    "    def __getattr__(self, key):\n",
    "        return self[key]\n",
    "\n",
    "    def __setattr__(self, key, value):\n",
    "        self[key] = value\n",
    "\n",
    "# test\n",
    "obj = Object()\n",
    "obj.name = \"John\"\n",
    "obj.age = 25\n",
    "obj.brothers = [\n",
    "    Object(),\n",
    "    Object({'name': 'Jack', 'age': 23, 'address': 'NYC'}),\n",
    "    Object({'name': 'Alice', 'age': 34, 'position': 'CEO'}),\n",
    "]\n",
    "text = json.dumps(obj, indent=4)\n",
    "print('4:', text)"
   ]
  },
  {
   "cell_type": "code",
   "execution_count": 19,
   "metadata": {},
   "outputs": [
    {
     "ename": "KeyError",
     "evalue": "'fname'",
     "output_type": "error",
     "traceback": [
      "\u001b[0;31m---------------------------------------------------------------------------\u001b[0m",
      "\u001b[0;31mKeyError\u001b[0m                                  Traceback (most recent call last)",
      "\u001b[1;32m/Users/kang-air/KANG/_GIT_HUB/python/Python-Cookbook-3rd-edition-JupyterNotebook-Code/Chapter 00/0.00. Hello.ipynb 셀 17\u001b[0m line \u001b[0;36m2\n\u001b[1;32m     <a href='vscode-notebook-cell:/Users/kang-air/KANG/_GIT_HUB/python/Python-Cookbook-3rd-edition-JupyterNotebook-Code/Chapter%2000/0.00.%20Hello.ipynb#X22sZmlsZQ%3D%3D?line=19'>20</a>\u001b[0m     \u001b[39m#Repeat for other properties\u001b[39;00m\n\u001b[1;32m     <a href='vscode-notebook-cell:/Users/kang-air/KANG/_GIT_HUB/python/Python-Cookbook-3rd-edition-JupyterNotebook-Code/Chapter%2000/0.00.%20Hello.ipynb#X22sZmlsZQ%3D%3D?line=21'>22</a>\u001b[0m f \u001b[39m=\u001b[39m FileItem(\u001b[39m'\u001b[39m\u001b[39m/foo/bar\u001b[39m\u001b[39m'\u001b[39m)\n\u001b[0;32m---> <a href='vscode-notebook-cell:/Users/kang-air/KANG/_GIT_HUB/python/Python-Cookbook-3rd-edition-JupyterNotebook-Code/Chapter%2000/0.00.%20Hello.ipynb#X22sZmlsZQ%3D%3D?line=22'>23</a>\u001b[0m f\u001b[39m.\u001b[39;49mfname(\u001b[39m'\u001b[39m\u001b[39m/hello/world\u001b[39m\u001b[39m'\u001b[39m)\n\u001b[1;32m     <a href='vscode-notebook-cell:/Users/kang-air/KANG/_GIT_HUB/python/Python-Cookbook-3rd-edition-JupyterNotebook-Code/Chapter%2000/0.00.%20Hello.ipynb#X22sZmlsZQ%3D%3D?line=23'>24</a>\u001b[0m \u001b[39mprint\u001b[39m(\u001b[39m'\u001b[39m\u001b[39m5:\u001b[39m\u001b[39m'\u001b[39m, f)\n",
      "\u001b[1;32m/Users/kang-air/KANG/_GIT_HUB/python/Python-Cookbook-3rd-edition-JupyterNotebook-Code/Chapter 00/0.00. Hello.ipynb 셀 17\u001b[0m line \u001b[0;36m1\n\u001b[1;32m     <a href='vscode-notebook-cell:/Users/kang-air/KANG/_GIT_HUB/python/Python-Cookbook-3rd-edition-JupyterNotebook-Code/Chapter%2000/0.00.%20Hello.ipynb#X22sZmlsZQ%3D%3D?line=9'>10</a>\u001b[0m \u001b[39m@fname\u001b[39m\u001b[39m.\u001b[39mgetter\n\u001b[1;32m     <a href='vscode-notebook-cell:/Users/kang-air/KANG/_GIT_HUB/python/Python-Cookbook-3rd-edition-JupyterNotebook-Code/Chapter%2000/0.00.%20Hello.ipynb#X22sZmlsZQ%3D%3D?line=10'>11</a>\u001b[0m \u001b[39mdef\u001b[39;00m \u001b[39mfname\u001b[39m(\u001b[39mself\u001b[39m):\n\u001b[1;32m     <a href='vscode-notebook-cell:/Users/kang-air/KANG/_GIT_HUB/python/Python-Cookbook-3rd-edition-JupyterNotebook-Code/Chapter%2000/0.00.%20Hello.ipynb#X22sZmlsZQ%3D%3D?line=11'>12</a>\u001b[0m     \u001b[39m# return getattr(self.__class__,  'fname', None)\u001b[39;00m\n\u001b[0;32m---> <a href='vscode-notebook-cell:/Users/kang-air/KANG/_GIT_HUB/python/Python-Cookbook-3rd-edition-JupyterNotebook-Code/Chapter%2000/0.00.%20Hello.ipynb#X22sZmlsZQ%3D%3D?line=12'>13</a>\u001b[0m     \u001b[39mreturn\u001b[39;00m \u001b[39mself\u001b[39;49m[\u001b[39m'\u001b[39;49m\u001b[39mfname\u001b[39;49m\u001b[39m'\u001b[39;49m]\n",
      "\u001b[0;31mKeyError\u001b[0m: 'fname'"
     ]
    }
   ],
   "source": [
    "class FileItem(dict):\n",
    "    def __init__(self, fname):\n",
    "        # self['fname'] = fname\n",
    "        # fname = fname\n",
    "        pass\n",
    "\n",
    "    #fname property\n",
    "    fname: str = property()\n",
    "\n",
    "    @fname.getter\n",
    "    def fname(self):\n",
    "        # return getattr(self.__class__,  'fname', None)\n",
    "        return self['fname']\n",
    "\n",
    "    @fname.setter\n",
    "    def fname(self, value: str):\n",
    "        # setattr(self.__class__, 'fname', value)\n",
    "        self['fname'] = value\n",
    "\n",
    "    #Repeat for other properties\n",
    "\n",
    "f = FileItem('/foo/bar')\n",
    "f.fname('/hello/world')\n",
    "print('5:', f)"
   ]
  },
  {
   "cell_type": "code",
   "execution_count": 21,
   "metadata": {},
   "outputs": [
    {
     "name": "stdout",
     "output_type": "stream",
     "text": [
      "{\n",
      "    \"path\": \"/Users/kang-air/KANG/_GIT_HUB/python/Python-Cookbook-3rd-edition-JupyterNotebook-Code/Chapter 00\",\n",
      "    \"isFile\": false,\n",
      "    \"isDir\": true,\n",
      "    \"mtime\": 1711197986,\n",
      "    \"size\": 0,\n",
      "    \"children\": [\n",
      "        {\n",
      "            \"path\": \"/Users/kang-air/KANG/_GIT_HUB/python/Python-Cookbook-3rd-edition-JupyterNotebook-Code/Chapter 00/0.00. Hello.ipynb\",\n",
      "            \"isFile\": true,\n",
      "            \"isDir\": false,\n",
      "            \"mtime\": 1711209731,\n",
      "            \"size\": 16869\n",
      "        }\n",
      "    ]\n",
      "}"
     ]
    }
   ],
   "source": [
    "import json, sys, os\n",
    "\n",
    "class File:\n",
    "    def __init__(self, path):\n",
    "        self.path = path\n",
    "\n",
    "    def isdir(self):\n",
    "        return os.path.isdir(self.path)\n",
    "\n",
    "    def isfile(self):\n",
    "        return os.path.isfile(self.path)\n",
    "\n",
    "    def children(self):        \n",
    "        return [File(os.path.join(self.path, f)) for f in os.listdir(self.path)]\n",
    "\n",
    "    def getsize(self):        \n",
    "        return os.path.getsize(self.path)\n",
    "\n",
    "    def getModificationTime(self):\n",
    "        return os.path.getmtime(self.path)\n",
    "\n",
    "def _default(o):\n",
    "    d = {}\n",
    "    d['path'] = o.path\n",
    "    d['isFile'] = o.isfile()\n",
    "    d['isDir'] = o.isdir()\n",
    "    d['mtime'] = int(o.getModificationTime())\n",
    "    d['size'] = o.getsize() if o.isfile() else 0\n",
    "    if o.isdir(): d['children'] = o.children()\n",
    "    return d\n",
    "\n",
    "folder = os.path.abspath('.')\n",
    "json.dump(File(folder), sys.stdout, default=_default, indent=4)\n"
   ]
  },
  {
   "cell_type": "code",
   "execution_count": null,
   "metadata": {},
   "outputs": [],
   "source": [
    "import json\n",
    "\n",
    "class Serializer(object):\n",
    "    ''' Serializer.serialize(object) '''\n",
    "    @staticmethod\n",
    "    def serialize(object):\n",
    "        return json.dumps(object, default=lambda o: o.__dict__.values()[0])\n"
   ]
  },
  {
   "cell_type": "code",
   "execution_count": 25,
   "metadata": {},
   "outputs": [
    {
     "name": "stdout",
     "output_type": "stream",
     "text": [
      "1: {\"py/object\": \"__main__.MyCustom\", \"a\": 3, \"b\": 4}\n"
     ]
    },
    {
     "ename": "TypeError",
     "evalue": "MyCustom.from_json() takes 2 positional arguments but 3 were given",
     "output_type": "error",
     "traceback": [
      "\u001b[0;31m---------------------------------------------------------------------------\u001b[0m",
      "\u001b[0;31mTypeError\u001b[0m                                 Traceback (most recent call last)",
      "\u001b[1;32m/Users/kang-air/KANG/_GIT_HUB/python/Python-Cookbook-3rd-edition-JupyterNotebook-Code/Chapter 00/0.00. Hello.ipynb 셀 20\u001b[0m line \u001b[0;36m3\n\u001b[1;32m     <a href='vscode-notebook-cell:/Users/kang-air/KANG/_GIT_HUB/python/Python-Cookbook-3rd-edition-JupyterNotebook-Code/Chapter%2000/0.00.%20Hello.ipynb#X24sZmlsZQ%3D%3D?line=28'>29</a>\u001b[0m \u001b[39m# Two-step loading\u001b[39;00m\n\u001b[1;32m     <a href='vscode-notebook-cell:/Users/kang-air/KANG/_GIT_HUB/python/Python-Cookbook-3rd-edition-JupyterNotebook-Code/Chapter%2000/0.00.%20Hello.ipynb#X24sZmlsZQ%3D%3D?line=29'>30</a>\u001b[0m obj2_dict \u001b[39m=\u001b[39m jsonpickle\u001b[39m.\u001b[39mdecode(json)\n\u001b[0;32m---> <a href='vscode-notebook-cell:/Users/kang-air/KANG/_GIT_HUB/python/Python-Cookbook-3rd-edition-JupyterNotebook-Code/Chapter%2000/0.00.%20Hello.ipynb#X24sZmlsZQ%3D%3D?line=30'>31</a>\u001b[0m obj2 \u001b[39m=\u001b[39m MyCustom\u001b[39m.\u001b[39;49mfrom_json(MyCustom, obj2_dict)\n\u001b[1;32m     <a href='vscode-notebook-cell:/Users/kang-air/KANG/_GIT_HUB/python/Python-Cookbook-3rd-edition-JupyterNotebook-Code/Chapter%2000/0.00.%20Hello.ipynb#X24sZmlsZQ%3D%3D?line=31'>32</a>\u001b[0m \u001b[39mprint\u001b[39m(\u001b[39m'\u001b[39m\u001b[39m2:\u001b[39m\u001b[39m'\u001b[39m, jsonpickle\u001b[39m.\u001b[39mencode(obj2))\n\u001b[1;32m     <a href='vscode-notebook-cell:/Users/kang-air/KANG/_GIT_HUB/python/Python-Cookbook-3rd-edition-JupyterNotebook-Code/Chapter%2000/0.00.%20Hello.ipynb#X24sZmlsZQ%3D%3D?line=33'>34</a>\u001b[0m \u001b[39m# Make sure we have the correct thing\u001b[39;00m\n\u001b[1;32m     <a href='vscode-notebook-cell:/Users/kang-air/KANG/_GIT_HUB/python/Python-Cookbook-3rd-edition-JupyterNotebook-Code/Chapter%2000/0.00.%20Hello.ipynb#X24sZmlsZQ%3D%3D?line=34'>35</a>\u001b[0m \u001b[39m# assert isinstance(obj2, MyCustom)\u001b[39;00m\n\u001b[1;32m     <a href='vscode-notebook-cell:/Users/kang-air/KANG/_GIT_HUB/python/Python-Cookbook-3rd-edition-JupyterNotebook-Code/Chapter%2000/0.00.%20Hello.ipynb#X24sZmlsZQ%3D%3D?line=35'>36</a>\u001b[0m \u001b[39m# assert obj2.__dict__ == obj.__dict__\u001b[39;00m\n",
      "\u001b[0;31mTypeError\u001b[0m: MyCustom.from_json() takes 2 positional arguments but 3 were given"
     ]
    }
   ],
   "source": [
    "# Your custom class\n",
    "class MyCustom(object):\n",
    "    def __json__(self):\n",
    "        return {\n",
    "            'a': self.a,\n",
    "            'b': self.b,\n",
    "            '__python__': 'mymodule.submodule:MyCustom.from_json',\n",
    "        }\n",
    "\n",
    "    to_json = __json__  # supported by simplejson\n",
    "\n",
    "    @classmethod\n",
    "    def from_json(cls, json):\n",
    "        obj = cls()\n",
    "        obj.a = json['a']\n",
    "        obj.b = json['b']\n",
    "        return obj\n",
    "\n",
    "# Dumping and loading\n",
    "import jsonpickle\n",
    "\n",
    "obj = MyCustom()\n",
    "obj.a = 3\n",
    "obj.b = 4\n",
    "\n",
    "json = jsonpickle.encode(obj)\n",
    "print('1:', json)\n",
    "\n",
    "# Two-step loading\n",
    "obj2_dict = jsonpickle.decode(json)\n",
    "obj2 = MyCustom.from_json(MyCustom, obj2_dict)\n",
    "print('2:', jsonpickle.encode(obj2))\n",
    "\n",
    "# Make sure we have the correct thing\n",
    "# assert isinstance(obj2, MyCustom)\n",
    "# assert obj2.__dict__ == obj.__dict__\n"
   ]
  },
  {
   "cell_type": "code",
   "execution_count": 28,
   "metadata": {},
   "outputs": [
    {
     "ename": "AttributeError",
     "evalue": "'str' object has no attribute 'dumps'",
     "output_type": "error",
     "traceback": [
      "\u001b[0;31m---------------------------------------------------------------------------\u001b[0m",
      "\u001b[0;31mAttributeError\u001b[0m                            Traceback (most recent call last)",
      "\u001b[1;32m/Users/kang-air/KANG/_GIT_HUB/python/Python-Cookbook-3rd-edition-JupyterNotebook-Code/Chapter 00/0.00. Hello.ipynb 셀 21\u001b[0m line \u001b[0;36m2\n\u001b[1;32m     <a href='vscode-notebook-cell:/Users/kang-air/KANG/_GIT_HUB/python/Python-Cookbook-3rd-edition-JupyterNotebook-Code/Chapter%2000/0.00.%20Hello.ipynb#X31sZmlsZQ%3D%3D?line=17'>18</a>\u001b[0m         \u001b[39mself\u001b[39m\u001b[39m.\u001b[39m_age \u001b[39m=\u001b[39m age\n\u001b[1;32m     <a href='vscode-notebook-cell:/Users/kang-air/KANG/_GIT_HUB/python/Python-Cookbook-3rd-edition-JupyterNotebook-Code/Chapter%2000/0.00.%20Hello.ipynb#X31sZmlsZQ%3D%3D?line=19'>20</a>\u001b[0m f \u001b[39m=\u001b[39m FileItem(\u001b[39m'\u001b[39m\u001b[39m/foo/bar\u001b[39m\u001b[39m'\u001b[39m, \u001b[39m12\u001b[39m)\n\u001b[0;32m---> <a href='vscode-notebook-cell:/Users/kang-air/KANG/_GIT_HUB/python/Python-Cookbook-3rd-edition-JupyterNotebook-Code/Chapter%2000/0.00.%20Hello.ipynb#X31sZmlsZQ%3D%3D?line=20'>21</a>\u001b[0m f\u001b[39m.\u001b[39;49mserialize()\n",
      "\u001b[1;32m/Users/kang-air/KANG/_GIT_HUB/python/Python-Cookbook-3rd-edition-JupyterNotebook-Code/Chapter 00/0.00. Hello.ipynb 셀 21\u001b[0m line \u001b[0;36m4\n\u001b[1;32m      <a href='vscode-notebook-cell:/Users/kang-air/KANG/_GIT_HUB/python/Python-Cookbook-3rd-edition-JupyterNotebook-Code/Chapter%2000/0.00.%20Hello.ipynb#X31sZmlsZQ%3D%3D?line=2'>3</a>\u001b[0m \u001b[39mdef\u001b[39;00m \u001b[39mserialize\u001b[39m(\u001b[39mself\u001b[39m):\n\u001b[0;32m----> <a href='vscode-notebook-cell:/Users/kang-air/KANG/_GIT_HUB/python/Python-Cookbook-3rd-edition-JupyterNotebook-Code/Chapter%2000/0.00.%20Hello.ipynb#X31sZmlsZQ%3D%3D?line=3'>4</a>\u001b[0m     \u001b[39mreturn\u001b[39;00m json\u001b[39m.\u001b[39;49mdumps(\u001b[39mself\u001b[39m\u001b[39m.\u001b[39m\u001b[39m__dict__\u001b[39m)\n",
      "\u001b[0;31mAttributeError\u001b[0m: 'str' object has no attribute 'dumps'"
     ]
    }
   ],
   "source": [
    "class JsonSerializable(object):\n",
    "\n",
    "    def serialize(self):\n",
    "        return json.dumps(self.__dict__)\n",
    "\n",
    "    def __repr__(self):\n",
    "        return self.serialize()\n",
    "\n",
    "    @staticmethod\n",
    "    def dumper(obj):\n",
    "        if \"serialize\" in dir(obj):\n",
    "            return obj.serialize()\n",
    "        return obj.__dict__\n",
    "\n",
    "class FileItem(JsonSerializable):\n",
    "    def __init__(self, fname, age):\n",
    "        self._fname = fname\n",
    "        self._age = age\n",
    "\n",
    "f = FileItem('/foo/bar', 12)\n",
    "f.serialize()"
   ]
  },
  {
   "cell_type": "code",
   "execution_count": 29,
   "metadata": {},
   "outputs": [
    {
     "name": "stdout",
     "output_type": "stream",
     "text": [
      "{\"bar\": \"baz\"}\n"
     ]
    }
   ],
   "source": [
    "import json\n",
    "\n",
    "class Foo(object):\n",
    "    def __init__(self):\n",
    "        self.bar = 'baz'\n",
    "        self._qux = 'flub'\n",
    "\n",
    "    def somemethod(self):\n",
    "        pass\n",
    "\n",
    "'''\n",
    "The parameter default(obj) is a function that should return a \n",
    "serializable version of obj or raise TypeError. The default \n",
    "default simply raises TypeError. \n",
    "\n",
    "https://docs.python.org/3.4/library/json.html#json.dumps\n",
    "'''\n",
    "def default(instance):\n",
    "    return {k: v\n",
    "            for k, v in vars(instance).items()\n",
    "            if not str(k).startswith('_')}\n",
    "\n",
    "json_foo = json.dumps(Foo(), default=default)\n",
    "assert '{\"bar\": \"baz\"}' == json_foo\n",
    "\n",
    "print(json_foo)\n"
   ]
  },
  {
   "cell_type": "code",
   "execution_count": null,
   "metadata": {},
   "outputs": [],
   "source": [
    "class CustomEncodeCls:\n",
    "    def __init__(self):\n",
    "        self.relevant = 42\n",
    "        self.irrelevant = 37\n",
    "\n",
    "    def __json_encode__(self):\n",
    "        # should return primitive, serializable types like dict, list, int, string, float...\n",
    "        return {'relevant': self.relevant}\n",
    "\n",
    "    def __json_decode__(self, **attrs):\n",
    "        # should initialize all properties; note that __init__ is not called implicitly\n",
    "        self.relevant = attrs['relevant']\n",
    "        self.irrelevant = 12\n"
   ]
  },
  {
   "cell_type": "code",
   "execution_count": null,
   "metadata": {},
   "outputs": [],
   "source": [
    "'''\n",
    "Created on 2020-09-03\n",
    "\n",
    "@author: wf\n",
    "'''\n",
    "import json\n",
    "\n",
    "class JSONAble(object):\n",
    "    '''\n",
    "    mixin to allow classes to be JSON serializable see\n",
    "    https://stackoverflow.com/questions/3768895/how-to-make-a-class-json-serializable\n",
    "    '''\n",
    "\n",
    "    def __init__(self):\n",
    "        '''\n",
    "        Constructor\n",
    "        '''\n",
    "    \n",
    "    def toJSON(self):\n",
    "        return json.dumps(self, default=lambda o: o.__dict__, \n",
    "            sort_keys=True, indent=4)\n",
    "        \n",
    "    def getValue(self,v):\n",
    "        if (hasattr(v, \"asJSON\")):\n",
    "            return v.asJSON()\n",
    "        elif type(v) is dict:\n",
    "            return self.reprDict(v)\n",
    "        elif type(v) is list:\n",
    "            vlist=[]\n",
    "            for vitem in v:\n",
    "                vlist.append(self.getValue(vitem))\n",
    "            return vlist\n",
    "        else:   \n",
    "            return v\n",
    "    \n",
    "    def reprDict(self,srcDict):\n",
    "        '''\n",
    "        get my dict elements\n",
    "        '''\n",
    "        d = dict()\n",
    "        for a, v in srcDict.items():\n",
    "            d[a]=self.getValue(v)\n",
    "        return d\n",
    "    \n",
    "    def asJSON(self):\n",
    "        '''\n",
    "        recursively return my dict elements\n",
    "        '''\n",
    "        return self.reprDict(self.__dict__)"
   ]
  },
  {
   "cell_type": "code",
   "execution_count": null,
   "metadata": {},
   "outputs": [],
   "source": [
    "def testJsonAble(self):\n",
    "    family=Family(\"The Flintstones\")\n",
    "    family.add(Person(\"Fred\",\"Flintstone\")) \n",
    "    family.add(Person(\"Wilma\",\"Flintstone\"))\n",
    "    json1=family.toJSON()\n",
    "    json2=family.asJSON()\n",
    "    print(json1)\n",
    "    print(json2)\n",
    "\n",
    "class Family(JSONAble):\n",
    "    def __init__(self,name):\n",
    "        self.name=name\n",
    "        self.members={}\n",
    "    \n",
    "    def add(self,person):\n",
    "        self.members[person.lastName+\",\"+person.firstName]=person\n",
    "\n",
    "class Person(JSONAble):\n",
    "    def __init__(self,firstName,lastName):\n",
    "        self.firstName=firstName\n",
    "        self.lastName=lastName\n"
   ]
  },
  {
   "cell_type": "code",
   "execution_count": 30,
   "metadata": {},
   "outputs": [
    {
     "name": "stdout",
     "output_type": "stream",
     "text": [
      "1: {\n",
      "    \"name\": \"John Doe\",\n",
      "    \"age\": 42\n",
      "}\n"
     ]
    }
   ],
   "source": [
    "#!/usr/bin/env python3\n",
    "\n",
    "import json\n",
    "from dataclasses import dataclass\n",
    "\n",
    "@dataclass\n",
    "class Person:\n",
    "    first: str\n",
    "    last: str\n",
    "    age: int\n",
    "\n",
    "    @property\n",
    "    def __json__(self):\n",
    "        return {\n",
    "            \"name\": f\"{self.first} {self.last}\",\n",
    "            \"age\": self.age\n",
    "        }\n",
    "\n",
    "john = Person(\"John\", \"Doe\", 42)\n",
    "print('1:', json.dumps(john, indent=4, default=lambda x: x.__json__))\n"
   ]
  },
  {
   "cell_type": "code",
   "execution_count": 33,
   "metadata": {},
   "outputs": [
    {
     "name": "stdout",
     "output_type": "stream",
     "text": [
      "1: {\"_id\": 1, \"_value\": \"foo\"}\n",
      "2: {\"py/object\": \"__main__.DataModel\", \"_id\": 2, \"_value\": \"bar\"}\n"
     ]
    }
   ],
   "source": [
    "import jsonpickle\n",
    "\n",
    "class DataModel:\n",
    "    def __init__(self, id, value):\n",
    "        self._id = id\n",
    "        self._value = value\n",
    "\n",
    "    def __json__(self):\n",
    "        return jsonpickle.encode(self.__dict__)\n",
    "\n",
    "print('1:', DataModel(1, 'foo').__json__())\n",
    "print('2:', jsonpickle.encode(DataModel(2, 'bar')))"
   ]
  },
  {
   "cell_type": "code",
   "execution_count": null,
   "metadata": {},
   "outputs": [],
   "source": [
    "def getSerializable(doc):\n",
    "    # check if it's a list\n",
    "    if isinstance(doc, list):\n",
    "        for i, val in enumerate(doc):\n",
    "            doc[i] = getSerializable(doc[i])\n",
    "        return doc\n",
    "\n",
    "    # check if it's a dict\n",
    "    if isinstance(doc, dict):\n",
    "        for key in doc.keys():\n",
    "            doc[key] = getSerializable(doc[key])\n",
    "        return doc\n",
    "\n",
    "    # Process ObjectId\n",
    "    # if isinstance(doc, ObjectId):\n",
    "    if isinstance(doc, str):\n",
    "        doc = str(doc)\n",
    "        return doc\n",
    "\n",
    "    # Use any other custom serializting stuff here...\n",
    "\n",
    "    # For the rest of stuff\n",
    "    return doc\n",
    "\n"
   ]
  },
  {
   "cell_type": "code",
   "execution_count": null,
   "metadata": {},
   "outputs": [],
   "source": [
    "class DObject(json.JSONEncoder):\n",
    "    def delete_not_related_keys(self, _dict):\n",
    "        for key in [\"skipkeys\", \"ensure_ascii\", \"check_circular\", \"allow_nan\", \"sort_keys\", \"indent\"]:\n",
    "            try:\n",
    "                del _dict[key]\n",
    "            except:\n",
    "                continue\n",
    "\n",
    "    def default(self, o):\n",
    "        if hasattr(o, '__dict__'):\n",
    "            my_dict = o.__dict__.copy()\n",
    "            self.delete_not_related_keys(my_dict)\n",
    "            return my_dict\n",
    "        else:\n",
    "            return o\n",
    "\n",
    "a = DObject()\n",
    "a.name = 'abdul wahid'\n",
    "b = DObject()\n",
    "b.name = a\n",
    "\n",
    "print(json.dumps(b, cls=DObject))\n"
   ]
  },
  {
   "cell_type": "code",
   "execution_count": null,
   "metadata": {},
   "outputs": [],
   "source": [
    "def sterilize(obj):\n",
    "    \"\"\"Make an object more ameniable to dumping as json\n",
    "    \"\"\"\n",
    "    if type(obj) in (str, float, int, bool, type(None)):\n",
    "        return obj\n",
    "    elif isinstance(obj, dict):\n",
    "        return {k: sterilize(v) for k, v in obj.items()}\n",
    "    list_ret = []\n",
    "    dict_ret = {}\n",
    "    for a in dir(obj):\n",
    "        if a == '__iter__' and callable(obj.__iter__):\n",
    "            list_ret.extend([sterilize(v) for v in obj])\n",
    "        elif a == '__dict__':\n",
    "            dict_ret.update({k: sterilize(v) for k, v in obj.__dict__.items() if k not in ['__module__', '__dict__', '__weakref__', '__doc__']})\n",
    "        elif a not in ['__doc__', '__module__']:\n",
    "            aval = getattr(obj, a)\n",
    "            if type(aval) in (str, float, int, bool, type(None)):\n",
    "                dict_ret[a] = aval\n",
    "            elif a != '__class__' and a != '__objclass__' and isinstance(aval, type):\n",
    "                dict_ret[a] = sterilize(aval)\n",
    "    if len(list_ret) == 0:\n",
    "        if len(dict_ret) == 0:\n",
    "            return repr(obj)\n",
    "        return dict_ret\n",
    "    else:\n",
    "        if len(dict_ret) == 0:\n",
    "            return list_ret\n",
    "    return (list_ret, dict_ret)\n"
   ]
  },
  {
   "cell_type": "code",
   "execution_count": null,
   "metadata": {},
   "outputs": [],
   "source": [
    "class Serializer(object):\n",
    "    @staticmethod\n",
    "    def serialize(obj):\n",
    "        def check(o):\n",
    "            for k, v in o.__dict__.items():\n",
    "                try:\n",
    "                    _ = json.dumps(v)\n",
    "                    o.__dict__[k] = v\n",
    "                except TypeError:\n",
    "                    o.__dict__[k] = str(v)\n",
    "            return o\n",
    "        return json.dumps(check(obj).__dict__, indent=2)\n"
   ]
  },
  {
   "cell_type": "code",
   "execution_count": null,
   "metadata": {},
   "outputs": [],
   "source": []
  },
  {
   "cell_type": "code",
   "execution_count": 34,
   "metadata": {},
   "outputs": [
    {
     "name": "stdout",
     "output_type": "stream",
     "text": [
      "Hello, world!!\n"
     ]
    }
   ],
   "source": [
    "print('Hello, world!!')"
   ]
  }
 ],
 "metadata": {
  "kernelspec": {
   "display_name": "first-py310",
   "language": "python",
   "name": "python3"
  },
  "language_info": {
   "codemirror_mode": {
    "name": "ipython",
    "version": 3
   },
   "file_extension": ".py",
   "mimetype": "text/x-python",
   "name": "python",
   "nbconvert_exporter": "python",
   "pygments_lexer": "ipython3",
   "version": "3.10.9"
  }
 },
 "nbformat": 4,
 "nbformat_minor": 2
}
