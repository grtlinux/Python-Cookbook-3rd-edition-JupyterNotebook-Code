{
 "cells": [
  {
   "cell_type": "markdown",
   "metadata": {},
   "source": [
    "### 0.08. Freezing a movie frame with a painting effect"
   ]
  },
  {
   "cell_type": "code",
   "execution_count": 2,
   "metadata": {},
   "outputs": [
    {
     "name": "stdout",
     "output_type": "stream",
     "text": [
      "moviepy                   1.0.3\n"
     ]
    }
   ],
   "source": [
    "! pip list | grep -i moviepy"
   ]
  },
  {
   "cell_type": "code",
   "execution_count": null,
   "metadata": {},
   "outputs": [],
   "source": [
    "\"\"\" requires scikit-image installed (for vfx.painting) \"\"\"\n",
    " \n",
    "from moviepy.editor import *\n",
    "\n",
    "# WE TAKE THE SUBCLIPS WHICH ARE 2 SECONDS BEFORE & AFTER THE FREEZE\n",
    "\n",
    "charade = VideoFileClip(\"../../videos/charade.mp4\")\n",
    "tfreeze = cvsecs(19.21) # Time of the freeze, 19'21\n",
    "\n",
    "# when using several subclips of a same clip, it can be faster\n",
    "# to create 'coreaders' of the clip (=other entrance points).\n",
    "clip_before = charade.coreader().subclip(tfreeze -2,tfreeze)\n",
    "clip_after = charade.coreader().subclip(tfreeze ,tfreeze +2)\n",
    "\n",
    "\n",
    "# THE FRAME TO FREEZE\n",
    "\n",
    "im_freeze = charade.to_ImageClip(tfreeze)\n",
    "painting = (charade.fx( vfx.painting, saturation = 1.6,black = 0.006)\n",
    "                   .to_ImageClip(tfreeze))\n",
    "                 \n",
    "txt = TextClip('Audrey',font='Amiri-regular',fontsize=35)\n",
    "\n",
    "painting_txt = (CompositeVideoClip([painting,txt.set_pos((10,180))])\n",
    "                   .add_mask()\n",
    "                   .set_duration(3)\n",
    "                   .crossfadein( 0.5)\n",
    "                   .crossfadeout( 0.5))\n",
    "\n",
    "# FADEIN/FADEOUT EFFECT ON THE PAINTED IMAGE\n",
    "\n",
    "painting_fading = CompositeVideoClip([im_freeze,painting_txt])\n",
    "\n",
    "# FINAL CLIP AND RENDERING\n",
    "\n",
    "final_clip =  concatenate_videoclips([ clip_before,\n",
    "                            painting_fading.set_duration(3),\n",
    "                            clip_after])\n",
    "\n",
    "final_clip.write_videofile('../../audrey.avi',fps=charade.fps,\n",
    "                        codec = \"mpeg4\", audio_bitrate=\"3000k\")"
   ]
  }
 ],
 "metadata": {
  "kernelspec": {
   "display_name": "first-py310",
   "language": "python",
   "name": "python3"
  },
  "language_info": {
   "codemirror_mode": {
    "name": "ipython",
    "version": 3
   },
   "file_extension": ".py",
   "mimetype": "text/x-python",
   "name": "python",
   "nbconvert_exporter": "python",
   "pygments_lexer": "ipython3",
   "version": "3.10.9"
  }
 },
 "nbformat": 4,
 "nbformat_minor": 2
}
