{
 "cells": [
  {
   "cell_type": "markdown",
   "metadata": {},
   "source": [
    "### 1.06. Mapping Keys to Multiple Values in a Dictionary"
   ]
  },
  {
   "cell_type": "code",
   "execution_count": 1,
   "metadata": {},
   "outputs": [
    {
     "name": "stdout",
     "output_type": "stream",
     "text": [
      "a 1\n",
      "a 2\n",
      "a 3\n",
      "b 4\n",
      "b 5\n",
      "a 1\n",
      "a 2\n",
      "a 3\n",
      "b 4\n",
      "b 5\n"
     ]
    }
   ],
   "source": [
    "d = {\n",
    "    'a':[1,2,3],\n",
    "    'b':[4,5]\n",
    "}\n",
    "\n",
    "e = {\n",
    "    'a':{1,2,3},\n",
    "    'b':{4,5}\n",
    "}\n",
    "\n",
    "for key, value in d.items():\n",
    "    for i in value:\n",
    "        print(key, i)\n",
    "        \n",
    "for key, value in e.items():\n",
    "    for i in value:\n",
    "        print(key,i)"
   ]
  },
  {
   "cell_type": "code",
   "execution_count": 2,
   "metadata": {},
   "outputs": [
    {
     "name": "stdout",
     "output_type": "stream",
     "text": [
      "defaultdict(<class 'list'>, {'a': [1, 2, 3], 'b': [4, 5]})\n"
     ]
    }
   ],
   "source": [
    "from collections import defaultdict \n",
    "\n",
    "d = defaultdict(list)\n",
    "\n",
    "d['a'].append(1)\n",
    "d['a'].append(2)\n",
    "d['a'].append(3)\n",
    "d['b'].append(4)\n",
    "d['b'].append(5)\n",
    "\n",
    "print(d)"
   ]
  },
  {
   "cell_type": "code",
   "execution_count": 4,
   "metadata": {},
   "outputs": [
    {
     "name": "stdout",
     "output_type": "stream",
     "text": [
      "{'a': [1, 2, 3], 'b': [4, 5]}\n"
     ]
    }
   ],
   "source": [
    "d = {}\n",
    "d.setdefault('a',[]).append(1)\n",
    "d.setdefault('a',[]).append(2)\n",
    "d.setdefault('a',[]).append(3)\n",
    "d.setdefault('b',[]).append(4)\n",
    "d.setdefault('b',[]).append(5)\n",
    "\n",
    "print(d)"
   ]
  },
  {
   "cell_type": "code",
   "execution_count": 7,
   "metadata": {
    "scrolled": true
   },
   "outputs": [
    {
     "name": "stdout",
     "output_type": "stream",
     "text": [
      "a [1, 2, 3]\n",
      "b [4, 5]\n",
      "{'a': [1, 2, 3], 'b': [4, 5]}\n"
     ]
    }
   ],
   "source": [
    "# pairs = [('a',1),('a',2),('a',3),('b',4),('b',5)]\n",
    "pairs = {'a': [1, 2, 3], 'b': [4, 5]}\n",
    "\n",
    "d = {}\n",
    "\n",
    "for key,value in pairs.items():\n",
    "    print(key, value)\n",
    "    if key not in d:\n",
    "        d[key] = []\n",
    "    for val in value:\n",
    "        d[key].append(val)\n",
    "    \n",
    "print(d)"
   ]
  },
  {
   "cell_type": "code",
   "execution_count": 9,
   "metadata": {},
   "outputs": [
    {
     "name": "stdout",
     "output_type": "stream",
     "text": [
      "{'a': [1, 2, 3], 'b': [4, 5]}\n"
     ]
    }
   ],
   "source": [
    "d = {}\n",
    "for key, value in pairs.items():\n",
    "    for val in value:\n",
    "        d.setdefault(key,[]).append(val)\n",
    "print(d)"
   ]
  },
  {
   "cell_type": "code",
   "execution_count": 10,
   "metadata": {
    "collapsed": true
   },
   "outputs": [
    {
     "name": "stdout",
     "output_type": "stream",
     "text": [
      "Hello World!\n"
     ]
    }
   ],
   "source": [
    "print('Hello World!')"
   ]
  }
 ],
 "metadata": {
  "kernelspec": {
   "display_name": "first-py310",
   "language": "python",
   "name": "python3"
  },
  "language_info": {
   "codemirror_mode": {
    "name": "ipython",
    "version": 3
   },
   "file_extension": ".py",
   "mimetype": "text/x-python",
   "name": "python",
   "nbconvert_exporter": "python",
   "pygments_lexer": "ipython3",
   "version": "3.10.9"
  }
 },
 "nbformat": 4,
 "nbformat_minor": 2
}
