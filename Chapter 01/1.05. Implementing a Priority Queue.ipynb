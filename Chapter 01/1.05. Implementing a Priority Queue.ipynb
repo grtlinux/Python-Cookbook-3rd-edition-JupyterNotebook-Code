{
 "cells": [
  {
   "cell_type": "markdown",
   "metadata": {},
   "source": [
    "### 1.05. Implementing a Priority Queue"
   ]
  },
  {
   "cell_type": "code",
   "execution_count": 14,
   "metadata": {},
   "outputs": [
    {
     "name": "stdout",
     "output_type": "stream",
     "text": [
      "bar\n",
      "spam\n",
      "foo\n",
      "grok\n"
     ]
    }
   ],
   "source": [
    "import heapq\n",
    "\n",
    "class PriorityQueue:\n",
    "    def __init__(self):\n",
    "        self._queue = []\n",
    "        self._index = 0\n",
    "    def push(self, item, priority):\n",
    "        heapq.heappush(self._queue, (-priority, self._index, item))\n",
    "        self._index += 1\n",
    "    def pop(self):\n",
    "        return heapq.heappop(self._queue)[-1]\n",
    "    \n",
    "class Item:\n",
    "    def __init__(self, name):\n",
    "        self.name = name\n",
    "\n",
    "    def __repr__(self):\n",
    "        return 'Item({!r})'.format(self.name)\n",
    "    \n",
    "    def __str__(self):\n",
    "        return self.name\n",
    "    # <\n",
    "    def __lt__(self, other):\n",
    "        return self.name < other.name\n",
    "    '''\n",
    "    # <=\n",
    "    def __le__(self, other):\n",
    "        return self.name <= other.name\n",
    "    # ==\n",
    "    def __eq__(self, other):\n",
    "        return self.name == other.name\n",
    "    # !=\n",
    "    def __ne__(self, other):\n",
    "        return self.name != other.name\n",
    "    # >\n",
    "    def __gt__(self, other):\n",
    "        return self.name > other.name\n",
    "    # >=\n",
    "    def __ge__(self, other):\n",
    "        return self.name >= other.name\n",
    "    # cmp\n",
    "    def __cmp__(self, other):\n",
    "        return cmp(self.name, other.name)\n",
    "    '''\n",
    "    def __hash__(self):\n",
    "        return hash(self.name)\n",
    "    \n",
    "q = PriorityQueue()       # pop\n",
    "q.push(Item('foo'), 1)    # 3\n",
    "q.push(Item('bar'), 5)    # 1\n",
    "q.push(Item('spam'), 4)   # 2\n",
    "q.push(Item('grok'), 1)   # 4\n",
    "print(q.pop())\n",
    "# Item('bar')\n",
    "print(q.pop())\n",
    "# Item('spam')\n",
    "print(q.pop())\n",
    "# Item('foo')\n",
    "print(q.pop())\n",
    "# Item('grok')"
   ]
  },
  {
   "cell_type": "code",
   "execution_count": 15,
   "metadata": {},
   "outputs": [
    {
     "name": "stdout",
     "output_type": "stream",
     "text": [
      "False\n"
     ]
    }
   ],
   "source": [
    "a = Item('foo')\n",
    "b = Item('bar')\n",
    "print(a < b)"
   ]
  },
  {
   "cell_type": "code",
   "execution_count": 16,
   "metadata": {},
   "outputs": [
    {
     "name": "stdout",
     "output_type": "stream",
     "text": [
      "True\n",
      "True\n"
     ]
    }
   ],
   "source": [
    "a = (1, Item('foo'))\n",
    "b = (5, Item('bar'))\n",
    "print(a < b)\n",
    "\n",
    "c = (1, Item('grok'))\n",
    "print(a < c)"
   ]
  },
  {
   "cell_type": "code",
   "execution_count": 17,
   "metadata": {},
   "outputs": [
    {
     "name": "stdout",
     "output_type": "stream",
     "text": [
      "True\n",
      "True\n"
     ]
    }
   ],
   "source": [
    "a = (1, 0, Item('foo'))\n",
    "b = (5, 1, Item('bar'))\n",
    "c = (1, 2, Item('grok'))\n",
    "print(a < b)\n",
    "\n",
    "print(a < c)"
   ]
  },
  {
   "cell_type": "code",
   "execution_count": 7,
   "metadata": {
    "collapsed": true
   },
   "outputs": [
    {
     "name": "stdout",
     "output_type": "stream",
     "text": [
      "Hello World!\n"
     ]
    }
   ],
   "source": [
    "print('Hello World!')"
   ]
  }
 ],
 "metadata": {
  "kernelspec": {
   "display_name": "first-py310",
   "language": "python",
   "name": "python3"
  },
  "language_info": {
   "codemirror_mode": {
    "name": "ipython",
    "version": 3
   },
   "file_extension": ".py",
   "mimetype": "text/x-python",
   "name": "python",
   "nbconvert_exporter": "python",
   "pygments_lexer": "ipython3",
   "version": "3.10.9"
  }
 },
 "nbformat": 4,
 "nbformat_minor": 2
}
