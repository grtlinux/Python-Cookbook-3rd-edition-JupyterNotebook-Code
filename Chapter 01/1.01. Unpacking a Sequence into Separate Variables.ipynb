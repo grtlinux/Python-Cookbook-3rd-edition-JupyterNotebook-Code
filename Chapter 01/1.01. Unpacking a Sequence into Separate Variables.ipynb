{
 "cells": [
  {
   "cell_type": "markdown",
   "metadata": {},
   "source": [
    "### 1.01. Unpacking a Sequence into Separate Variables"
   ]
  },
  {
   "cell_type": "code",
   "execution_count": 2,
   "metadata": {},
   "outputs": [
    {
     "name": "stdout",
     "output_type": "stream",
     "text": [
      "4\n",
      "5\n",
      "4:5\n"
     ]
    }
   ],
   "source": [
    "p = (4,5)\n",
    "x,y = p\n",
    "\n",
    "print(x)\n",
    "print(y)\n",
    "print(x,y,sep=':')"
   ]
  },
  {
   "cell_type": "code",
   "execution_count": 9,
   "metadata": {},
   "outputs": [
    {
     "name": "stdout",
     "output_type": "stream",
     "text": [
      "ACME\n",
      "50\n",
      "91.1\n",
      "(2012, 12, 21)\n",
      "ACME 50 91.1 (2012, 12, 21)\n",
      "2012\n",
      "12\n",
      "21\n",
      "2012 12 21\n"
     ]
    }
   ],
   "source": [
    "data = ['ACME',50, 91.1, (2012,12,21)]\n",
    "\n",
    "name,share,price,date = data\n",
    "print(name)\n",
    "print(share)\n",
    "print(price)\n",
    "print(date)\n",
    "print(name,share, price, date)\n",
    "\n",
    "name,shares,price,(year,mon,day) = data\n",
    "print(year)\n",
    "print(mon)\n",
    "print(day)\n",
    "print(year,mon,day)"
   ]
  },
  {
   "cell_type": "markdown",
   "metadata": {},
   "source": [
    "NB: If there is a mismatch in the number of elements, an error will occur. Look Below."
   ]
  },
  {
   "cell_type": "code",
   "execution_count": 7,
   "metadata": {},
   "outputs": [
    {
     "name": "stdout",
     "output_type": "stream",
     "text": [
      "4 5\n"
     ]
    }
   ],
   "source": [
    "p = (4,5)\n",
    "x,*_,z = p\n",
    "# p,x,y,z = p\n",
    "print(x,z)"
   ]
  },
  {
   "cell_type": "markdown",
   "metadata": {},
   "source": [
    "Unpacking works with any iterable in Python includings tuples, lists, strings, files, iterators, generators"
   ]
  },
  {
   "cell_type": "code",
   "execution_count": null,
   "metadata": {},
   "outputs": [
    {
     "name": "stdout",
     "output_type": "stream",
     "text": [
      "H\n",
      "e\n",
      "l\n",
      "l\n",
      "o\n"
     ]
    }
   ],
   "source": [
    "s = 'Hello'\n",
    "a,b,c,d,e = s\n",
    "print(a)\n",
    "print(b)\n",
    "print(c)\n",
    "print(d)\n",
    "print(e)"
   ]
  },
  {
   "cell_type": "markdown",
   "metadata": {},
   "source": [
    "NB: even tho there is no synatc in discarding parts of the unpacked elements, you can use throwaway variables like '_' to discard unwated elements. \n",
    "\n",
    "BE CAREFUL to pick variables that are not used anywhere in a code"
   ]
  },
  {
   "cell_type": "code",
   "execution_count": 3,
   "metadata": {},
   "outputs": [
    {
     "name": "stdout",
     "output_type": "stream",
     "text": [
      "50, 91.1\n"
     ]
    }
   ],
   "source": [
    "data = ['ACME',50, 91.1, (2012,12,21)]\n",
    "\n",
    "_, share, price, _ = data\n",
    "\n",
    "print(share, price, sep=', ')"
   ]
  },
  {
   "cell_type": "markdown",
   "metadata": {},
   "source": [
    "# csv -> dict -> json"
   ]
  },
  {
   "cell_type": "code",
   "execution_count": 7,
   "metadata": {},
   "outputs": [],
   "source": [
    "# ! cat ../data/06_4.stocks.csv\n",
    "import csv"
   ]
  },
  {
   "cell_type": "code",
   "execution_count": 11,
   "metadata": {},
   "outputs": [
    {
     "name": "stdout",
     "output_type": "stream",
     "text": [
      "['Symbol', 'Price', 'Date', 'Time', 'Change', 'Volume']\n",
      "['AA', '39.48', '6/11/2007', '9:36am', '-0.18', '181800']\n",
      "['AIG', '71.38', '6/11/2007', '9:36am', '-0.15', '195500']\n",
      "['AXP', '62.58', '6/11/2007', '9:36am', '-0.46', '935000']\n",
      "['BA', '98.31', '6/11/2007', '9:36am', '+0.12', '104800']\n",
      "['', '98.31', '', '9:36am', '', '']\n",
      "['C', '53.08', '6/11/2007', '9:36am', '-0.25', '360900']\n",
      "['CAT', '78.29', '6/11/2007', '9:36am', '-0.23', '225400']\n"
     ]
    }
   ],
   "source": [
    "with open('../data/06_4.stocks.csv', 'rt') as f:\n",
    "    f_csv = csv.reader(f)\n",
    "    print(next(f_csv))   # header\n",
    "    while True:\n",
    "        try:\n",
    "            print(next(f_csv))  # data\n",
    "        except StopIteration:\n",
    "            break"
   ]
  },
  {
   "cell_type": "code",
   "execution_count": 12,
   "metadata": {},
   "outputs": [
    {
     "name": "stdout",
     "output_type": "stream",
     "text": [
      "7 [{'Symbol': 'AA', 'Price': '39.48', 'Date': '6/11/2007', 'Time': '9:36am', 'Change': '-0.18', 'Volume': '181800'}, {'Symbol': 'AIG', 'Price': '71.38', 'Date': '6/11/2007', 'Time': '9:36am', 'Change': '-0.15', 'Volume': '195500'}, {'Symbol': 'AXP', 'Price': '62.58', 'Date': '6/11/2007', 'Time': '9:36am', 'Change': '-0.46', 'Volume': '935000'}, {'Symbol': 'BA', 'Price': '98.31', 'Date': '6/11/2007', 'Time': '9:36am', 'Change': '+0.12', 'Volume': '104800'}, {'Symbol': '', 'Price': '98.31', 'Date': '', 'Time': '9:36am', 'Change': '', 'Volume': ''}, {'Symbol': 'C', 'Price': '53.08', 'Date': '6/11/2007', 'Time': '9:36am', 'Change': '-0.25', 'Volume': '360900'}, {'Symbol': 'CAT', 'Price': '78.29', 'Date': '6/11/2007', 'Time': '9:36am', 'Change': '-0.23', 'Volume': '225400'}]\n",
      "[\n",
      "    {\n",
      "        \"Symbol\": \"AA\",\n",
      "        \"Price\": \"39.48\",\n",
      "        \"Date\": \"6/11/2007\",\n",
      "        \"Time\": \"9:36am\",\n",
      "        \"Change\": \"-0.18\",\n",
      "        \"Volume\": \"181800\"\n",
      "    },\n",
      "    {\n",
      "        \"Symbol\": \"AIG\",\n",
      "        \"Price\": \"71.38\",\n",
      "        \"Date\": \"6/11/2007\",\n",
      "        \"Time\": \"9:36am\",\n",
      "        \"Change\": \"-0.15\",\n",
      "        \"Volume\": \"195500\"\n",
      "    },\n",
      "    {\n",
      "        \"Symbol\": \"AXP\",\n",
      "        \"Price\": \"62.58\",\n",
      "        \"Date\": \"6/11/2007\",\n",
      "        \"Time\": \"9:36am\",\n",
      "        \"Change\": \"-0.46\",\n",
      "        \"Volume\": \"935000\"\n",
      "    },\n",
      "    {\n",
      "        \"Symbol\": \"BA\",\n",
      "        \"Price\": \"98.31\",\n",
      "        \"Date\": \"6/11/2007\",\n",
      "        \"Time\": \"9:36am\",\n",
      "        \"Change\": \"+0.12\",\n",
      "        \"Volume\": \"104800\"\n",
      "    },\n",
      "    {\n",
      "        \"Symbol\": \"\",\n",
      "        \"Price\": \"98.31\",\n",
      "        \"Date\": \"\",\n",
      "        \"Time\": \"9:36am\",\n",
      "        \"Change\": \"\",\n",
      "        \"Volume\": \"\"\n",
      "    },\n",
      "    {\n",
      "        \"Symbol\": \"C\",\n",
      "        \"Price\": \"53.08\",\n",
      "        \"Date\": \"6/11/2007\",\n",
      "        \"Time\": \"9:36am\",\n",
      "        \"Change\": \"-0.25\",\n",
      "        \"Volume\": \"360900\"\n",
      "    },\n",
      "    {\n",
      "        \"Symbol\": \"CAT\",\n",
      "        \"Price\": \"78.29\",\n",
      "        \"Date\": \"6/11/2007\",\n",
      "        \"Time\": \"9:36am\",\n",
      "        \"Change\": \"-0.23\",\n",
      "        \"Volume\": \"225400\"\n",
      "    }\n",
      "]\n"
     ]
    }
   ],
   "source": [
    "with open('../data/06_4.stocks.csv', 'rt') as f:\n",
    "    f_csv = csv.reader(f)\n",
    "    header = next(f_csv)\n",
    "    data = [dict(zip(header, row)) for row in f_csv]\n",
    "    print(len(data), data)\n",
    "\n",
    "    # import pprint\n",
    "    # pprint.pprint(data)\n",
    "    import json\n",
    "    print(json.dumps(data, indent=4))"
   ]
  },
  {
   "cell_type": "code",
   "execution_count": 2,
   "metadata": {},
   "outputs": [
    {
     "name": "stdout",
     "output_type": "stream",
     "text": [
      "{'akash': [10], 'gaurav': [12], 'anand': [14, 41], 'suraj': [20], 'akhil': [25], 'ashish': [30]}\n"
     ]
    }
   ],
   "source": [
    "# hello 1\n",
    "# Python code to convert into dictionary\n",
    "def Convert(tup, di):\n",
    "\tfor a, b in tup:\n",
    "\t\tdi.setdefault(a, []).append(b)\n",
    "\treturn di\n",
    "\n",
    "# Driver Code\n",
    "tups = [(\"akash\", 10), (\"gaurav\", 12), (\"anand\", 14), (\"suraj\", 20), (\"akhil\", 25), (\"ashish\", 30), (\"anand\", 41), ]\n",
    "dictionary = {}\n",
    "print(Convert(tups, dictionary))"
   ]
  },
  {
   "cell_type": "code",
   "execution_count": 4,
   "metadata": {},
   "outputs": [
    {
     "name": "stdout",
     "output_type": "stream",
     "text": [
      "{'Nakul': [93], 'Shivansh': [45, 12], 'Samved': [65, 34], 'Yash': [88], 'Vidit': [70], 'Pradeep': [52]}\n"
     ]
    }
   ],
   "source": [
    "# hello 2\n",
    "# Python code to convert into dictionary\n",
    "list_1 = [(\"Nakul\", 93), (\"Shivansh\", 45), (\"Samved\", 65), (\"Yash\", 88), (\"Vidit\", 70)\n",
    "\t\t  , (\"Pradeep\", 52), (\"Shivansh\", 12), (\"Samved\", 34),]\n",
    "dict_1 = dict()\n",
    "\n",
    "for student, score in list_1:\n",
    "\tdict_1.setdefault(student, []).append(score)\n",
    "print(dict_1)"
   ]
  },
  {
   "cell_type": "code",
   "execution_count": 10,
   "metadata": {},
   "outputs": [
    {
     "name": "stdout",
     "output_type": "stream",
     "text": [
      "{'akash': 10, 'gaurav': 34, 'anand': 14, 'suraj': 20, 'akhil': 25, 'ashish': 30}\n"
     ]
    }
   ],
   "source": [
    "# hello 3\n",
    "# Python code to convert into dictionary\n",
    "def Convert(tup, di):\n",
    "\tdi = dict(tup)\n",
    "\treturn di\n",
    "\t\n",
    "# Driver Code \n",
    "tups = [(\"akash\", 10), (\"gaurav\", 12), (\"anand\", 14), (\"suraj\", 20)\n",
    "\t\t, (\"akhil\", 25), (\"ashish\", 30), (\"gaurav\", 34),]\n",
    "dictionary = {}\n",
    "print (Convert(tups, dictionary))\n",
    "\n",
    "# dic = dict({}.setdefault(nm, []).append(val) for nm, val in tups)\n",
    "# print(dic)\n",
    "# [dic.setdefault('a', []).append(1) for name, value in tups]"
   ]
  },
  {
   "cell_type": "code",
   "execution_count": 11,
   "metadata": {},
   "outputs": [
    {
     "name": "stdout",
     "output_type": "stream",
     "text": [
      "{'Sachin': 10, 'MSD': 7, 'Kohli': 21, 'Rohit': 45}\n"
     ]
    }
   ],
   "source": [
    "# hello 4\n",
    "# Python code to convert into dictionary\n",
    "print(dict([('Sachin', 10), ('MSD', 7), ('Kohli', 18)\n",
    "            , ('Rohit', 45), ('Kohli', 21), ]))"
   ]
  },
  {
   "cell_type": "code",
   "execution_count": 17,
   "metadata": {},
   "outputs": [
    {
     "name": "stdout",
     "output_type": "stream",
     "text": [
      "{'akash': [10], 'gaurav': [12], 'anand': [14], 'suraj': [20], 'akhil': [25], 'ashish': [30]}\n"
     ]
    }
   ],
   "source": [
    "# hello 5\n",
    "from itertools import groupby\n",
    "\n",
    "def convert_to_dict(tuple_list):\n",
    "\t# Group the tuples by their first element (the key)\n",
    "\tgroups = groupby(tuple_list, key=lambda x: x[0])\n",
    "\n",
    "\t# Create an empty dictionary\n",
    "\tdictionary = {}\n",
    "\n",
    "\t# Iterate over the groups\n",
    "\tfor key, group in groups:\n",
    "\t\t# Extract the second element of each tuple in the group and add it to the dictionary as the value for the key\n",
    "\t\tdictionary[key] = [tuple[1] for tuple in group]\n",
    "\n",
    "\treturn dictionary\n",
    "\n",
    "# Test the function\n",
    "tuple_list = [(\"akash\", 10), (\"gaurav\", 12), (\"anand\", 14)\n",
    "\t\t\t  , (\"suraj\", 20), (\"akhil\", 25), (\"ashish\", 30)]\n",
    "print(convert_to_dict(tuple_list)) # {'akash':"
   ]
  },
  {
   "cell_type": "code",
   "execution_count": 13,
   "metadata": {},
   "outputs": [
    {
     "name": "stdout",
     "output_type": "stream",
     "text": [
      "{'akash': [10], 'gaurav': [12], 'anand': [14, 31], 'suraj': [20], 'akhil': [25], 'ashish': [30]}\n"
     ]
    }
   ],
   "source": [
    "# hello 6\n",
    "tups = [(\"akash\", 10), (\"gaurav\", 12), (\"anand\", 14), (\"suraj\", 20)\n",
    "\t\t, (\"akhil\", 25), (\"ashish\", 30), (\"anand\", 31),]\n",
    "dictionary = {}\n",
    "for key, val in tups:\n",
    "\t# dictionary.setdefault(key, val)\n",
    "\tdictionary.setdefault(key, []).append(val)\n",
    "print(dictionary)\n",
    "# This code is contributed by Vinay Pinjala."
   ]
  },
  {
   "cell_type": "code",
   "execution_count": 19,
   "metadata": {},
   "outputs": [
    {
     "name": "stdout",
     "output_type": "stream",
     "text": [
      "{'akash': [10], 'gaurav': [12], 'anand': [14], 'suraj': [20], 'akhil': [25], 'ashish': [30]}\n"
     ]
    }
   ],
   "source": [
    "# hello 7\n",
    "def convert_to_dict(tuple_list):\n",
    "\t# Create an empty dictionary\n",
    "\tdictionary = {}\n",
    "\n",
    "\t# Iterate over each tuple in the list\n",
    "\tfor tuple in tuple_list:\n",
    "\t\t# Check if the key is already in the dictionary\n",
    "\t\tif tuple[0] in dictionary:\n",
    "\t\t\t# If the key is already in the dictionary, append the value to the existing list\n",
    "\t\t\tdictionary[tuple[0]].append(tuple[1])\n",
    "\t\telse:\n",
    "\t\t\t# If the key is not in the dictionary, add it and set the value as a new list\n",
    "\t\t\tdictionary[tuple[0]] = [tuple[1]]\n",
    "\n",
    "\t# Return the completed dictionary\n",
    "\treturn dictionary\n",
    "\n",
    "# Test the function\n",
    "tuple_list = [(\"akash\", 10), (\"gaurav\", 12), (\"anand\", 14), (\"suraj\", 20), (\"akhil\", 25), (\"ashish\", 30)]\n",
    "# {'akash': [10], 'gaurav': [12], 'anand': [14], 'suraj': [20], 'akhil': [25], 'ashish': [30]}\n",
    "print(convert_to_dict(tuple_list))"
   ]
  },
  {
   "cell_type": "code",
   "execution_count": 18,
   "metadata": {},
   "outputs": [
    {
     "name": "stdout",
     "output_type": "stream",
     "text": [
      "{'akash': 10, 'gaurav': 43, 'anand': 14, 'suraj': 20, 'akhil': 25, 'ashish': 30}\n"
     ]
    }
   ],
   "source": [
    "# hello 8\n",
    "def convert_to_dict(tuple_list):\n",
    "\t# Create a dictionary using the dict() constructor and a list comprehension\n",
    "\tdictionary = dict((key, value) for key, value in tuple_list)\n",
    "\n",
    "\t# Return the completed dictionary\n",
    "\treturn dictionary\n",
    "\n",
    "tuple_list = [(\"akash\", 10), (\"gaurav\", 12), (\"anand\", 14), (\"suraj\", 20)\n",
    "\t\t\t  , (\"akhil\", 25), (\"ashish\", 30), (\"gaurav\", 43),]\n",
    "# {'akash': 10, 'gaurav': 12, 'anand': 14, 'suraj': 20, 'akhil': 25, 'ashish': 30}\n",
    "print(convert_to_dict(tuple_list))"
   ]
  },
  {
   "cell_type": "code",
   "execution_count": 21,
   "metadata": {},
   "outputs": [
    {
     "data": {
      "text/plain": [
       "{'a': 1, 'b': 2}"
      ]
     },
     "execution_count": 21,
     "metadata": {},
     "output_type": "execute_result"
    }
   ],
   "source": [
    "# hello 9\n",
    "my_list = [('a', 1), ('b', 2)]\n",
    "dict(my_list)  # to dic automatically"
   ]
  },
  {
   "cell_type": "code",
   "execution_count": 23,
   "metadata": {},
   "outputs": [
    {
     "name": "stdout",
     "output_type": "stream",
     "text": [
      "{'a': [1, 2], 'b': [3]}\n"
     ]
    }
   ],
   "source": [
    "# hello 10\n",
    "mylist = [('a',1),('a',2),('b',3)]    \n",
    "result = {}\n",
    "for tup in mylist:  \n",
    "   result.setdefault(tup[0],[]).append(tup[1])\n",
    "print(result)"
   ]
  },
  {
   "cell_type": "code",
   "execution_count": 26,
   "metadata": {},
   "outputs": [
    {
     "name": "stdout",
     "output_type": "stream",
     "text": [
      "1: {'one': 1, 'two': 2}\n",
      "2: {'one': 1, 'two': 2}\n",
      "3: {'one': 1, 'two': 2}\n",
      "4: {'two': 2, 'one': 1}\n"
     ]
    }
   ],
   "source": [
    "# hello 11\n",
    "print('1:', dict(one=1, two=2))\n",
    "print('2:', dict({'one': 1, 'two': 2}))\n",
    "print('3:', dict(zip(('one', 'two'), (1, 2))))\n",
    "print('4:', dict([['two', 2], ['one', 1]]))"
   ]
  },
  {
   "cell_type": "code",
   "execution_count": 27,
   "metadata": {},
   "outputs": [
    {
     "name": "stdout",
     "output_type": "stream",
     "text": [
      "{'a': [1, 2], 'b': [3, 4]}\n"
     ]
    }
   ],
   "source": [
    "# hello 13\n",
    "from itertools import groupby\n",
    "\n",
    "mylist = [('a', 1), ('b', 3), ('a', 2), ('b', 4)]\n",
    "#mylist = iter([('a', 1), ('b', 3), ('a', 2), ('b', 4)])\n",
    "\n",
    "result = { k : [*map(lambda v: v[1], values)]\n",
    "    for k, values in groupby(sorted(mylist, key=lambda x: x[0]), lambda x: x[0])\n",
    "}\n",
    "\n",
    "print(result)\n",
    "# {'a': [1, 2], 'b': [3, 4]}"
   ]
  },
  {
   "cell_type": "code",
   "execution_count": null,
   "metadata": {},
   "outputs": [],
   "source": []
  },
  {
   "cell_type": "code",
   "execution_count": 12,
   "metadata": {},
   "outputs": [
    {
     "name": "stdout",
     "output_type": "stream",
     "text": [
      "Hello, World!\n"
     ]
    }
   ],
   "source": [
    "print('Hello, World!')"
   ]
  }
 ],
 "metadata": {
  "kernelspec": {
   "display_name": "first-py310",
   "language": "python",
   "name": "python3"
  },
  "language_info": {
   "codemirror_mode": {
    "name": "ipython",
    "version": 3
   },
   "file_extension": ".py",
   "mimetype": "text/x-python",
   "name": "python",
   "nbconvert_exporter": "python",
   "pygments_lexer": "ipython3",
   "version": "3.10.9"
  }
 },
 "nbformat": 4,
 "nbformat_minor": 2
}
