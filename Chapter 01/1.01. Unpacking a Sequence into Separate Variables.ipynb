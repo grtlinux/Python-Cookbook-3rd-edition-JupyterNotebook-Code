{
 "cells": [
  {
   "cell_type": "markdown",
   "metadata": {},
   "source": [
    "### 1.01. Unpacking a Sequence into Separate Variables"
   ]
  },
  {
   "cell_type": "code",
   "execution_count": 8,
   "metadata": {},
   "outputs": [
    {
     "name": "stdout",
     "output_type": "stream",
     "text": [
      "4\n",
      "5\n",
      "4 5\n"
     ]
    }
   ],
   "source": [
    "p = (4,5)\n",
    "x,y = p\n",
    "\n",
    "print(x)\n",
    "print(y)\n",
    "print(x,y)"
   ]
  },
  {
   "cell_type": "code",
   "execution_count": 9,
   "metadata": {},
   "outputs": [
    {
     "name": "stdout",
     "output_type": "stream",
     "text": [
      "ACME\n",
      "50\n",
      "91.1\n",
      "(2012, 12, 21)\n",
      "ACME 50 91.1 (2012, 12, 21)\n",
      "2012\n",
      "12\n",
      "21\n",
      "2012 12 21\n"
     ]
    }
   ],
   "source": [
    "data = ['ACME',50, 91.1, (2012,12,21)]\n",
    "\n",
    "name,share,price,date = data\n",
    "print(name)\n",
    "print(share)\n",
    "print(price)\n",
    "print(date)\n",
    "print(name,share, price, date)\n",
    "\n",
    "name,shares,price,(year,mon,day) = data\n",
    "print(year)\n",
    "print(mon)\n",
    "print(day)\n",
    "print(year,mon,day)"
   ]
  },
  {
   "cell_type": "markdown",
   "metadata": {},
   "source": [
    "NB: If there is a mismatch in the number of elements, an error will occur. Look Below."
   ]
  },
  {
   "cell_type": "code",
   "execution_count": 10,
   "metadata": {},
   "outputs": [
    {
     "ename": "ValueError",
     "evalue": "not enough values to unpack (expected 3, got 2)",
     "output_type": "error",
     "traceback": [
      "\u001b[0;31m---------------------------------------------------------------------------\u001b[0m",
      "\u001b[0;31mValueError\u001b[0m                                Traceback (most recent call last)",
      "\u001b[1;32m/Users/kang-air/KANG/_GIT_HUB/python/Python-Cookbook-3rd-edition-JupyterNotebook-Code/Chapter 01/1.01. Unpacking a Sequence into Separate Variables.ipynb 셀 4\u001b[0m line \u001b[0;36m2\n\u001b[1;32m      <a href='vscode-notebook-cell:/Users/kang-air/KANG/_GIT_HUB/python/Python-Cookbook-3rd-edition-JupyterNotebook-Code/Chapter%2001/1.01.%20Unpacking%20a%20Sequence%20into%20Separate%20Variables.ipynb#W3sZmlsZQ%3D%3D?line=0'>1</a>\u001b[0m p \u001b[39m=\u001b[39m (\u001b[39m4\u001b[39m,\u001b[39m5\u001b[39m)\n\u001b[0;32m----> <a href='vscode-notebook-cell:/Users/kang-air/KANG/_GIT_HUB/python/Python-Cookbook-3rd-edition-JupyterNotebook-Code/Chapter%2001/1.01.%20Unpacking%20a%20Sequence%20into%20Separate%20Variables.ipynb#W3sZmlsZQ%3D%3D?line=1'>2</a>\u001b[0m x,y,z \u001b[39m=\u001b[39m p\n",
      "\u001b[0;31mValueError\u001b[0m: not enough values to unpack (expected 3, got 2)"
     ]
    }
   ],
   "source": [
    "p = (4,5)\n",
    "x,y,z = p\n"
   ]
  },
  {
   "cell_type": "markdown",
   "metadata": {},
   "source": [
    "Unpacking works with any iterable in Python includings tuples, lists, strings, files, iterators, generators"
   ]
  },
  {
   "cell_type": "code",
   "execution_count": null,
   "metadata": {},
   "outputs": [
    {
     "name": "stdout",
     "output_type": "stream",
     "text": [
      "H\n",
      "e\n",
      "l\n",
      "l\n",
      "o\n"
     ]
    }
   ],
   "source": [
    "s = 'Hello'\n",
    "a,b,c,d,e = s\n",
    "print(a)\n",
    "print(b)\n",
    "print(c)\n",
    "print(d)\n",
    "print(e)"
   ]
  },
  {
   "cell_type": "markdown",
   "metadata": {},
   "source": [
    "NB: even tho there is no synatc in discarding parts of the unpacked elements, you can use throwaway variables like '_' to discard unwated elements. \n",
    "\n",
    "BE CAREFUL to pick variables that are not used anywhere in a code"
   ]
  },
  {
   "cell_type": "code",
   "execution_count": 12,
   "metadata": {},
   "outputs": [
    {
     "name": "stdout",
     "output_type": "stream",
     "text": [
      "50\n",
      "91.1\n",
      "50 91.1\n"
     ]
    }
   ],
   "source": [
    "data = ['ACME',50, 91.1, (2012,12,21)]\n",
    "\n",
    "_,share,price,_ = data\n",
    "\n",
    "print(share)\n",
    "print(price)\n",
    "\n",
    "print(share, price)"
   ]
  },
  {
   "cell_type": "markdown",
   "metadata": {},
   "source": [
    "# Hello"
   ]
  },
  {
   "cell_type": "code",
   "execution_count": 11,
   "metadata": {},
   "outputs": [
    {
     "name": "stdout",
     "output_type": "stream",
     "text": [
      "ACME 2012\n"
     ]
    }
   ],
   "source": [
    "data = ['ACME',50, 91.1, (2012,12,21)]\n",
    "name, *_, (year,*_) = data\n",
    "print(name, year)"
   ]
  }
 ],
 "metadata": {
  "kernelspec": {
   "display_name": "first-py310",
   "language": "python",
   "name": "python3"
  },
  "language_info": {
   "codemirror_mode": {
    "name": "ipython",
    "version": 3
   },
   "file_extension": ".py",
   "mimetype": "text/x-python",
   "name": "python",
   "nbconvert_exporter": "python",
   "pygments_lexer": "ipython3",
   "version": "3.10.9"
  }
 },
 "nbformat": 4,
 "nbformat_minor": 2
}
