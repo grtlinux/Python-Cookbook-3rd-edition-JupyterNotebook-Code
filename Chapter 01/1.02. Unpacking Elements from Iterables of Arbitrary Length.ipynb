{
 "cells": [
  {
   "cell_type": "markdown",
   "metadata": {},
   "source": [
    "### 1.02. Unpacking Elements from Iterables of Arbitrary Length"
   ]
  },
  {
   "cell_type": "markdown",
   "metadata": {},
   "source": [
    "Python 3 \"star expressions\" can be used to address unpacking iterables of unknown or very large length.\n",
    "\n",
    "NB: This Jupyter Notebook uses Python 2 and so the Python 3 code is also adapted to Python 2 and the Python 3 code poses synax errors."
   ]
  },
  {
   "cell_type": "code",
   "execution_count": 1,
   "metadata": {},
   "outputs": [],
   "source": [
    "#First example if you need to find the average of the middle grades \n",
    "#Python 3 code\n",
    "def drop_first_last(grades):\n",
    "    first, *middle, last = grades\n",
    "    return avg(middle)"
   ]
  },
  {
   "cell_type": "code",
   "execution_count": 2,
   "metadata": {},
   "outputs": [
    {
     "data": {
      "text/plain": [
       "2.857142857142857"
      ]
     },
     "execution_count": 2,
     "metadata": {},
     "output_type": "execute_result"
    }
   ],
   "source": [
    "#Python 2 code\n",
    "def py2_drop_first_last(grades):\n",
    "    return (float(sum(grades[1:-1]))/(len(grades)))\n",
    "\n",
    "float(py2_drop_first_last([1,2,3,4,5,6,7]))"
   ]
  },
  {
   "cell_type": "code",
   "execution_count": 6,
   "metadata": {},
   "outputs": [
    {
     "data": {
      "text/plain": [
       "('Dave', 'dave@exmple.com', ['773-555-1212', '847-555-1212'])"
      ]
     },
     "execution_count": 6,
     "metadata": {},
     "output_type": "execute_result"
    }
   ],
   "source": [
    "#Python 3 code\n",
    "record = ('Dave','dave@exmple.com','773-555-1212','847-555-1212')\n",
    "name,email,*phone_numbers = record\n",
    "name,email,phone_numbers"
   ]
  },
  {
   "cell_type": "code",
   "execution_count": 8,
   "metadata": {},
   "outputs": [
    {
     "name": "stdout",
     "output_type": "stream",
     "text": [
      "Dave\n",
      "dave@exmple.com\n",
      "('773-555-1212', '847-555-1212')\n"
     ]
    }
   ],
   "source": [
    "#Python 2 code\n",
    "record = ('Dave','dave@exmple.com','773-555-1212','847-555-1212')\n",
    "name = record[0]\n",
    "email = record[1]\n",
    "phone_numbers = record[-2:]\n",
    "\n",
    "print(name)\n",
    "print(email)\n",
    "print(phone_numbers)"
   ]
  },
  {
   "cell_type": "code",
   "execution_count": 9,
   "metadata": {},
   "outputs": [
    {
     "name": "stdout",
     "output_type": "stream",
     "text": [
      "7.142857142857143 3\n"
     ]
    }
   ],
   "source": [
    "#Python 3 code\n",
    "sales_record = [10,8,7,1,9,5,10,3]\n",
    "*trailing_qtrs, current_qtr = sales_record\n",
    "trailing_avg = sum(trailing_qtrs)/len(trailing_qtrs)\n",
    "# return avg_comparison(trailing_avg,current_qtr)\n",
    "print(trailing_avg, current_qtr)\n",
    "\n",
    "# *trailing, current = [10,8,7,1,9,5,10,3]\n",
    "# trailing\n",
    "# current"
   ]
  },
  {
   "cell_type": "code",
   "execution_count": 11,
   "metadata": {},
   "outputs": [
    {
     "name": "stdout",
     "output_type": "stream",
     "text": [
      "6.25 3\n"
     ]
    }
   ],
   "source": [
    "#Python 2 code\n",
    "sales_record = [10,8,7,1,9,5,10,3]\n",
    "trailing = sales_record[0:-1]\n",
    "current = sales_record[-1]\n",
    "trailing_avg = sum(trailing)/(len(sales_record))\n",
    "print(trailing_avg, current)"
   ]
  },
  {
   "cell_type": "code",
   "execution_count": 13,
   "metadata": {},
   "outputs": [
    {
     "name": "stdout",
     "output_type": "stream",
     "text": [
      "foo 1 2\n",
      "bar hello\n",
      "foo 3 4\n"
     ]
    }
   ],
   "source": [
    "records = [\n",
    "    ('foo', 1,2),\n",
    "    ('bar','hello'),     \n",
    "    ('foo',3,4),      \n",
    "          ]\n",
    "\n",
    "def do_foo(x,y):\n",
    "    print('foo',x,y)\n",
    "    \n",
    "def do_bar(s):\n",
    "    print('bar',s)\n",
    "\n",
    "for tag, *args in records:\n",
    "    if tag == 'foo':\n",
    "        do_foo(*args)\n",
    "    elif tag == 'bar':\n",
    "        do_bar(*args)"
   ]
  },
  {
   "cell_type": "code",
   "execution_count": 14,
   "metadata": {},
   "outputs": [
    {
     "name": "stdout",
     "output_type": "stream",
     "text": [
      "foo 1 2\n",
      "bar ('hello',)\n",
      "foo 3 4\n"
     ]
    }
   ],
   "source": [
    "#Python 2\n",
    "records = [\n",
    "    ('foo', 1,2),\n",
    "    ('bar','hello'),     \n",
    "    ('foo',3,4),      \n",
    "          ]\n",
    "\n",
    "def do_foo(x,y):\n",
    "    print('foo',x,y)\n",
    "    \n",
    "def do_bar(s):\n",
    "    print('bar',s)\n",
    "\n",
    "for i in records:\n",
    "    if i[0] == 'foo':\n",
    "        do_foo(i[1],i[2])\n",
    "    elif i[0] == 'bar':\n",
    "        do_bar(i[1:])"
   ]
  },
  {
   "cell_type": "code",
   "execution_count": 15,
   "metadata": {},
   "outputs": [
    {
     "name": "stdout",
     "output_type": "stream",
     "text": [
      "nobody /var/empty /usr/bin/false\n"
     ]
    }
   ],
   "source": [
    "#Python 3\n",
    "\n",
    "line = 'nobody:*:-2:-2:Unprivileged User:/var/empty:/usr/bin/false'\n",
    "uname, *fields, homedir, sh = line.split(':')\n",
    "print(uname, homedir, sh)"
   ]
  },
  {
   "cell_type": "code",
   "execution_count": 16,
   "metadata": {},
   "outputs": [
    {
     "name": "stdout",
     "output_type": "stream",
     "text": [
      "nobody\n",
      "/var/empty\n",
      "/usr/bin/false\n"
     ]
    }
   ],
   "source": [
    "#Python 2\n",
    "\n",
    "line = 'nobody:*:-2:-2:Unprivileged User:/var/empty:/usr/bin/false'\n",
    "\n",
    "list1 = line.split(':')\n",
    "print(list1[0])  # uname\n",
    "print(list1[-2])  # homedir\n",
    "print(list1[-1])  # sh"
   ]
  },
  {
   "cell_type": "code",
   "execution_count": 19,
   "metadata": {},
   "outputs": [
    {
     "name": "stdout",
     "output_type": "stream",
     "text": [
      "ACME 2012\n"
     ]
    }
   ],
   "source": [
    "#Python 3\n",
    "\n",
    "record = ('ACME', 50, 123.45, (12,18,2012))\n",
    "name, *_, (*_,year) = record\n",
    "print(name, year)"
   ]
  },
  {
   "cell_type": "code",
   "execution_count": 20,
   "metadata": {},
   "outputs": [
    {
     "name": "stdout",
     "output_type": "stream",
     "text": [
      "ACME\n",
      "2012\n"
     ]
    }
   ],
   "source": [
    "#Python 2\n",
    "\n",
    "record = ('ACME', 50, 123.45, (12,18,2012))\n",
    "name = record[0]\n",
    "year = record[-1][-1]\n",
    "\n",
    "print(name)\n",
    "print(year)"
   ]
  },
  {
   "cell_type": "code",
   "execution_count": 21,
   "metadata": {},
   "outputs": [
    {
     "name": "stdout",
     "output_type": "stream",
     "text": [
      "1 [10, 7, 4, 5, 9]\n"
     ]
    },
    {
     "data": {
      "text/plain": [
       "36"
      ]
     },
     "execution_count": 21,
     "metadata": {},
     "output_type": "execute_result"
    }
   ],
   "source": [
    "#Python 3 \n",
    "\n",
    "items = [1,10,7,4,5,9]\n",
    "head, *tail = items\n",
    "print(head, tail)\n",
    "\n",
    "def sum2(head,tail):\n",
    "    return head + sum(tail) if tail else head\n",
    "\n",
    "sum2(head,tail)"
   ]
  },
  {
   "cell_type": "code",
   "execution_count": 22,
   "metadata": {},
   "outputs": [
    {
     "name": "stdout",
     "output_type": "stream",
     "text": [
      "1 [10, 7, 4, 5, 9]\n",
      "36\n"
     ]
    }
   ],
   "source": [
    "#Python 2\n",
    "\n",
    "items = [1,10,7,4,5,9]\n",
    "head = items[0]\n",
    "tail = items[1:]\n",
    "print(head, tail)\n",
    "\n",
    "p = 0\n",
    "for i in tail:\n",
    "    p+=i\n",
    "print(head+p)"
   ]
  },
  {
   "cell_type": "code",
   "execution_count": 1,
   "metadata": {
    "collapsed": true
   },
   "outputs": [
    {
     "name": "stdout",
     "output_type": "stream",
     "text": [
      "Hello world\n"
     ]
    }
   ],
   "source": [
    "print('Hello world')"
   ]
  }
 ],
 "metadata": {
  "kernelspec": {
   "display_name": "first-py310",
   "language": "python",
   "name": "python3"
  },
  "language_info": {
   "codemirror_mode": {
    "name": "ipython",
    "version": 3
   },
   "file_extension": ".py",
   "mimetype": "text/x-python",
   "name": "python",
   "nbconvert_exporter": "python",
   "pygments_lexer": "ipython3",
   "version": "3.10.9"
  }
 },
 "nbformat": 4,
 "nbformat_minor": 2
}
