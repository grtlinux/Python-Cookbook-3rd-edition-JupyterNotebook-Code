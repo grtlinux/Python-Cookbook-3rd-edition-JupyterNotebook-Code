{
 "cells": [
  {
   "cell_type": "markdown",
   "metadata": {},
   "source": [
    "### 1.02. Unpacking Elements from Iterables of Arbitrary Length"
   ]
  },
  {
   "cell_type": "markdown",
   "metadata": {},
   "source": [
    "Python 3 \"star expressions\" can be used to address unpacking iterables of unknown or very large length.\n",
    "\n",
    "NB: This Jupyter Notebook uses Python 2 and so the Python 3 code is also adapted to Python 2 and the Python 3 code poses synax errors."
   ]
  },
  {
   "cell_type": "code",
   "execution_count": 7,
   "metadata": {},
   "outputs": [
    {
     "data": {
      "text/plain": [
       "76.0"
      ]
     },
     "execution_count": 7,
     "metadata": {},
     "output_type": "execute_result"
    }
   ],
   "source": [
    "#First example if you need to find the average of the middle grades \n",
    "#Python 3 code\n",
    "def avg(grades):\n",
    "    return sum(grades) / len(grades)\n",
    "\n",
    "def drop_first_last(grades):\n",
    "    first, *middle, last = grades\n",
    "    return avg(middle)\n",
    "\n",
    "drop_first_last([65, 76, 98, 54, 21])"
   ]
  },
  {
   "cell_type": "code",
   "execution_count": 1,
   "metadata": {},
   "outputs": [
    {
     "data": {
      "text/plain": [
       "4.0"
      ]
     },
     "execution_count": 1,
     "metadata": {},
     "output_type": "execute_result"
    }
   ],
   "source": [
    "#Python 2 code\n",
    "def py2_drop_first_last(grades):\n",
    "    return (float(sum(grades[1:-1]))/(len(grades)-2))\n",
    "\n",
    "float(py2_drop_first_last([1,2,3,4,5,6,7]))"
   ]
  },
  {
   "cell_type": "code",
   "execution_count": 2,
   "metadata": {},
   "outputs": [
    {
     "name": "stdout",
     "output_type": "stream",
     "text": [
      "Dave dave@exmple.com ['773-555-1212']\n"
     ]
    }
   ],
   "source": [
    "#Python 3 code\n",
    "record = ('Dave','dave@exmple.com','773-555-1212',)\n",
    "# record = ('Dave','dave@exmple.com','773-555-1212','847-555-1212',)\n",
    "# record = ('Dave','dave@exmple.com','773-555-1212','847-555-1212','123-456-7890')\n",
    "name,email,*phone_numbers = record\n",
    "print(name,email,phone_numbers)"
   ]
  },
  {
   "cell_type": "code",
   "execution_count": 3,
   "metadata": {},
   "outputs": [
    {
     "name": "stdout",
     "output_type": "stream",
     "text": [
      "Dave\n",
      "dave@exmple.com\n",
      "('773-555-1212', '847-555-1212')\n"
     ]
    }
   ],
   "source": [
    "#Python 2 code\n",
    "record = ('Dave','dave@exmple.com','773-555-1212','847-555-1212')\n",
    "name = record[0]\n",
    "email = record[1]\n",
    "phone_numbers = record[-2:]\n",
    "\n",
    "print(name)\n",
    "print(email)\n",
    "print(phone_numbers)"
   ]
  },
  {
   "cell_type": "code",
   "execution_count": 8,
   "metadata": {},
   "outputs": [
    {
     "name": "stdout",
     "output_type": "stream",
     "text": [
      "7.142857142857143 3\n"
     ]
    }
   ],
   "source": [
    "#Python 3 code\n",
    "sales_record = [10,8,7,1,9,5,10,3]\n",
    "*trailing_qtrs, current_qtr = sales_record\n",
    "# trailing_avg = sum(trailing_qtrs)/len(trailing_qtrs)\n",
    "trailing_avg = avg(trailing_qtrs)\n",
    "# return avg_comparison(trailing_avg,current_qtr)\n",
    "print(trailing_avg, current_qtr)\n",
    "\n",
    "# *trailing, current = [10,8,7,1,9,5,10,3]\n",
    "# trailing\n",
    "# current"
   ]
  },
  {
   "cell_type": "code",
   "execution_count": 9,
   "metadata": {},
   "outputs": [
    {
     "name": "stdout",
     "output_type": "stream",
     "text": [
      "7.142857142857143 3\n"
     ]
    }
   ],
   "source": [
    "#Python 2 code\n",
    "sales_record = [10,8,7,1,9,5,10,3]\n",
    "trailing = sales_record[0:-1]\n",
    "current = sales_record[-1]\n",
    "# trailing_avg = sum(trailing)/(len(trailing))\n",
    "trailing_avg = avg(trailing)\n",
    "print(trailing_avg, current)"
   ]
  },
  {
   "cell_type": "code",
   "execution_count": 27,
   "metadata": {},
   "outputs": [
    {
     "name": "stdout",
     "output_type": "stream",
     "text": [
      "foo 1 2\n",
      "bar hello\n",
      "foo 3 4\n"
     ]
    }
   ],
   "source": [
    "records = [\n",
    "    ('foo', 1,2),\n",
    "    ('bar','hello'),     \n",
    "    ('foo',3,4),      \n",
    "]\n",
    "\n",
    "def foo(x,y):\n",
    "    print('foo',x,y)\n",
    "    \n",
    "def bar(s):\n",
    "    print('bar',s)\n",
    "\n",
    "def do_foo(x,y):\n",
    "    print('foo',x,y)\n",
    "    \n",
    "def do_bar(s):\n",
    "    print('bar',s)\n",
    "\n",
    "for tag, *args in records:\n",
    "    # tag(*args)\n",
    "    if tag == 'foo':\n",
    "        do_foo(*args)\n",
    "    elif tag == 'bar':\n",
    "        do_bar(*args)"
   ]
  },
  {
   "cell_type": "code",
   "execution_count": 1,
   "metadata": {},
   "outputs": [
    {
     "name": "stdout",
     "output_type": "stream",
     "text": [
      "'/Users/kang-air/.pyenv/versions/3.10.9/envs/first-py310/lib/python3.10/site-packages'\n",
      "''\n",
      "'/Users/kang-air/.pyenv/versions/3.10.9/lib/python3.10/lib-dynload'\n",
      "'/Users/kang-air/.pyenv/versions/3.10.9/lib/python3.10'\n",
      "'/Users/kang-air/.pyenv/versions/3.10.9/lib/python310.zip'\n",
      "'/Users/kang-air/KANG/_GIT_HUB/python/KieaGenQuery24/lib/tain01'\n",
      "('/Users/kang-air/KANG/_GIT_HUB/python/Python-Cookbook-3rd-edition-JupyterNotebook-Code/Chapter '\n",
      " '01')\n",
      "--------------------------------------------------------------------------------\n",
      "['',\n",
      " '/Users/kang-air/KANG/_GIT_HUB/python/lib',\n",
      " '/Users/kang-air/KANG/_GIT_HUB/python/Python-Cookbook-3rd-edition-JupyterNotebook-Code/Chapter '\n",
      " '01',\n",
      " '/Users/kang-air/.pyenv/versions/3.10.9/lib/python310.zip',\n",
      " '/Users/kang-air/.pyenv/versions/3.10.9/lib/python3.10',\n",
      " '/Users/kang-air/.pyenv/versions/3.10.9/lib/python3.10/lib-dynload',\n",
      " '/Users/kang-air/.pyenv/versions/3.10.9/envs/first-py310/lib/python3.10/site-packages']\n",
      "--------------------------------------------------------------------------------\n"
     ]
    }
   ],
   "source": [
    "python_path =  [\n",
    "    '',\n",
    "    '/Users/kang-air/KANG/_GIT_HUB/python/lib',\n",
    "    '/Users/kang-air/KANG/_GIT_HUB/python/Python-Cookbook-3rd-edition-JupyterNotebook-Code/Chapter 01',\n",
    "    '/Users/kang-air/.pyenv/versions/3.10.9/lib/python310.zip',\n",
    "    '/Users/kang-air/.pyenv/versions/3.10.9/lib/python3.10',\n",
    "    '/Users/kang-air/.pyenv/versions/3.10.9/lib/python3.10/lib-dynload',\n",
    "    '/Users/kang-air/.pyenv/versions/3.10.9/envs/first-py310/lib/python3.10/site-packages',\n",
    "]\n",
    "import sys\n",
    "from pprint import pprint as pp\n",
    "\n",
    "length = len(sys.path)\n",
    "for i in range(length):\n",
    "    pp(sys.path.pop())\n",
    "print('-'*80)\n",
    "\n",
    "for path in python_path:\n",
    "    sys.path.append(path)\n",
    "pp(sys.path)\n",
    "print('-'*80)\n",
    "\n",
    "# sys.path.append('/Users/kang-air/KANG/_GIT_HUB/python/lib')\n",
    "# pp(sys.path)\n",
    "# import mymodules\n",
    "# print('-'*80)\n",
    "\n",
    "# pp(sys.path.pop(1))\n",
    "# pp(sys.path.pop())\n",
    "# pp(sys.path.pop())"
   ]
  },
  {
   "cell_type": "code",
   "execution_count": 28,
   "metadata": {},
   "outputs": [
    {
     "name": "stdout",
     "output_type": "stream",
     "text": [
      "len: 932\n"
     ]
    }
   ],
   "source": [
    "import sys\n",
    "\n",
    "keys = list(sys.modules.keys())\n",
    "print('len:', len(keys))"
   ]
  },
  {
   "cell_type": "code",
   "execution_count": null,
   "metadata": {},
   "outputs": [],
   "source": [
    "import sys\n",
    "\n",
    "# print(sys.modules)\n",
    "tup = tuple(sys.modules.keys())\n",
    "# tup = sorted(tup, reverse=True)\n",
    "print('len:', len(tup))\n",
    "print(tup)\n",
    "\n",
    "# print('sys.modules:')\n",
    "# for idx,mod in enumerate(tup):\n",
    "#     print(idx,mod)\n"
   ]
  },
  {
   "cell_type": "code",
   "execution_count": 64,
   "metadata": {},
   "outputs": [
    {
     "name": "stdout",
     "output_type": "stream",
     "text": [
      "0 <module 'IPython' from '/Users/kang-air/.pyenv/versions/3.10.9/envs/first-py310/lib/python3.10/site-packages/IPython/__init__.py'>\n",
      "1 <module 'IPython.core' from '/Users/kang-air/.pyenv/versions/3.10.9/envs/first-py310/lib/python3.10/site-packages/IPython/core/__init__.py'>\n",
      "2 <module 'IPython.core.alias' from '/Users/kang-air/.pyenv/versions/3.10.9/envs/first-py310/lib/python3.10/site-packages/IPython/core/alias.py'>\n",
      "3 <module 'IPython.core.application' from '/Users/kang-air/.pyenv/versions/3.10.9/envs/first-py310/lib/python3.10/site-packages/IPython/core/application.py'>\n",
      "4 <module 'IPython.core.async_helpers' from '/Users/kang-air/.pyenv/versions/3.10.9/envs/first-py310/lib/python3.10/site-packages/IPython/core/async_helpers.py'>\n"
     ]
    }
   ],
   "source": [
    "import sys\n",
    "\n",
    "imsi_mod = (\n",
    "    sys.modules['sys'],\n",
    "    sys.modules['__future__'],\n",
    "    sys.modules['os.path'],\n",
    "    sys.modules['codecs'],\n",
    "    sys.modules['json'],\n",
    "    str(sys.modules['random']),\n",
    ")\n",
    "\n",
    "keys = list(sorted(sys.modules.keys(), reverse=False))\n",
    "for idx, mod in enumerate(keys):\n",
    "    # if idx < 1000:\n",
    "    if idx < 5:\n",
    "        print(idx, str(sys.modules[mod]))"
   ]
  },
  {
   "cell_type": "code",
   "execution_count": 3,
   "metadata": {},
   "outputs": [
    {
     "name": "stdout",
     "output_type": "stream",
     "text": [
      "Hello, world!!\n"
     ]
    }
   ],
   "source": [
    "# sys.modules[__name__].__dir__()\n",
    "# sys.modules[__name__].__dict__.keys()\n",
    "# sys.modules[__name__].__class__\n",
    "# sys.modules[__name__].__doc__\n",
    "# sys.modules[__name__].__file__\n",
    "# sys.modules[__name__].__loader__\n",
    "# sys.modules[__name__].__name__\n",
    "# sys.modules[__name__].__package__\n",
    "# sys.modules[__name__].__spec__\n",
    "# sys.modules[__name__].__cached__\n",
    "# sys.modules[__name__].__builtins__\n",
    "# sys.modules[__name__].__annotations__\n",
    "# sys.modules[__name__].__call__\n",
    "import sys\n",
    "\n",
    "try:\n",
    "    del hello\n",
    "except Exception as e:\n",
    "    pass\n",
    "\n",
    "def hello(name):\n",
    "    print('Hello', name, sep=', ')\n",
    "\n",
    "getattr(sys.modules[__name__], 'hello')('world!!')"
   ]
  },
  {
   "cell_type": "code",
   "execution_count": 106,
   "metadata": {},
   "outputs": [
    {
     "name": "stdout",
     "output_type": "stream",
     "text": [
      "foo: 3 4\n",
      "bar: hello\n",
      "1:, 7, hello\n",
      "--------------------------------------------------------------------------------\n",
      "2: <class '__main__.Employee'>\n",
      "2: ['__class__', '__delattr__', '__dict__', '__dir__', '__doc__', '__eq__', '__format__', '__ge__', '__getattribute__', '__gt__', '__hash__', '__init__', '__init_subclass__', '__le__', '__lt__', '__module__', '__ne__', '__new__', '__reduce__', '__reduce_ex__', '__repr__', '__setattr__', '__sizeof__', '__str__', '__subclasshook__', '__weakref__', 'defaultMethod', 'emp_count', 'emp_value']\n",
      "2: {'__module__': '__main__', '__doc__': ' document string for Employee class ', 'emp_value': 123, 'emp_count': 12, '__init__': <function Employee.__init__ at 0x10f44c4c0>, 'defaultMethod': <function Employee.defaultMethod at 0x10f44c040>, '__dict__': <attribute '__dict__' of 'Employee' objects>, '__weakref__': <attribute '__weakref__' of 'Employee' objects>}\n",
      "--------------------------------------------------------------------------------\n",
      "3: 000: __class__                 ----------------\n",
      "3: 001: __delattr__               ----------------\n",
      "3: 002: __dict__                  <attribute '__dict__' of 'Employee' objects>\n",
      "3: 003: __dir__                   ----------------\n",
      "3: 004: __doc__                    document string for Employee class \n",
      "3: 005: __eq__                    ----------------\n",
      "3: 006: __format__                ----------------\n",
      "3: 007: __ge__                    ----------------\n",
      "3: 008: __getattribute__          ----------------\n",
      "3: 009: __gt__                    ----------------\n",
      "3: 010: __hash__                  ----------------\n",
      "3: 011: __init__                  <function Employee.__init__ at 0x10f44c4c0>\n",
      "3: 012: __init_subclass__         ----------------\n",
      "3: 013: __le__                    ----------------\n",
      "3: 014: __lt__                    ----------------\n",
      "3: 015: __module__                __main__\n",
      "3: 016: __ne__                    ----------------\n",
      "3: 017: __new__                   ----------------\n",
      "3: 018: __reduce__                ----------------\n",
      "3: 019: __reduce_ex__             ----------------\n",
      "3: 020: __repr__                  ----------------\n",
      "3: 021: __setattr__               ----------------\n",
      "3: 022: __sizeof__                ----------------\n",
      "3: 023: __str__                   ----------------\n",
      "3: 024: __subclasshook__          ----------------\n",
      "3: 025: __weakref__               <attribute '__weakref__' of 'Employee' objects>\n",
      "3: 026: defaultMethod             <function Employee.defaultMethod at 0x10f44c040>\n",
      "3: 027: emp_count                 12\n",
      "3: 028: emp_value                 123\n",
      "--------------------------------------------------------------------------------\n",
      "4:      __module__                __main__\n",
      "4:      __doc__                    document string for Employee class \n",
      "4:      emp_value                 123\n",
      "4:      emp_count                 12\n",
      "4:      __init__                  <function Employee.__init__ at 0x10f44c4c0>\n",
      "4:      defaultMethod             <function Employee.defaultMethod at 0x10f44c040>\n",
      "4:      __dict__                  <attribute '__dict__' of 'Employee' objects>\n",
      "4:      __weakref__               <attribute '__weakref__' of 'Employee' objects>\n",
      "--------------------------------------------------------------------------------\n"
     ]
    }
   ],
   "source": [
    "import sys\n",
    "import json\n",
    "\n",
    "def do_foo(x, y):\n",
    "    print('foo:', x, y)\n",
    "    return x + y\n",
    "\n",
    "def do_bar(s):\n",
    "    print('bar:', s)\n",
    "    return s\n",
    "\n",
    "class Employee(object):\n",
    "    ''' document string for Employee class '''\n",
    "    emp_value = 123\n",
    "    emp_count = 12\n",
    "\n",
    "    def __init__(self, name='John', age=25, company='Amazon'):\n",
    "        self._name = name\n",
    "        self._age = age\n",
    "        self._company = company\n",
    "\n",
    "    def defaultMethod(self):\n",
    "        print(\"This is a default method\")\n",
    "\n",
    "# main code\n",
    "foo = getattr(sys.modules[__name__], 'do_foo')(3, 4)\n",
    "bar = getattr(sys.modules[__name__], 'do_bar')('hello')\n",
    "print('1:', foo, bar, sep=', ')\n",
    "print('-'*80)\n",
    "\n",
    "emp = getattr(sys.modules[__name__], 'Employee')\n",
    "print('2:', emp)\n",
    "print('2:', dir(emp))\n",
    "print('2:', emp.__dict__)\n",
    "print('-'*80)\n",
    "\n",
    "# for i, itm in enumerate(dir(emp)):\n",
    "for i, mod in enumerate(dir(Employee)):\n",
    "    try:\n",
    "        print(f'3: {i:03d}: {mod:<25}', Employee.__dict__[mod])\n",
    "    except Exception as e:\n",
    "        # print(f'Error:', e)\n",
    "        print(f'3: {i:03d}: {mod:<25}', '----------------')\n",
    "        pass\n",
    "print('-'*80)\n",
    "\n",
    "for key, value in Employee.__dict__.items():\n",
    "# for key, value in Employee().__dict__.items():\n",
    "    print(f'4:      {key:<25} {value}')\n",
    "print('-'*80)\n"
   ]
  },
  {
   "cell_type": "markdown",
   "metadata": {},
   "source": [
    "### [sys : 인터프리터를 제어하는 모듈](https://ctkim.tistory.com/entry/python-sys-모듈)"
   ]
  },
  {
   "cell_type": "code",
   "execution_count": 56,
   "metadata": {},
   "outputs": [
    {
     "name": "stdout",
     "output_type": "stream",
     "text": [
      "101\n",
      "101\n",
      "35\n",
      "35\n",
      "argv: ['/Users/kang-air/.pyenv/versions/3.10.9/envs/first-py310/lib/python3.10/site-packages/ipykernel_launcher.py', '--f=/Users/kang-air/Library/Jupyter/runtime/kernel-v2-450966w6ft3t4678r.json']\n",
      "0 /Users/kang-air/.pyenv/versions/3.10.9/envs/first-py310/lib/python3.10/site-packages/ipykernel_launcher.py\n",
      "1 --f=/Users/kang-air/Library/Jupyter/runtime/kernel-v2-450966w6ft3t4678r.json\n"
     ]
    }
   ],
   "source": [
    "import sys\n",
    "\n",
    "print(len(sys.modules['sys'].__dict__))\n",
    "print(len(sys.modules['sys'].__dir__()))\n",
    "print(len(sys.modules['io'].__dict__))\n",
    "print(len(sys.modules['io'].__dir__()))\n",
    "\n",
    "# python example.py arg1 arg2 arg3\n",
    "# 0 example.py\n",
    "# 1 arg1\n",
    "# 2 arg2\n",
    "# 3 arg3\n",
    "print('argv:', sys.argv)\n",
    "for idx, arg in enumerate(sys.argv):\n",
    "    print(idx, arg)"
   ]
  },
  {
   "cell_type": "code",
   "execution_count": 2,
   "metadata": {},
   "outputs": [
    {
     "name": "stdout",
     "output_type": "stream",
     "text": [
      "platform: darwin\n"
     ]
    }
   ],
   "source": [
    "import sys\n",
    "platform = sys.platform\n",
    "print('platform:', platform)"
   ]
  },
  {
   "cell_type": "code",
   "execution_count": 3,
   "metadata": {},
   "outputs": [
    {
     "name": "stdout",
     "output_type": "stream",
     "text": [
      "version: 3.10.9 (main, Feb 15 2023, 20:56:52) [Clang 12.0.0 (clang-1200.0.26.2)]\n"
     ]
    }
   ],
   "source": [
    "import sys\n",
    "version = sys.version\n",
    "print('version:', version)"
   ]
  },
  {
   "cell_type": "code",
   "execution_count": 4,
   "metadata": {},
   "outputs": [
    {
     "name": "stdout",
     "output_type": "stream",
     "text": [
      "size: 104\n"
     ]
    }
   ],
   "source": [
    "import sys\n",
    "my_list = [1,2,3,4,5]\n",
    "size = sys.getsizeof(my_list)\n",
    "print('size:', size)"
   ]
  },
  {
   "cell_type": "code",
   "execution_count": 6,
   "metadata": {},
   "outputs": [
    {
     "name": "stdout",
     "output_type": "stream",
     "text": [
      "default.encoding: utf-8\n"
     ]
    }
   ],
   "source": [
    "import sys\n",
    "encoding = sys.getdefaultencoding()\n",
    "print('default.encoding:', encoding)"
   ]
  },
  {
   "cell_type": "code",
   "execution_count": 7,
   "metadata": {},
   "outputs": [
    {
     "name": "stdout",
     "output_type": "stream",
     "text": [
      "system.encoding: utf-8\n"
     ]
    }
   ],
   "source": [
    "import sys\n",
    "encoding = sys.getfilesystemencoding()\n",
    "print('system.encoding:', encoding)"
   ]
  },
  {
   "cell_type": "code",
   "execution_count": 8,
   "metadata": {},
   "outputs": [
    {
     "name": "stdout",
     "output_type": "stream",
     "text": [
      "ref.count: 2\n"
     ]
    }
   ],
   "source": [
    "import sys\n",
    "my_list = [1,2,3,4,5]\n",
    "count = sys.getrefcount(my_list)\n",
    "print('ref.count:', count)"
   ]
  },
  {
   "cell_type": "code",
   "execution_count": 21,
   "metadata": {},
   "outputs": [
    {
     "data": {
      "text/plain": [
       "470935"
      ]
     },
     "execution_count": 21,
     "metadata": {},
     "output_type": "execute_result"
    }
   ],
   "source": [
    "import sys\n",
    "sys.setrecursionlimit(1000)  # 3% of 1000 is 30\n",
    "\n",
    "def recursive_func(n):\n",
    "    if n == 0:\n",
    "        return 0\n",
    "        # return\n",
    "    return n + recursive_func(n-1)\n",
    "    # return recursive_func(n-1)\n",
    "\n",
    "recursive_func(970)"
   ]
  },
  {
   "cell_type": "code",
   "execution_count": 27,
   "metadata": {},
   "outputs": [
    {
     "name": "stdout",
     "output_type": "stream",
     "text": [
      "예외 타입: <class 'ZeroDivisionError'>\n",
      "예외 메시지: division by zero\n",
      "예외 추적 정보: <traceback object at 0x10e007980>\n"
     ]
    }
   ],
   "source": [
    "import sys\n",
    "import json\n",
    "\n",
    "def raise_exception():\n",
    "    x = 1/0\n",
    "\n",
    "try:\n",
    "    raise_exception()\n",
    "except:\n",
    "    exc_type, exc_value, exc_traceback = sys.exc_info()\n",
    "    print(f'예외 타입: {exc_type}')\n",
    "    print(f'예외 메시지: {exc_value}')\n",
    "    print(f'예외 추적 정보: {exc_traceback}')\n",
    "    # print(json.dumps(sys.exc_info(), indent=2))\n",
    "    # print(json.dumps(exc_traceback, indent=2))"
   ]
  },
  {
   "cell_type": "code",
   "execution_count": 65,
   "metadata": {},
   "outputs": [],
   "source": [
    "def displayhook(value):\n",
    "    if value is None:\n",
    "        return\n",
    "    # Set '_' to None to avoid recursion\n",
    "    # builtins._ = None\n",
    "    text = repr(value)\n",
    "    try:\n",
    "        sys.stdout.write(text)\n",
    "    except UnicodeEncodeError:\n",
    "        bytes = text.encode(sys.stdout.encoding, 'backslashreplace')\n",
    "        if hasattr(sys.stdout, 'buffer'):\n",
    "            sys.stdout.buffer.write(bytes)\n",
    "        else:\n",
    "            text = bytes.decode(sys.stdout.encoding, 'strict')\n",
    "            sys.stdout.write(text)\n",
    "    sys.stdout.write(\"\\n\")\n",
    "    # builtins._ = value"
   ]
  },
  {
   "cell_type": "code",
   "execution_count": 14,
   "metadata": {},
   "outputs": [
    {
     "name": "stdout",
     "output_type": "stream",
     "text": [
      "foo 1 2\n",
      "bar ('hello',)\n",
      "foo 3 4\n"
     ]
    }
   ],
   "source": [
    "#Python 2\n",
    "records = [\n",
    "    ('foo', 1,2),\n",
    "    ('bar','hello'),     \n",
    "    ('foo',3,4),      \n",
    "]\n",
    "\n",
    "def do_foo(x,y):\n",
    "    print('foo',x,y)\n",
    "    \n",
    "def do_bar(s):\n",
    "    print('bar',s)\n",
    "\n",
    "for rec in records:\n",
    "    if rec[0] == 'foo':\n",
    "        do_foo(rec[1],rec[2])\n",
    "    elif rec[0] == 'bar':\n",
    "        do_bar(rec[1:])"
   ]
  },
  {
   "cell_type": "code",
   "execution_count": 15,
   "metadata": {},
   "outputs": [
    {
     "name": "stdout",
     "output_type": "stream",
     "text": [
      "nobody /var/empty /usr/bin/false\n"
     ]
    }
   ],
   "source": [
    "#Python 3\n",
    "\n",
    "line = 'nobody:*:-2:-2:Unprivileged User:/var/empty:/usr/bin/false'\n",
    "uname, *fields, homedir, sh = line.split(':')\n",
    "print(uname, homedir, sh)"
   ]
  },
  {
   "cell_type": "code",
   "execution_count": 16,
   "metadata": {},
   "outputs": [
    {
     "name": "stdout",
     "output_type": "stream",
     "text": [
      "nobody\n",
      "/var/empty\n",
      "/usr/bin/false\n"
     ]
    }
   ],
   "source": [
    "#Python 2\n",
    "\n",
    "line = 'nobody:*:-2:-2:Unprivileged User:/var/empty:/usr/bin/false'\n",
    "\n",
    "list1 = line.split(':')\n",
    "print(list1[0])  # uname\n",
    "print(list1[-2])  # homedir\n",
    "print(list1[-1])  # sh"
   ]
  },
  {
   "cell_type": "code",
   "execution_count": 18,
   "metadata": {},
   "outputs": [
    {
     "name": "stdout",
     "output_type": "stream",
     "text": [
      "ACME 12 2012\n"
     ]
    }
   ],
   "source": [
    "#Python 3\n",
    "\n",
    "record = ('ACME', 50, 123.45, (12,18,2012))\n",
    "name, *_, (mon, *_,year) = record\n",
    "print(name, mon, year)"
   ]
  },
  {
   "cell_type": "code",
   "execution_count": 19,
   "metadata": {},
   "outputs": [
    {
     "name": "stdout",
     "output_type": "stream",
     "text": [
      "ACME 12 2012\n"
     ]
    }
   ],
   "source": [
    "#Python 2\n",
    "\n",
    "record = ('ACME', 50, 123.45, (12,18,2012))\n",
    "name = record[0]\n",
    "mon = record[-1][0]\n",
    "year = record[-1][-1]\n",
    "\n",
    "print(name, mon, year)"
   ]
  },
  {
   "cell_type": "code",
   "execution_count": 15,
   "metadata": {},
   "outputs": [
    {
     "name": "stdout",
     "output_type": "stream",
     "text": [
      "1 [10, 7]\n"
     ]
    },
    {
     "data": {
      "text/plain": [
       "18"
      ]
     },
     "execution_count": 15,
     "metadata": {},
     "output_type": "execute_result"
    }
   ],
   "source": [
    "#Python 3 \n",
    "\n",
    "items = [1,10,7,4,5,9,]\n",
    "# items = [1,10,7,]\n",
    "head, *tail = items\n",
    "print(head, tail)\n",
    "\n",
    "def sum2(head,tail):\n",
    "    return head + sum(tail) if tail else head\n",
    "\n",
    "sum2(head,tail)"
   ]
  },
  {
   "cell_type": "code",
   "execution_count": 16,
   "metadata": {},
   "outputs": [
    {
     "name": "stdout",
     "output_type": "stream",
     "text": [
      "1 [10, 7, 4, 5, 9]\n",
      "36\n"
     ]
    }
   ],
   "source": [
    "#Python 2\n",
    "\n",
    "items = [1,10,7,4,5,9]\n",
    "head = items[0]\n",
    "tail = items[1:]\n",
    "print(head, tail)\n",
    "\n",
    "p = 0\n",
    "for i in tail:\n",
    "    p += i  # p = sum(tail)\n",
    "print(head+p)"
   ]
  },
  {
   "cell_type": "code",
   "execution_count": null,
   "metadata": {},
   "outputs": [],
   "source": []
  },
  {
   "cell_type": "code",
   "execution_count": 1,
   "metadata": {
    "collapsed": true
   },
   "outputs": [
    {
     "name": "stdout",
     "output_type": "stream",
     "text": [
      "Hello world\n"
     ]
    }
   ],
   "source": [
    "print('Hello world')"
   ]
  }
 ],
 "metadata": {
  "kernelspec": {
   "display_name": "first-py310",
   "language": "python",
   "name": "python3"
  },
  "language_info": {
   "codemirror_mode": {
    "name": "ipython",
    "version": 3
   },
   "file_extension": ".py",
   "mimetype": "text/x-python",
   "name": "python",
   "nbconvert_exporter": "python",
   "pygments_lexer": "ipython3",
   "version": "3.10.9"
  }
 },
 "nbformat": 4,
 "nbformat_minor": 2
}
