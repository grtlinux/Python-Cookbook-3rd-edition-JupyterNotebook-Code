{
 "cells": [
  {
   "cell_type": "markdown",
   "metadata": {},
   "source": [
    "### 1.02. Unpacking Elements from Iterables of Arbitrary Length"
   ]
  },
  {
   "cell_type": "markdown",
   "metadata": {},
   "source": [
    "Python 3 \"star expressions\" can be used to address unpacking iterables of unknown or very large length.\n",
    "\n",
    "NB: This Jupyter Notebook uses Python 2 and so the Python 3 code is also adapted to Python 2 and the Python 3 code poses synax errors."
   ]
  },
  {
   "cell_type": "code",
   "execution_count": 7,
   "metadata": {},
   "outputs": [
    {
     "data": {
      "text/plain": [
       "76.0"
      ]
     },
     "execution_count": 7,
     "metadata": {},
     "output_type": "execute_result"
    }
   ],
   "source": [
    "#First example if you need to find the average of the middle grades \n",
    "#Python 3 code\n",
    "def avg(grades):\n",
    "    return sum(grades) / len(grades)\n",
    "\n",
    "def drop_first_last(grades):\n",
    "    first, *middle, last = grades\n",
    "    return avg(middle)\n",
    "\n",
    "drop_first_last([65, 76, 98, 54, 21])"
   ]
  },
  {
   "cell_type": "code",
   "execution_count": 1,
   "metadata": {},
   "outputs": [
    {
     "data": {
      "text/plain": [
       "4.0"
      ]
     },
     "execution_count": 1,
     "metadata": {},
     "output_type": "execute_result"
    }
   ],
   "source": [
    "#Python 2 code\n",
    "def py2_drop_first_last(grades):\n",
    "    return (float(sum(grades[1:-1]))/(len(grades)-2))\n",
    "\n",
    "float(py2_drop_first_last([1,2,3,4,5,6,7]))"
   ]
  },
  {
   "cell_type": "code",
   "execution_count": 2,
   "metadata": {},
   "outputs": [
    {
     "name": "stdout",
     "output_type": "stream",
     "text": [
      "Dave dave@exmple.com ['773-555-1212']\n"
     ]
    }
   ],
   "source": [
    "#Python 3 code\n",
    "record = ('Dave','dave@exmple.com','773-555-1212',)\n",
    "# record = ('Dave','dave@exmple.com','773-555-1212','847-555-1212',)\n",
    "# record = ('Dave','dave@exmple.com','773-555-1212','847-555-1212','123-456-7890')\n",
    "name,email,*phone_numbers = record\n",
    "print(name,email,phone_numbers)"
   ]
  },
  {
   "cell_type": "code",
   "execution_count": 3,
   "metadata": {},
   "outputs": [
    {
     "name": "stdout",
     "output_type": "stream",
     "text": [
      "Dave\n",
      "dave@exmple.com\n",
      "('773-555-1212', '847-555-1212')\n"
     ]
    }
   ],
   "source": [
    "#Python 2 code\n",
    "record = ('Dave','dave@exmple.com','773-555-1212','847-555-1212')\n",
    "name = record[0]\n",
    "email = record[1]\n",
    "phone_numbers = record[-2:]\n",
    "\n",
    "print(name)\n",
    "print(email)\n",
    "print(phone_numbers)"
   ]
  },
  {
   "cell_type": "code",
   "execution_count": 8,
   "metadata": {},
   "outputs": [
    {
     "name": "stdout",
     "output_type": "stream",
     "text": [
      "7.142857142857143 3\n"
     ]
    }
   ],
   "source": [
    "#Python 3 code\n",
    "sales_record = [10,8,7,1,9,5,10,3]\n",
    "*trailing_qtrs, current_qtr = sales_record\n",
    "# trailing_avg = sum(trailing_qtrs)/len(trailing_qtrs)\n",
    "trailing_avg = avg(trailing_qtrs)\n",
    "# return avg_comparison(trailing_avg,current_qtr)\n",
    "print(trailing_avg, current_qtr)\n",
    "\n",
    "# *trailing, current = [10,8,7,1,9,5,10,3]\n",
    "# trailing\n",
    "# current"
   ]
  },
  {
   "cell_type": "code",
   "execution_count": 9,
   "metadata": {},
   "outputs": [
    {
     "name": "stdout",
     "output_type": "stream",
     "text": [
      "7.142857142857143 3\n"
     ]
    }
   ],
   "source": [
    "#Python 2 code\n",
    "sales_record = [10,8,7,1,9,5,10,3]\n",
    "trailing = sales_record[0:-1]\n",
    "current = sales_record[-1]\n",
    "# trailing_avg = sum(trailing)/(len(trailing))\n",
    "trailing_avg = avg(trailing)\n",
    "print(trailing_avg, current)"
   ]
  },
  {
   "cell_type": "code",
   "execution_count": 27,
   "metadata": {},
   "outputs": [
    {
     "name": "stdout",
     "output_type": "stream",
     "text": [
      "foo 1 2\n",
      "bar hello\n",
      "foo 3 4\n"
     ]
    }
   ],
   "source": [
    "records = [\n",
    "    ('foo', 1,2),\n",
    "    ('bar','hello'),     \n",
    "    ('foo',3,4),      \n",
    "          ]\n",
    "\n",
    "def foo(x,y):\n",
    "    print('foo',x,y)\n",
    "    \n",
    "def bar(s):\n",
    "    print('bar',s)\n",
    "\n",
    "def do_foo(x,y):\n",
    "    print('foo',x,y)\n",
    "    \n",
    "def do_bar(s):\n",
    "    print('bar',s)\n",
    "\n",
    "for tag, *args in records:\n",
    "    # tag(*args)\n",
    "    if tag == 'foo':\n",
    "        do_foo(*args)\n",
    "    elif tag == 'bar':\n",
    "        do_bar(*args)\n"
   ]
  },
  {
   "cell_type": "code",
   "execution_count": 1,
   "metadata": {},
   "outputs": [
    {
     "name": "stdout",
     "output_type": "stream",
     "text": [
      "'/Users/kang-air/.pyenv/versions/3.10.9/envs/first-py310/lib/python3.10/site-packages'\n",
      "''\n",
      "'/Users/kang-air/.pyenv/versions/3.10.9/lib/python3.10/lib-dynload'\n",
      "'/Users/kang-air/.pyenv/versions/3.10.9/lib/python3.10'\n",
      "'/Users/kang-air/.pyenv/versions/3.10.9/lib/python310.zip'\n",
      "'/Users/kang-air/KANG/_GIT_HUB/python/KieaGenQuery24/lib/tain01'\n",
      "('/Users/kang-air/KANG/_GIT_HUB/python/Python-Cookbook-3rd-edition-JupyterNotebook-Code/Chapter '\n",
      " '01')\n",
      "--------------------------------------------------------------------------------\n",
      "['',\n",
      " '/Users/kang-air/KANG/_GIT_HUB/python/lib',\n",
      " '/Users/kang-air/KANG/_GIT_HUB/python/Python-Cookbook-3rd-edition-JupyterNotebook-Code/Chapter '\n",
      " '01',\n",
      " '/Users/kang-air/.pyenv/versions/3.10.9/lib/python310.zip',\n",
      " '/Users/kang-air/.pyenv/versions/3.10.9/lib/python3.10',\n",
      " '/Users/kang-air/.pyenv/versions/3.10.9/lib/python3.10/lib-dynload',\n",
      " '/Users/kang-air/.pyenv/versions/3.10.9/envs/first-py310/lib/python3.10/site-packages']\n",
      "--------------------------------------------------------------------------------\n"
     ]
    }
   ],
   "source": [
    "python_path =  [\n",
    "    '',\n",
    "    '/Users/kang-air/KANG/_GIT_HUB/python/lib',\n",
    "    '/Users/kang-air/KANG/_GIT_HUB/python/Python-Cookbook-3rd-edition-JupyterNotebook-Code/Chapter 01',\n",
    "    '/Users/kang-air/.pyenv/versions/3.10.9/lib/python310.zip',\n",
    "    '/Users/kang-air/.pyenv/versions/3.10.9/lib/python3.10',\n",
    "    '/Users/kang-air/.pyenv/versions/3.10.9/lib/python3.10/lib-dynload',\n",
    "    '/Users/kang-air/.pyenv/versions/3.10.9/envs/first-py310/lib/python3.10/site-packages',\n",
    "]\n",
    "import sys\n",
    "from pprint import pprint as pp\n",
    "\n",
    "length = len(sys.path)\n",
    "for i in range(length):\n",
    "    pp(sys.path.pop())\n",
    "print('-'*80)\n",
    "\n",
    "for path in python_path:\n",
    "    sys.path.append(path)\n",
    "pp(sys.path)\n",
    "print('-'*80)\n",
    "\n",
    "# sys.path.append('/Users/kang-air/KANG/_GIT_HUB/python/lib')\n",
    "# pp(sys.path)\n",
    "# import mymodules\n",
    "# print('-'*80)\n",
    "\n",
    "# pp(sys.path.pop(1))\n",
    "# pp(sys.path.pop())\n",
    "# pp(sys.path.pop())"
   ]
  },
  {
   "cell_type": "code",
   "execution_count": 28,
   "metadata": {},
   "outputs": [
    {
     "name": "stdout",
     "output_type": "stream",
     "text": [
      "len: 932\n"
     ]
    }
   ],
   "source": [
    "import sys\n",
    "\n",
    "keys = list(sys.modules.keys())\n",
    "print('len:', len(keys))"
   ]
  },
  {
   "cell_type": "code",
   "execution_count": 35,
   "metadata": {},
   "outputs": [
    {
     "name": "stdout",
     "output_type": "stream",
     "text": [
      "len: 932\n",
      "('sys', 'builtins', '_frozen_importlib', '_imp', '_thread', '_warnings', '_weakref', '_io', 'marshal', 'posix', '_frozen_importlib_external', 'time', 'zipimport', '_codecs', 'codecs', 'encodings.aliases', 'encodings', 'encodings.utf_8', '_signal', '_abc', 'abc', 'io', '__main__', '_stat', 'stat', '_collections_abc', 'genericpath', 'posixpath', 'os.path', 'os', '_sitebuiltins', '_distutils_hack', 'site', 'importlib._bootstrap', 'importlib._bootstrap_external', 'warnings', 'importlib', 'importlib.machinery', 'importlib._abc', 'itertools', 'keyword', '_operator', 'operator', 'reprlib', '_collections', 'collections', 'types', '_functools', 'functools', 'contextlib', 'importlib.util', 'runpy', 'enum', '_sre', 'sre_constants', 'sre_parse', 'sre_compile', '_locale', 'copyreg', 're', 'fnmatch', 'ntpath', 'errno', 'urllib', 'urllib.parse', 'pathlib', 'collections.abc', 'typing.io', 'typing.re', 'typing', 'ipykernel._version', '__future__', '_json', 'json.scanner', 'json.decoder', 'json.encoder', 'json', 'signal', '_weakrefset', 'threading', 'fcntl', '_posixsubprocess', 'select', 'math', 'selectors', 'subprocess', 'jupyter_client._version', 'platform', '_ctypes', '_struct', 'struct', 'ctypes._endian', 'ctypes', 'zmq.backend.select', 'cython_runtime', '_cython_3_0_6', 'zmq.error', 'zmq.backend.cython.context', 'weakref', 'zmq.backend.cython.message', 'copy', '_bisect', 'bisect', '_random', '_sha512', 'random', '_compat_pickle', '_pickle', 'pickle', 'zmq.constants', 'zmq.backend.cython.socket', 'zmq.backend.cython._device', 'zmq.backend.cython._poll', 'zmq.backend.cython._proxy_steerable', 'zmq.backend.cython._version', 'zmq.backend.cython.error', 'zmq.backend.cython.utils', 'zmq.backend.cython', 'zmq.backend', 'atexit', 'zmq.utils', 'zmq.utils.interop', 'zmq.sugar.attrsettr', 'zmq._typing', 'zmq.utils.jsonapi', 'zmq.sugar.poll', 'zmq.sugar.socket', 'zmq.sugar.context', 'zmq.sugar.frame', 'zmq.sugar.tracker', 'zmq.sugar.version', 'zmq.sugar.stopwatch', 'zmq.sugar', 'zmq', 'concurrent', 'token', 'tokenize', 'linecache', 'traceback', '_string', 'string', 'logging', 'concurrent.futures._base', 'concurrent.futures', '_heapq', 'heapq', '_socket', 'array', 'socket', '_ssl', 'binascii', 'base64', 'ssl', 'asyncio.constants', '_ast', 'ast', '_opcode', 'opcode', 'dis', 'inspect', 'asyncio.format_helpers', 'asyncio.base_futures', 'asyncio.log', 'asyncio.coroutines', '_contextvars', 'contextvars', 'asyncio.exceptions', 'asyncio.base_tasks', '_asyncio', 'asyncio.events', 'asyncio.futures', 'asyncio.protocols', 'asyncio.transports', 'asyncio.sslproto', 'asyncio.mixins', 'asyncio.tasks', 'asyncio.locks', 'asyncio.staggered', 'asyncio.trsock', 'asyncio.base_events', 'asyncio.runners', 'asyncio.queues', 'asyncio.streams', 'asyncio.subprocess', 'asyncio.threads', 'asyncio.base_subprocess', 'asyncio.selector_events', 'asyncio.unix_events', 'asyncio', 'zmq._future', 'zmq.asyncio', 'traitlets.utils', 'traitlets.utils.bunch', 'traitlets.utils.descriptions', 'traitlets.utils.getargspec', 'traitlets.utils.importstring', 'traitlets.utils.sentinel', 'traitlets.utils.warnings', 'traitlets.traitlets', 'traitlets._version', 'traitlets.utils.decorators', 'traitlets', '_queue', 'queue', 'jupyter_core.version', 'jupyter_core', 'jupyter_core.utils', 'jupyter_client.channelsabc', '_hashlib', '_blake2', 'hashlib', 'hmac', 'dataclasses', 'pprint', '_datetime', 'datetime', 'tornado', 'numbers', 'logging.handlers', 'html.entities', 'html', 'zlib', 'tornado.speedups', 'tornado.util', 'tornado.escape', '_curses', 'curses', 'tornado.log', 'tornado.concurrent', 'tornado.ioloop', 'socketserver', 'logging.config', 'textwrap', 'traitlets.utils.text', 'gettext', 'argparse', 'traitlets.config.loader', 'traitlets.config.configurable', 'traitlets.utils.nested_update', 'traitlets.config.application', 'traitlets.config', 'traitlets.log', 'zmq.eventloop', 'zmq.eventloop.zmqstream', 'jupyter_client.adapter', 'dateutil._version', 'dateutil', 'locale', 'calendar', 'six', '_decimal', 'decimal', 'dateutil._common', 'dateutil.relativedelta', 'six.moves', 'dateutil.tz._common', 'dateutil.tz._factories', 'dateutil.tz.tz', 'dateutil.tz', 'dateutil.parser._parser', 'dateutil.parser.isoparser', 'dateutil.parser', '_strptime', 'jupyter_client.jsonutil', 'jupyter_client.session', 'jupyter_client.channels', 'termios', 'getpass', 'jupyter_client.clientabc', 'glob', '_compression', '_bz2', 'bz2', '_lzma', 'lzma', 'shutil', 'tempfile', 'platformdirs.api', 'platformdirs.version', 'platformdirs.macos', 'platformdirs', 'jupyter_core.paths', 'jupyter_client.localinterfaces', 'jupyter_client.utils', 'jupyter_client.connect', 'jupyter_client.client', 'jupyter_client.asynchronous.client', 'jupyter_client.asynchronous', 'jupyter_client.blocking.client', 'jupyter_client.blocking', 'jupyter_client.launcher', '_uuid', 'uuid', '_csv', 'csv', 'email', 'zipfile', 'uu', 'quopri', 'email._parseaddr', 'email.base64mime', 'email.quoprimime', 'email.errors', 'email.encoders', 'email.charset', 'email.utils', 'email.header', 'email._policybase', 'email._encoded_words', 'email.iterators', 'email.message', 'importlib.metadata._functools', 'importlib.metadata._text', 'importlib.metadata._adapters', 'importlib.metadata._meta', 'importlib.metadata._collections', 'importlib.metadata._itertools', 'importlib.abc', 'importlib.metadata', 'jupyter_client.provisioning.provisioner_base', 'jupyter_client.provisioning.factory', 'jupyter_client.provisioning.local_provisioner', 'jupyter_client.provisioning', 'jupyter_client.kernelspec', 'jupyter_client.managerabc', 'jupyter_client.manager', 'jupyter_client.multikernelmanager', 'jupyter_client', 'ipykernel.connect', 'ipykernel', 'IPython.core', 'IPython.core.getipython', 'IPython.core.release', 'pkgutil', 'sysconfig', '_sysconfigdata__darwin_darwin', '_osx_support', 'pydoc', 'executing.executing', 'executing.version', 'executing', 'asttokens.line_numbers', 'asttokens.util', 'asttokens.asttokens', 'asttokens', 'fractions', 'pure_eval.utils', 'pure_eval.my_getattr_static', 'pure_eval.core', 'pure_eval.version', 'pure_eval', 'stack_data.utils', 'stack_data.core', 'stack_data.formatting', 'stack_data.serializing', 'stack_data.version', 'stack_data', 'pygments', 'pygments.formatters._mapping', 'pygments.plugin', 'pygments.util', 'pygments.formatters', 'pygments.styles._mapping', 'pygments.styles', 'pygments.formatter', 'pygments.console', 'pygments.token', 'pygments.style', 'pygments.formatters.terminal256', 'IPython.utils', 'IPython.utils.colorable', 'IPython.utils.ipstruct', 'IPython.utils.coloransi', 'IPython.utils.PyColorize', 'IPython.utils.encoding', 'IPython.utils.py3compat', 'IPython.core.excolors', 'cmd', 'bdb', 'codeop', 'code', 'pdb', 'IPython.core.debugger', 'IPython.core.display_trap', 'shlex', 'IPython.utils._process_common', 'IPython.utils._process_posix', 'IPython.utils.process', 'IPython.utils.path', 'IPython.utils.terminal', 'IPython.core.ultratb', 'IPython.utils._sysinfo', 'IPython.utils.sysinfo', 'IPython.core.crashhandler', 'IPython.utils.importstring', 'IPython.paths', 'IPython.core.profiledir', 'IPython.core.application', 'IPython.terminal', 'IPython.core.compilerop', 'IPython.core.error', 'IPython.utils.docs', 'IPython.utils.decorators', 'IPython.utils.text', 'IPython.core.magic_arguments', 'getopt', 'IPython.core.display_functions', 'mimetypes', 'IPython.testing', 'IPython.testing.skipdoctest', 'IPython.core.display', 'IPython.lib', 'IPython.lib.display', 'IPython.display', 'IPython.utils.data', 'IPython.core.page', 'IPython.lib.pretty', 'IPython.utils.openpy', 'IPython.utils.dir2', 'IPython.utils.wildcard', 'pygments.lexers._mapping', 'pygments.modeline', 'pygments.lexers', 'pygments.filter', 'pygments.filters', 'pygments.regexopt', 'pygments.lexer', 'pygments.unistring', 'pygments.lexers.python', 'pygments.formatters.html', 'IPython.core.oinspect', 'IPython.utils.tokenutil', 'IPython.core.inputtransformer2', 'IPython.core.magic', 'IPython.core.hooks', 'IPython.core.autocall', 'IPython.core.macro', 'IPython.core.splitinput', 'IPython.core.prefilter', 'IPython.core.alias', 'IPython.core.builtin_trap', 'IPython.core.displayhook', 'IPython.core.displaypub', 'IPython.core.events', 'IPython.core.extensions', 'decorator', 'IPython.utils.sentinel', 'IPython.core.formatters', '_sqlite3', 'sqlite3.dbapi2', 'sqlite3', 'IPython.core.history', 'IPython.core.logger', 'IPython.core.payload', 'IPython.core.usage', 'IPython.utils.capture', 'IPython.utils.io', 'IPython.utils.strdispatch', 'IPython.utils.syspathcontext', 'exceptiongroup._exceptions', 'exceptiongroup._catch', 'exceptiongroup._version', 'exceptiongroup._formatting', 'exceptiongroup._suppress', 'exceptiongroup', 'IPython.core.async_helpers', 'IPython.core.interactiveshell', 'prompt_toolkit.application.current', 'prompt_toolkit.eventloop.utils', 'prompt_toolkit.eventloop.async_generator', 'prompt_toolkit.eventloop.inputhook', 'prompt_toolkit.eventloop', 'prompt_toolkit.application.run_in_terminal', 'prompt_toolkit.selection', 'prompt_toolkit.clipboard.base', 'prompt_toolkit.clipboard.in_memory', 'prompt_toolkit.clipboard', 'prompt_toolkit.cache', 'prompt_toolkit.enums', 'prompt_toolkit.filters.base', 'prompt_toolkit.filters.app', 'prompt_toolkit.filters.cli', 'prompt_toolkit.filters.utils', 'prompt_toolkit.filters', 'prompt_toolkit.document', 'prompt_toolkit.auto_suggest', 'prompt_toolkit.keys', 'prompt_toolkit.key_binding.key_bindings', 'wcwidth.table_vs16', 'wcwidth.table_wide', 'wcwidth.table_zero', 'wcwidth.unicode_versions', 'wcwidth.wcwidth', 'wcwidth', 'prompt_toolkit.utils', 'prompt_toolkit.key_binding.key_processor', 'prompt_toolkit.key_binding', 'prompt_toolkit.key_binding.vi_state', 'prompt_toolkit.cursor_shapes', 'prompt_toolkit.data_structures', 'prompt_toolkit.styles.base', 'prompt_toolkit.styles.named_colors', 'prompt_toolkit.styles.style', 'prompt_toolkit.styles.defaults', 'prompt_toolkit.styles.pygments', 'colorsys', 'prompt_toolkit.styles.style_transformation', 'prompt_toolkit.styles', 'prompt_toolkit.output.color_depth', 'prompt_toolkit.output.base', 'prompt_toolkit.output.flush_stdout', 'prompt_toolkit.output.plain_text', 'prompt_toolkit.output.defaults', 'prompt_toolkit.output', 'prompt_toolkit.output.vt100', 'prompt_toolkit.mouse_events', 'prompt_toolkit.formatted_text.base', 'prompt_toolkit.formatted_text.ansi', 'xml', 'xml.dom.domreg', 'xml.dom', 'xml.dom.minicompat', 'xml.dom.NodeFilter', 'xml.dom.xmlbuilder', 'xml.dom.minidom', 'prompt_toolkit.formatted_text.html', 'prompt_toolkit.formatted_text.pygments', 'prompt_toolkit.formatted_text.utils', 'prompt_toolkit.formatted_text', 'prompt_toolkit.completion.base', 'prompt_toolkit.completion.deduplicate', 'prompt_toolkit.completion.filesystem', 'prompt_toolkit.completion.word_completer', 'prompt_toolkit.completion.fuzzy_completer', 'prompt_toolkit.completion.nested', 'prompt_toolkit.completion', 'prompt_toolkit.history', 'prompt_toolkit.search', 'prompt_toolkit.validation', 'prompt_toolkit.buffer', 'prompt_toolkit.input.base', 'prompt_toolkit.input.defaults', 'prompt_toolkit.input', 'prompt_toolkit.input.typeahead', 'prompt_toolkit.key_binding.bindings', 'prompt_toolkit.key_binding.bindings.scroll', 'prompt_toolkit.key_binding.bindings.page_navigation', 'prompt_toolkit.lexers.base', 'prompt_toolkit.lexers.pygments', 'prompt_toolkit.lexers', 'prompt_toolkit.layout.utils', 'prompt_toolkit.layout.processors', 'prompt_toolkit.layout.controls', 'prompt_toolkit.layout.dimension', 'prompt_toolkit.layout.margins', 'prompt_toolkit.layout.mouse_handlers', 'prompt_toolkit.layout.screen', 'prompt_toolkit.layout.containers', 'prompt_toolkit.layout.layout', 'prompt_toolkit.layout.menus', 'prompt_toolkit.layout.scrollable_pane', 'prompt_toolkit.layout', 'prompt_toolkit.key_binding.bindings.completion', 'prompt_toolkit.key_binding.bindings.named_commands', 'prompt_toolkit.key_binding.bindings.basic', 'prompt_toolkit.key_binding.bindings.cpr', 'prompt_toolkit.key_binding.bindings.emacs', 'prompt_toolkit.key_binding.bindings.mouse', 'prompt_toolkit.input.ansi_escape_sequences', 'prompt_toolkit.input.vt100_parser', 'prompt_toolkit.key_binding.digraphs', 'prompt_toolkit.key_binding.bindings.vi', 'prompt_toolkit.key_binding.defaults', 'prompt_toolkit.key_binding.emacs_state', 'prompt_toolkit.layout.dummy', 'prompt_toolkit.renderer', 'prompt_toolkit.application.application', 'prompt_toolkit.application.dummy', 'prompt_toolkit.application', 'prompt_toolkit.key_binding.bindings.focus', 'prompt_toolkit.widgets.toolbars', 'prompt_toolkit.widgets.base', 'prompt_toolkit.widgets.dialogs', 'prompt_toolkit.widgets.menus', 'prompt_toolkit.widgets', 'prompt_toolkit.shortcuts.dialogs', 'prompt_toolkit.shortcuts.progress_bar.formatters', 'prompt_toolkit.shortcuts.progress_bar.base', 'prompt_toolkit.shortcuts.progress_bar', 'prompt_toolkit.key_binding.bindings.auto_suggest', 'prompt_toolkit.key_binding.bindings.open_in_editor', 'prompt_toolkit.shortcuts.prompt', 'prompt_toolkit.shortcuts.utils', 'prompt_toolkit.shortcuts', 'prompt_toolkit', 'prompt_toolkit.patch_stdout', 'unicodedata', 'IPython.core.guarded_eval', 'IPython.core.latex_symbols', 'IPython.utils.generics', 'parso.utils', 'parso.tree', 'parso.python', 'parso.python.token', 'parso.python.tokenize', 'parso.pgen2.grammar_parser', 'parso.pgen2.generator', 'parso.pgen2', 'parso.parser', 'parso._compatibility', 'difflib', 'parso.python.prefix', 'parso.python.tree', 'parso.python.parser', 'parso.python.diff', 'gc', 'parso.cache', 'parso.normalizer', 'parso.python.errors', 'parso.python.pep8', 'parso.file_io', 'parso.grammar', 'parso', 'jedi.parser_utils', 'jedi.debug', 'jedi.settings', 'jedi.cache', 'jedi.file_io', 'jedi.inference.cache', 'jedi.inference.helpers', 'jedi.inference.utils', 'jedi.inference.base_value', 'jedi.inference.sys_path', 'jedi.inference.recursion', 'jedi.inference.flow_analysis', 'jedi.common', 'jedi.inference.lazy_value', 'jedi.inference.docstrings', 'jedi.plugins', 'jedi.inference.names', 'jedi.inference.filters', 'jedi.inference.compiled.getattr_static', 'jedi.inference.compiled.access', 'jedi.inference.signature', 'jedi.inference.context', 'jedi.inference.compiled.value', 'jedi.inference.compiled', 'jedi.inference.analysis', 'jedi.inference.gradual', 'jedi.inference.value.module', 'jedi.inference.value.dynamic_arrays', 'jedi.inference.value.iterable', 'jedi.inference.arguments', 'jedi.inference.parser_cache', 'jedi.inference.gradual.generics', 'jedi.inference.value.function', 'jedi.inference.value.klass', 'jedi.inference.value.instance', 'jedi.inference.value', 'jedi.inference.gradual.base', 'jedi.inference.gradual.type_var', 'jedi.inference.gradual.typing', 'jedi.inference.gradual.stub_value', 'jedi.inference.gradual.typeshed', 'jedi._compatibility', 'jedi.inference.compiled.subprocess.functions', 'jedi.api.exceptions', 'jedi.inference.compiled.subprocess', 'jedi.inference.imports', 'jedi.inference.param', 'jedi.inference.gradual.annotation', 'jedi.inference.value.decorator', 'jedi.inference.syntax_tree', 'jedi.inference', 'jedi.inference.gradual.conversion', 'jedi.inference.compiled.mixed', 'pydoc_data', 'pydoc_data.topics', 'jedi.api.keywords', 'jedi.api.completion_cache', 'jedi.api.helpers', 'jedi.api.classes', 'jedi.api.interpreter', 'jedi.api.strings', 'jedi.api.file_name', 'jedi.inference.docstring_utils', 'jedi.api.completion', 'filecmp', 'jedi.api.environment', 'jedi.inference.references', 'jedi.api.project', 'jedi.api.errors', 'jedi.inference.value.namespace', 'jedi.api.refactoring', 'jedi.api.refactoring.extract', 'jedi.inference.gradual.utils', 'jedi.api', 'jedi.plugins.stdlib', 'jedi.plugins.flask', 'jedi.plugins.pytest', 'jedi.plugins.django', 'jedi.plugins.registry', 'jedi', 'IPython.core.completer', 'IPython.terminal.ptutils', 'IPython.terminal.shortcuts.auto_match', 'IPython.terminal.shortcuts.filters', 'IPython.terminal.shortcuts.auto_suggest', 'IPython.terminal.shortcuts', 'concurrent.futures.thread', 'IPython.terminal.debugger', 'IPython.lib.clipboard', 'IPython.terminal.magics', 'IPython.terminal.pt_inputhooks', 'IPython.terminal.prompts', 'IPython.terminal.interactiveshell', 'IPython.core.magics.auto', 'IPython.core.magics.basic', 'http', 'email.feedparser', 'email.parser', 'http.client', 'urllib.response', 'urllib.error', '_scproxy', 'urllib.request', 'IPython.utils.contexts', 'IPython.core.magics.code', 'IPython.core.magics.config', 'IPython.core.magics.display', '_lsprof', 'profile', 'cProfile', 'pstats', 'timeit', 'IPython.utils.module_paths', 'resource', 'IPython.utils.timing', 'IPython.core.magics.ast_mod', 'IPython.core.magics.execution', 'IPython.core.magics.extension', 'IPython.core.magics.history', 'IPython.core.magics.logging', 'IPython.core.magics.namespace', 'IPython.core.magics.osm', 'IPython.core.magics.packaging', 'IPython.core.pylabtools', 'IPython.core.magics.pylab', 'IPython.core.magics.script', 'IPython.core.magics', 'IPython.core.shellapp', 'IPython.extensions', 'IPython.extensions.storemagic', 'IPython.terminal.ipapp', 'IPython.terminal.embed', 'IPython.utils.frame', 'IPython', 'ipykernel.control', 'ipykernel.heartbeat', 'ipykernel.iostream', 'comm.base_comm', 'comm', 'ipykernel.jsonutil', 'pwd', 'psutil._common', 'psutil._compat', 'psutil._psutil_osx', 'psutil._psposix', 'psutil._psutil_posix', 'psutil._psosx', 'psutil', 'tornado.gen', 'tornado.locks', 'tornado.queues', 'ipykernel.kernelbase', 'ipykernel.comm.comm', 'ipykernel.comm.manager', 'ipykernel.comm', 'ipykernel.compiler', 'debugpy._version', 'debugpy.public_api', 'debugpy', 'debugpy._vendored._util', 'debugpy._vendored', '_pydevd_bundle', 'encodings.ascii', 'encodings.latin_1', 'stringprep', 'encodings.idna', '_pydevd_bundle.pydevd_vm_type', '_pydev_bundle', 'xmlrpc', 'xml.parsers', 'pyexpat.errors', 'pyexpat.model', 'pyexpat', 'xml.parsers.expat.model', 'xml.parsers.expat.errors', 'xml.parsers.expat', 'gzip', 'xmlrpc.client', 'http.server', 'xmlrpc.server', '_pydev_bundle._pydev_saved_modules', '_pydevd_bundle.pydevd_constants', '_pydev_runfiles', '_pydevd_frame_eval', 'pydev_ipython', 'pydevd_plugins', '_pydev_bundle.pydev_log', '_pydev_bundle._pydev_filesystem_encoding', '_pydevd_bundle.pydevd_comm_constants', 'pydevd_file_utils', '_pydev_bundle._pydev_execfile', '_pydevd_bundle.pydevd_exec2', '_pydev_bundle.pydev_imports', '_pydev_bundle.pydev_is_thread_alive', '_pydev_bundle.pydev_override', 'pydevd_plugins.extensions', '_pydevd_bundle.pydevd_extension_utils', '_pydevd_bundle.pydevd_frame_utils', '_pydevd_bundle.pydevd_filtering', '_pydevd_bundle.pydevd_io', '_pydevd_bundle.pydevd_defaults', '_pydevd_bundle.pydevd_utils', '_pydevd_bundle.pydevd_runpy', '_pydev_bundle._pydev_tipper_common', '_pydev_bundle._pydev_imports_tipper', '_pydev_bundle._pydev_calltip_util', '_pydevd_bundle.pydevd_safe_repr', '_pydevd_bundle.pydevd_resolver', '_pydevd_bundle.pydevd_extension_api', '_pydevd_bundle.pydevd_xml', '_pydevd_bundle.pydevd_dont_trace', '_pydevd_frame_eval.vendored', '_pydevd_frame_eval.vendored.bytecode.flags', '_pydevd_frame_eval.vendored.bytecode.instr', '_pydevd_frame_eval.vendored.bytecode.bytecode', '_pydevd_frame_eval.vendored.bytecode.concrete', '_pydevd_frame_eval.vendored.bytecode.cfg', '_pydevd_frame_eval.vendored.bytecode', '_pydevd_bundle.pydevd_bytecode_utils', '_pydevd_bundle.pydevd_cython', '_pydevd_bundle.pydevd_cython_wrapper', '_pydevd_bundle.pydevd_additional_thread_info', '_pydevd_bundle.pydevd_thread_lifecycle', '_pydevd_bundle.pydevd_save_locals', '_pydev_bundle.pydev_monkey', 'pydevd_tracing', '_pydevd_bundle.pydevd_collect_bytecode_info', '_pydevd_bundle.pydevd_daemon_thread', '_pydevd_bundle.pydevd_timeout', '_pydevd_bundle.pydevd_vars', '_pydev_bundle.pydev_console_utils', '_pydevd_bundle.pydevd_import_class', '_pydevd_bundle.pydevd_breakpoints', '_pydevd_bundle.pydevd_custom_frames', '_pydevd_bundle.pydevd_dont_trace_files', '_pydevd_bundle.pydevd_net_command', '_pydevd_bundle.pydevconsole_code', '_pydev_bundle.pydev_umd', 'pydevconsole', '_pydev_bundle._pydev_completer', '_pydevd_bundle.pydevd_net_command_factory_xml', '_pydevd_bundle.pydevd_frame', '_pydevd_bundle.pydevd_additional_thread_info_regular', '_pydevd_bundle.pydevd_trace_dispatch', '_pydevd_frame_eval.pydevd_frame_eval_main', '_pydevd_bundle.pydevd_source_mapping', '_pydevd_bundle.pydevd_concurrency_analyser', '_pydevd_bundle.pydevd_concurrency_analyser.pydevd_thread_wrappers', '_pydevd_bundle.pydevd_concurrency_analyser.pydevd_concurrency_logger', '_pydevd_bundle._debug_adapter', '_pydevd_bundle._debug_adapter.pydevd_schema_log', '_pydevd_bundle._debug_adapter.pydevd_base_schema', '_pydevd_bundle._debug_adapter.pydevd_schema', '_pydevd_bundle.pydevd_reload', '_pydev_bundle.fsnotify', '_pydevd_bundle.pydevd_console', '_pydevd_bundle.pydevd_comm', '_pydevd_bundle.pydevd_net_command_factory_json', '_pydevd_bundle.pydevd_api', '_pydevd_bundle.pydevd_json_debug_options', '_pydevd_bundle.pydevd_process_net_command_json', '_pydevd_bundle.pydevd_traceproperty', '_pydevd_bundle.pydevd_process_net_command', '_pydevd_bundle.pydevd_suspended_frames', '_pydevd_bundle.pydevd_trace_api', 'pydevd_plugins.pydevd_line_validation', 'pydevd_plugins.django_debug', 'pydevd_plugins.jinja2_debug', '_pydevd_bundle.pydevd_plugin_utils', 'pydevd_plugins.extensions.types', 'pydevd_plugins.extensions.types.pydevd_helpers', 'pydevd_plugins.extensions.types.pydevd_plugin_numpy_types', 'pydevd_plugins.extensions.types.pydevd_plugin_pandas_types', 'pydevd_plugins.extensions.types.pydevd_plugins_django_form_str', 'pydevd', 'debugpy._vendored.force_pydevd', 'debugpy.server', 'debugpy.adapter', 'debugpy.common', 'debugpy.common.json', 'debugpy.common.timestamp', 'debugpy.common.util', 'plistlib', 'debugpy.common.log', 'debugpy.common.sockets', 'debugpy.server.api', 'ipykernel.debugger', 'packaging', 'packaging._structures', 'packaging.version', 'ipykernel.eventloops', 'IPython.core.payloadpage', 'ipykernel.displayhook', 'ipykernel.zmqshell', 'ipykernel.ipkernel', 'ipykernel.parentpoller', 'ipykernel.kernelapp', 'tornado.platform', 'tornado.platform.asyncio', 'faulthandler', 'IPython.core.completerlib', 'ctypes.macholib', 'ctypes.macholib.framework', 'ctypes.macholib.dylib', 'ctypes.macholib.dyld', 'ctypes.util', 'appnope._nope', 'appnope', 'pygments.styles.default')\n"
     ]
    }
   ],
   "source": [
    "import sys\n",
    "\n",
    "# print(sys.modules)\n",
    "tup = tuple(sys.modules.keys())\n",
    "# tup = sorted(tup, reverse=True)\n",
    "print('len:', len(tup))\n",
    "print(tup)\n",
    "\n",
    "# print('sys.modules:')\n",
    "# for idx,mod in enumerate(tup):\n",
    "#     print(idx,mod)\n"
   ]
  },
  {
   "cell_type": "code",
   "execution_count": 64,
   "metadata": {},
   "outputs": [
    {
     "name": "stdout",
     "output_type": "stream",
     "text": [
      "0 <module 'IPython' from '/Users/kang-air/.pyenv/versions/3.10.9/envs/first-py310/lib/python3.10/site-packages/IPython/__init__.py'>\n",
      "1 <module 'IPython.core' from '/Users/kang-air/.pyenv/versions/3.10.9/envs/first-py310/lib/python3.10/site-packages/IPython/core/__init__.py'>\n",
      "2 <module 'IPython.core.alias' from '/Users/kang-air/.pyenv/versions/3.10.9/envs/first-py310/lib/python3.10/site-packages/IPython/core/alias.py'>\n",
      "3 <module 'IPython.core.application' from '/Users/kang-air/.pyenv/versions/3.10.9/envs/first-py310/lib/python3.10/site-packages/IPython/core/application.py'>\n",
      "4 <module 'IPython.core.async_helpers' from '/Users/kang-air/.pyenv/versions/3.10.9/envs/first-py310/lib/python3.10/site-packages/IPython/core/async_helpers.py'>\n"
     ]
    }
   ],
   "source": [
    "import sys\n",
    "\n",
    "imsi_mod = (\n",
    "    sys.modules['sys'],\n",
    "    sys.modules['__future__'],\n",
    "    sys.modules['os.path'],\n",
    "    sys.modules['codecs'],\n",
    "    sys.modules['json'],\n",
    "    str(sys.modules['random']),\n",
    ")\n",
    "\n",
    "keys = list(sorted(sys.modules.keys(), reverse=False))\n",
    "for idx, mod in enumerate(keys):\n",
    "    # if idx < 1000:\n",
    "    if idx < 5:\n",
    "        print(idx, str(sys.modules[mod]))"
   ]
  },
  {
   "cell_type": "code",
   "execution_count": 106,
   "metadata": {},
   "outputs": [
    {
     "name": "stdout",
     "output_type": "stream",
     "text": [
      "foo: 3 4\n",
      "bar: hello\n",
      "1:, 7, hello\n",
      "--------------------------------------------------------------------------------\n",
      "2: <class '__main__.Employee'>\n",
      "2: ['__class__', '__delattr__', '__dict__', '__dir__', '__doc__', '__eq__', '__format__', '__ge__', '__getattribute__', '__gt__', '__hash__', '__init__', '__init_subclass__', '__le__', '__lt__', '__module__', '__ne__', '__new__', '__reduce__', '__reduce_ex__', '__repr__', '__setattr__', '__sizeof__', '__str__', '__subclasshook__', '__weakref__', 'defaultMethod', 'emp_count', 'emp_value']\n",
      "2: {'__module__': '__main__', '__doc__': ' document string for Employee class ', 'emp_value': 123, 'emp_count': 12, '__init__': <function Employee.__init__ at 0x10f44c4c0>, 'defaultMethod': <function Employee.defaultMethod at 0x10f44c040>, '__dict__': <attribute '__dict__' of 'Employee' objects>, '__weakref__': <attribute '__weakref__' of 'Employee' objects>}\n",
      "--------------------------------------------------------------------------------\n",
      "3: 000: __class__                 ----------------\n",
      "3: 001: __delattr__               ----------------\n",
      "3: 002: __dict__                  <attribute '__dict__' of 'Employee' objects>\n",
      "3: 003: __dir__                   ----------------\n",
      "3: 004: __doc__                    document string for Employee class \n",
      "3: 005: __eq__                    ----------------\n",
      "3: 006: __format__                ----------------\n",
      "3: 007: __ge__                    ----------------\n",
      "3: 008: __getattribute__          ----------------\n",
      "3: 009: __gt__                    ----------------\n",
      "3: 010: __hash__                  ----------------\n",
      "3: 011: __init__                  <function Employee.__init__ at 0x10f44c4c0>\n",
      "3: 012: __init_subclass__         ----------------\n",
      "3: 013: __le__                    ----------------\n",
      "3: 014: __lt__                    ----------------\n",
      "3: 015: __module__                __main__\n",
      "3: 016: __ne__                    ----------------\n",
      "3: 017: __new__                   ----------------\n",
      "3: 018: __reduce__                ----------------\n",
      "3: 019: __reduce_ex__             ----------------\n",
      "3: 020: __repr__                  ----------------\n",
      "3: 021: __setattr__               ----------------\n",
      "3: 022: __sizeof__                ----------------\n",
      "3: 023: __str__                   ----------------\n",
      "3: 024: __subclasshook__          ----------------\n",
      "3: 025: __weakref__               <attribute '__weakref__' of 'Employee' objects>\n",
      "3: 026: defaultMethod             <function Employee.defaultMethod at 0x10f44c040>\n",
      "3: 027: emp_count                 12\n",
      "3: 028: emp_value                 123\n",
      "--------------------------------------------------------------------------------\n",
      "4:      __module__                __main__\n",
      "4:      __doc__                    document string for Employee class \n",
      "4:      emp_value                 123\n",
      "4:      emp_count                 12\n",
      "4:      __init__                  <function Employee.__init__ at 0x10f44c4c0>\n",
      "4:      defaultMethod             <function Employee.defaultMethod at 0x10f44c040>\n",
      "4:      __dict__                  <attribute '__dict__' of 'Employee' objects>\n",
      "4:      __weakref__               <attribute '__weakref__' of 'Employee' objects>\n",
      "--------------------------------------------------------------------------------\n"
     ]
    }
   ],
   "source": [
    "import sys\n",
    "import json\n",
    "\n",
    "def do_foo(x, y):\n",
    "    print('foo:', x, y)\n",
    "    return x + y\n",
    "\n",
    "def do_bar(s):\n",
    "    print('bar:', s)\n",
    "    return s\n",
    "\n",
    "class Employee(object):\n",
    "    ''' document string for Employee class '''\n",
    "    emp_value = 123\n",
    "    emp_count = 12\n",
    "\n",
    "    def __init__(self, name='John', age=25, company='Amazon'):\n",
    "        self._name = name\n",
    "        self._age = age\n",
    "        self._company = company\n",
    "\n",
    "    def defaultMethod(self):\n",
    "        print(\"This is a default method\")\n",
    "\n",
    "# main code\n",
    "foo = getattr(sys.modules[__name__], 'do_foo')(3, 4)\n",
    "bar = getattr(sys.modules[__name__], 'do_bar')('hello')\n",
    "print('1:', foo, bar, sep=', ')\n",
    "print('-'*80)\n",
    "\n",
    "emp = getattr(sys.modules[__name__], 'Employee')\n",
    "print('2:', emp)\n",
    "print('2:', dir(emp))\n",
    "print('2:', emp.__dict__)\n",
    "print('-'*80)\n",
    "\n",
    "# for i, itm in enumerate(dir(emp)):\n",
    "for i, mod in enumerate(dir(Employee)):\n",
    "    try:\n",
    "        print(f'3: {i:03d}: {mod:<25}', Employee.__dict__[mod])\n",
    "    except Exception as e:\n",
    "        # print(f'Error:', e)\n",
    "        print(f'3: {i:03d}: {mod:<25}', '----------------')\n",
    "        pass\n",
    "print('-'*80)\n",
    "\n",
    "for key, value in Employee.__dict__.items():\n",
    "# for key, value in Employee().__dict__.items():\n",
    "    print(f'4:      {key:<25} {value}')\n",
    "print('-'*80)\n"
   ]
  },
  {
   "cell_type": "markdown",
   "metadata": {},
   "source": [
    "### [sys : 인터프리터를 제어하는 모듈](https://ctkim.tistory.com/entry/python-sys-모듈)"
   ]
  },
  {
   "cell_type": "code",
   "execution_count": 56,
   "metadata": {},
   "outputs": [
    {
     "name": "stdout",
     "output_type": "stream",
     "text": [
      "101\n",
      "101\n",
      "35\n",
      "35\n",
      "argv: ['/Users/kang-air/.pyenv/versions/3.10.9/envs/first-py310/lib/python3.10/site-packages/ipykernel_launcher.py', '--f=/Users/kang-air/Library/Jupyter/runtime/kernel-v2-450966w6ft3t4678r.json']\n",
      "0 /Users/kang-air/.pyenv/versions/3.10.9/envs/first-py310/lib/python3.10/site-packages/ipykernel_launcher.py\n",
      "1 --f=/Users/kang-air/Library/Jupyter/runtime/kernel-v2-450966w6ft3t4678r.json\n"
     ]
    }
   ],
   "source": [
    "import sys\n",
    "\n",
    "print(len(sys.modules['sys'].__dict__))\n",
    "print(len(sys.modules['sys'].__dir__()))\n",
    "print(len(sys.modules['io'].__dict__))\n",
    "print(len(sys.modules['io'].__dir__()))\n",
    "\n",
    "# python example.py arg1 arg2 arg3\n",
    "# 0 example.py\n",
    "# 1 arg1\n",
    "# 2 arg2\n",
    "# 3 arg3\n",
    "print('argv:', sys.argv)\n",
    "for idx, arg in enumerate(sys.argv):\n",
    "    print(idx, arg)"
   ]
  },
  {
   "cell_type": "code",
   "execution_count": 2,
   "metadata": {},
   "outputs": [
    {
     "name": "stdout",
     "output_type": "stream",
     "text": [
      "platform: darwin\n"
     ]
    }
   ],
   "source": [
    "import sys\n",
    "platform = sys.platform\n",
    "print('platform:', platform)"
   ]
  },
  {
   "cell_type": "code",
   "execution_count": 3,
   "metadata": {},
   "outputs": [
    {
     "name": "stdout",
     "output_type": "stream",
     "text": [
      "version: 3.10.9 (main, Feb 15 2023, 20:56:52) [Clang 12.0.0 (clang-1200.0.26.2)]\n"
     ]
    }
   ],
   "source": [
    "import sys\n",
    "version = sys.version\n",
    "print('version:', version)"
   ]
  },
  {
   "cell_type": "code",
   "execution_count": 4,
   "metadata": {},
   "outputs": [
    {
     "name": "stdout",
     "output_type": "stream",
     "text": [
      "size: 104\n"
     ]
    }
   ],
   "source": [
    "import sys\n",
    "my_list = [1,2,3,4,5]\n",
    "size = sys.getsizeof(my_list)\n",
    "print('size:', size)"
   ]
  },
  {
   "cell_type": "code",
   "execution_count": 6,
   "metadata": {},
   "outputs": [
    {
     "name": "stdout",
     "output_type": "stream",
     "text": [
      "default.encoding: utf-8\n"
     ]
    }
   ],
   "source": [
    "import sys\n",
    "encoding = sys.getdefaultencoding()\n",
    "print('default.encoding:', encoding)"
   ]
  },
  {
   "cell_type": "code",
   "execution_count": 7,
   "metadata": {},
   "outputs": [
    {
     "name": "stdout",
     "output_type": "stream",
     "text": [
      "system.encoding: utf-8\n"
     ]
    }
   ],
   "source": [
    "import sys\n",
    "encoding = sys.getfilesystemencoding()\n",
    "print('system.encoding:', encoding)"
   ]
  },
  {
   "cell_type": "code",
   "execution_count": 8,
   "metadata": {},
   "outputs": [
    {
     "name": "stdout",
     "output_type": "stream",
     "text": [
      "ref.count: 2\n"
     ]
    }
   ],
   "source": [
    "import sys\n",
    "my_list = [1,2,3,4,5]\n",
    "count = sys.getrefcount(my_list)\n",
    "print('ref.count:', count)"
   ]
  },
  {
   "cell_type": "code",
   "execution_count": 21,
   "metadata": {},
   "outputs": [
    {
     "data": {
      "text/plain": [
       "470935"
      ]
     },
     "execution_count": 21,
     "metadata": {},
     "output_type": "execute_result"
    }
   ],
   "source": [
    "import sys\n",
    "sys.setrecursionlimit(1000)  # 3% of 1000 is 30\n",
    "\n",
    "def recursive_func(n):\n",
    "    if n == 0:\n",
    "        return 0\n",
    "        # return\n",
    "    return n + recursive_func(n-1)\n",
    "    # return recursive_func(n-1)\n",
    "\n",
    "recursive_func(970)"
   ]
  },
  {
   "cell_type": "code",
   "execution_count": 27,
   "metadata": {},
   "outputs": [
    {
     "name": "stdout",
     "output_type": "stream",
     "text": [
      "예외 타입: <class 'ZeroDivisionError'>\n",
      "예외 메시지: division by zero\n",
      "예외 추적 정보: <traceback object at 0x10e007980>\n"
     ]
    }
   ],
   "source": [
    "import sys\n",
    "import json\n",
    "\n",
    "def raise_exception():\n",
    "    x = 1/0\n",
    "\n",
    "try:\n",
    "    raise_exception()\n",
    "except:\n",
    "    exc_type, exc_value, exc_traceback = sys.exc_info()\n",
    "    print(f'예외 타입: {exc_type}')\n",
    "    print(f'예외 메시지: {exc_value}')\n",
    "    print(f'예외 추적 정보: {exc_traceback}')\n",
    "    # print(json.dumps(sys.exc_info(), indent=2))\n",
    "    # print(json.dumps(exc_traceback, indent=2))"
   ]
  },
  {
   "cell_type": "code",
   "execution_count": 65,
   "metadata": {},
   "outputs": [],
   "source": [
    "def displayhook(value):\n",
    "    if value is None:\n",
    "        return\n",
    "    # Set '_' to None to avoid recursion\n",
    "    # builtins._ = None\n",
    "    text = repr(value)\n",
    "    try:\n",
    "        sys.stdout.write(text)\n",
    "    except UnicodeEncodeError:\n",
    "        bytes = text.encode(sys.stdout.encoding, 'backslashreplace')\n",
    "        if hasattr(sys.stdout, 'buffer'):\n",
    "            sys.stdout.buffer.write(bytes)\n",
    "        else:\n",
    "            text = bytes.decode(sys.stdout.encoding, 'strict')\n",
    "            sys.stdout.write(text)\n",
    "    sys.stdout.write(\"\\n\")\n",
    "    # builtins._ = value"
   ]
  },
  {
   "cell_type": "code",
   "execution_count": 14,
   "metadata": {},
   "outputs": [
    {
     "name": "stdout",
     "output_type": "stream",
     "text": [
      "foo 1 2\n",
      "bar ('hello',)\n",
      "foo 3 4\n"
     ]
    }
   ],
   "source": [
    "#Python 2\n",
    "records = [\n",
    "    ('foo', 1,2),\n",
    "    ('bar','hello'),     \n",
    "    ('foo',3,4),      \n",
    "          ]\n",
    "\n",
    "def do_foo(x,y):\n",
    "    print('foo',x,y)\n",
    "    \n",
    "def do_bar(s):\n",
    "    print('bar',s)\n",
    "\n",
    "for rec in records:\n",
    "    if rec[0] == 'foo':\n",
    "        do_foo(rec[1],rec[2])\n",
    "    elif rec[0] == 'bar':\n",
    "        do_bar(rec[1:])"
   ]
  },
  {
   "cell_type": "code",
   "execution_count": 15,
   "metadata": {},
   "outputs": [
    {
     "name": "stdout",
     "output_type": "stream",
     "text": [
      "nobody /var/empty /usr/bin/false\n"
     ]
    }
   ],
   "source": [
    "#Python 3\n",
    "\n",
    "line = 'nobody:*:-2:-2:Unprivileged User:/var/empty:/usr/bin/false'\n",
    "uname, *fields, homedir, sh = line.split(':')\n",
    "print(uname, homedir, sh)"
   ]
  },
  {
   "cell_type": "code",
   "execution_count": 16,
   "metadata": {},
   "outputs": [
    {
     "name": "stdout",
     "output_type": "stream",
     "text": [
      "nobody\n",
      "/var/empty\n",
      "/usr/bin/false\n"
     ]
    }
   ],
   "source": [
    "#Python 2\n",
    "\n",
    "line = 'nobody:*:-2:-2:Unprivileged User:/var/empty:/usr/bin/false'\n",
    "\n",
    "list1 = line.split(':')\n",
    "print(list1[0])  # uname\n",
    "print(list1[-2])  # homedir\n",
    "print(list1[-1])  # sh"
   ]
  },
  {
   "cell_type": "code",
   "execution_count": 18,
   "metadata": {},
   "outputs": [
    {
     "name": "stdout",
     "output_type": "stream",
     "text": [
      "ACME 12 2012\n"
     ]
    }
   ],
   "source": [
    "#Python 3\n",
    "\n",
    "record = ('ACME', 50, 123.45, (12,18,2012))\n",
    "name, *_, (mon, *_,year) = record\n",
    "print(name, mon, year)"
   ]
  },
  {
   "cell_type": "code",
   "execution_count": 19,
   "metadata": {},
   "outputs": [
    {
     "name": "stdout",
     "output_type": "stream",
     "text": [
      "ACME 12 2012\n"
     ]
    }
   ],
   "source": [
    "#Python 2\n",
    "\n",
    "record = ('ACME', 50, 123.45, (12,18,2012))\n",
    "name = record[0]\n",
    "mon = record[-1][0]\n",
    "year = record[-1][-1]\n",
    "\n",
    "print(name, mon, year)"
   ]
  },
  {
   "cell_type": "code",
   "execution_count": 15,
   "metadata": {},
   "outputs": [
    {
     "name": "stdout",
     "output_type": "stream",
     "text": [
      "1 [10, 7]\n"
     ]
    },
    {
     "data": {
      "text/plain": [
       "18"
      ]
     },
     "execution_count": 15,
     "metadata": {},
     "output_type": "execute_result"
    }
   ],
   "source": [
    "#Python 3 \n",
    "\n",
    "items = [1,10,7,4,5,9,]\n",
    "# items = [1,10,7,]\n",
    "head, *tail = items\n",
    "print(head, tail)\n",
    "\n",
    "def sum2(head,tail):\n",
    "    return head + sum(tail) if tail else head\n",
    "\n",
    "sum2(head,tail)"
   ]
  },
  {
   "cell_type": "code",
   "execution_count": 16,
   "metadata": {},
   "outputs": [
    {
     "name": "stdout",
     "output_type": "stream",
     "text": [
      "1 [10, 7, 4, 5, 9]\n",
      "36\n"
     ]
    }
   ],
   "source": [
    "#Python 2\n",
    "\n",
    "items = [1,10,7,4,5,9]\n",
    "head = items[0]\n",
    "tail = items[1:]\n",
    "print(head, tail)\n",
    "\n",
    "p = 0\n",
    "for i in tail:\n",
    "    p += i  # p = sum(tail)\n",
    "print(head+p)"
   ]
  },
  {
   "cell_type": "code",
   "execution_count": null,
   "metadata": {},
   "outputs": [],
   "source": []
  },
  {
   "cell_type": "code",
   "execution_count": 1,
   "metadata": {
    "collapsed": true
   },
   "outputs": [
    {
     "name": "stdout",
     "output_type": "stream",
     "text": [
      "Hello world\n"
     ]
    }
   ],
   "source": [
    "print('Hello world')"
   ]
  }
 ],
 "metadata": {
  "kernelspec": {
   "display_name": "first-py310",
   "language": "python",
   "name": "python3"
  },
  "language_info": {
   "codemirror_mode": {
    "name": "ipython",
    "version": 3
   },
   "file_extension": ".py",
   "mimetype": "text/x-python",
   "name": "python",
   "nbconvert_exporter": "python",
   "pygments_lexer": "ipython3",
   "version": "3.10.9"
  }
 },
 "nbformat": 4,
 "nbformat_minor": 2
}
