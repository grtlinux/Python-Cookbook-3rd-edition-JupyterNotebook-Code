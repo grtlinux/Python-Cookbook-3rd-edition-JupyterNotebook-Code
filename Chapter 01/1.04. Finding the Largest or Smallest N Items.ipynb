{
 "cells": [
  {
   "cell_type": "markdown",
   "metadata": {},
   "source": [
    "### 1.04. Finding the Largest or Smallest N Items"
   ]
  },
  {
   "cell_type": "code",
   "execution_count": 2,
   "metadata": {},
   "outputs": [
    {
     "name": "stdout",
     "output_type": "stream",
     "text": [
      "[42, 37, 23, 23, 18, 8, 7, 2, 2, 1, -4]\n",
      "[-4, 1, 2, 2, 7, 8, 18, 23, 23, 37, 42]\n"
     ]
    }
   ],
   "source": [
    "import heapq\n",
    "\n",
    "nums = [1,8,2,23,7,-4,18,23,42,37,2]\n",
    "\n",
    "print(heapq.nlargest(len(nums),nums))\n",
    "print(heapq.nsmallest(len(nums),nums))\n"
   ]
  },
  {
   "cell_type": "code",
   "execution_count": 5,
   "metadata": {},
   "outputs": [
    {
     "name": "stdout",
     "output_type": "stream",
     "text": [
      "[{'name': 'YHOO', 'price': 16.35, 'shares': 45},\n",
      " {'name': 'FB', 'price': 21.09, 'shares': 200},\n",
      " {'name': 'HPQ', 'price': 31.75, 'shares': 35},\n",
      " {'name': 'IBM', 'price': 91.1, 'shares': 100},\n",
      " {'name': 'ACME', 'price': 115.65, 'shares': 75},\n",
      " {'name': 'AAPL', 'price': 543.22, 'shares': 50}]\n",
      "[{'name': 'AAPL', 'price': 543.22, 'shares': 50},\n",
      " {'name': 'ACME', 'price': 115.65, 'shares': 75},\n",
      " {'name': 'IBM', 'price': 91.1, 'shares': 100},\n",
      " {'name': 'HPQ', 'price': 31.75, 'shares': 35},\n",
      " {'name': 'FB', 'price': 21.09, 'shares': 200},\n",
      " {'name': 'YHOO', 'price': 16.35, 'shares': 45}]\n"
     ]
    }
   ],
   "source": [
    "portfolio = [\n",
    "     {'name': 'IBM', 'shares': 100, 'price': 91.1},\n",
    "     {'name': 'AAPL', 'shares': 50, 'price': 543.22},\n",
    "     {'name': 'FB', 'shares': 200, 'price': 21.09},\n",
    "     {'name': 'HPQ', 'shares': 35, 'price': 31.75},\n",
    "     {'name': 'YHOO', 'shares': 45, 'price': 16.35},\n",
    "     {'name': 'ACME', 'shares': 75, 'price': 115.65}\n",
    "]\n",
    "\n",
    "cheap = heapq.nsmallest(len(portfolio), portfolio, key=lambda k: k['price'])\n",
    "expensive = heapq.nlargest(len(portfolio), portfolio, key=lambda k: k['price'])\n",
    "\n",
    "from pprint import pprint as pp\n",
    "pp(cheap)\n",
    "pp(expensive)"
   ]
  },
  {
   "cell_type": "code",
   "execution_count": 12,
   "metadata": {},
   "outputs": [
    {
     "name": "stdout",
     "output_type": "stream",
     "text": [
      "[-4, 2, 1, 23, 7, 2, 18, 23, 42, 37, 8]\n"
     ]
    }
   ],
   "source": [
    "nums = [1,8,2,23,7,-4,18,23,42,37,2]\n",
    "\n",
    "import heapq\n",
    "heap = list(nums)\n",
    "heapq.heapify(heap)\n",
    "# heapq.heapify(nums)\n",
    "print(heap)"
   ]
  },
  {
   "cell_type": "code",
   "execution_count": 13,
   "metadata": {},
   "outputs": [
    {
     "name": "stdout",
     "output_type": "stream",
     "text": [
      "-4\n",
      "1\n",
      "2\n"
     ]
    },
    {
     "data": {
      "text/plain": [
       "[2, 7, 8, 23, 42, 37, 18, 23]"
      ]
     },
     "execution_count": 13,
     "metadata": {},
     "output_type": "execute_result"
    }
   ],
   "source": [
    "print(heapq.heappop(heap))\n",
    "print(heapq.heappop(heap))\n",
    "print(heapq.heappop(heap))\n",
    "heap"
   ]
  },
  {
   "cell_type": "code",
   "execution_count": 8,
   "metadata": {
    "collapsed": true
   },
   "outputs": [
    {
     "name": "stdout",
     "output_type": "stream",
     "text": [
      "Hello World!\n"
     ]
    }
   ],
   "source": [
    "print('Hello World!')"
   ]
  }
 ],
 "metadata": {
  "kernelspec": {
   "display_name": "first-py310",
   "language": "python",
   "name": "python3"
  },
  "language_info": {
   "codemirror_mode": {
    "name": "ipython",
    "version": 3
   },
   "file_extension": ".py",
   "mimetype": "text/x-python",
   "name": "python",
   "nbconvert_exporter": "python",
   "pygments_lexer": "ipython3",
   "version": "3.10.9"
  }
 },
 "nbformat": 4,
 "nbformat_minor": 2
}
