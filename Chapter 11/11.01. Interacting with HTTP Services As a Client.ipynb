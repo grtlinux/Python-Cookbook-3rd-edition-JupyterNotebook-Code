{
 "cells": [
  {
   "cell_type": "markdown",
   "metadata": {},
   "source": [
    "### 11.01. Interacting with HTTP Services As a Client"
   ]
  },
  {
   "cell_type": "code",
   "execution_count": 12,
   "metadata": {},
   "outputs": [
    {
     "name": "stdout",
     "output_type": "stream",
     "text": [
      "http://httpbin.org/get?name1=value1&name2=value2&param1=%ED%95%9C%EA%B8%80\n",
      "{'args': {'name1': 'value1', 'name2': 'value2', 'param1': '한글'},\n",
      " 'headers': {'Accept-Encoding': 'identity',\n",
      "             'Host': 'httpbin.org',\n",
      "             'User-Agent': 'Python-urllib/3.10',\n",
      "             'X-Amzn-Trace-Id': 'Root=1-65f41dfa-67cb6984446fbc556d58003b'},\n",
      " 'origin': '121.141.115.224',\n",
      " 'url': 'http://httpbin.org/get?name1=value1&name2=value2&param1=한글'}\n"
     ]
    }
   ],
   "source": [
    "from urllib import request, parse\n",
    "\n",
    "# Base URL being accessed\n",
    "url = 'http://httpbin.org/get'\n",
    "\n",
    "# Dictionary of query parameters (if any)\n",
    "parms = {\n",
    "    'name1' : 'value1',\n",
    "    'name2' : 'value2',\n",
    "    'param1' : '한글',\n",
    "}\n",
    "\n",
    "# Encode the query string\n",
    "querystring = parse.urlencode(parms)\n",
    "\n",
    "get_url = url + '?' + querystring\n",
    "print(get_url)\n",
    "\n",
    "# Make a GET request and read the response\n",
    "urlopen_return = request.urlopen(get_url)  # get\n",
    "response = urlopen_return.read()\n",
    "\n",
    "# print response\n",
    "import json, pprint\n",
    "resp = json.loads(response.decode('utf-8'))\n",
    "# print(json.dumps(resp, indent=4))\n",
    "pprint.pprint(resp)"
   ]
  },
  {
   "cell_type": "code",
   "execution_count": null,
   "metadata": {},
   "outputs": [],
   "source": [
    "import sys\n",
    "# sys.executable = '/Users/kang-air/.pyenv/versions/3.10.9/envs/first-py310/bin/python'\n",
    "# ! {sys.executable} - python -m pip install --upgrade pip\n",
    "! {sys.executable} -m pip list"
   ]
  },
  {
   "cell_type": "code",
   "execution_count": 13,
   "metadata": {
    "collapsed": true
   },
   "outputs": [
    {
     "name": "stdout",
     "output_type": "stream",
     "text": [
      "1: name1=value1&name2=value2&param1=%ED%95%9C%EA%B8%80\n",
      "2: b'name1=value1&name2=value2&param1=%ED%95%9C%EA%B8%80'\n",
      "{'args': {},\n",
      " 'data': '',\n",
      " 'files': {},\n",
      " 'form': {'name1': 'value1', 'name2': 'value2', 'param1': '한글'},\n",
      " 'headers': {'Accept-Encoding': 'identity',\n",
      "             'Content-Length': '51',\n",
      "             'Content-Type': 'application/x-www-form-urlencoded',\n",
      "             'Host': 'httpbin.org',\n",
      "             'User-Agent': 'Python-urllib/3.10',\n",
      "             'X-Amzn-Trace-Id': 'Root=1-65f41e20-14a82e0a29cab3ea3bd279cc'},\n",
      " 'json': None,\n",
      " 'origin': '121.141.115.224',\n",
      " 'url': 'http://httpbin.org/post'}\n"
     ]
    }
   ],
   "source": [
    "from urllib import request, parse\n",
    "\n",
    "# Base URL being accessed\n",
    "url = 'http://httpbin.org/post'\n",
    "\n",
    "# Dictionary of query parameters (if any)\n",
    "parms = {\n",
    "    'name1' : 'value1',\n",
    "    'name2' : 'value2',\n",
    "    'param1' : '한글',\n",
    "}\n",
    "\n",
    "# Encode the query string\n",
    "querystring = parse.urlencode(parms)\n",
    "print('1:', querystring)\n",
    "print('2:', querystring.encode('ascii'))\n",
    "\n",
    "# Make a POST request and read the response\n",
    "# urlopen_return = request.urlopen(url, querystring.encode('ascii'))  # POST by ascii\n",
    "urlopen_return = request.urlopen(url, querystring.encode('utf-8'))  # POST by utf-8\n",
    "response = urlopen_return.read()\n",
    "\n",
    "# print response\n",
    "import json, pprint\n",
    "resp = json.loads(response.decode('utf-8'))\n",
    "# print(json.dumps(resp, indent=4))\n",
    "pprint.pprint(resp)"
   ]
  },
  {
   "cell_type": "code",
   "execution_count": 14,
   "metadata": {
    "collapsed": true
   },
   "outputs": [
    {
     "name": "stdout",
     "output_type": "stream",
     "text": [
      "{'args': {},\n",
      " 'data': '',\n",
      " 'files': {},\n",
      " 'form': {'name1': 'value1', 'name2': 'value2', 'param1': '한글'},\n",
      " 'headers': {'Accept-Encoding': 'identity',\n",
      "             'Content-Length': '51',\n",
      "             'Content-Type': 'application/x-www-form-urlencoded',\n",
      "             'Host': 'httpbin.org',\n",
      "             'Spam': 'Eggs',\n",
      "             'User-Agent': 'none/ofyourbusiness',\n",
      "             'X-Amzn-Trace-Id': 'Root=1-65f41f2a-1cc7931c24dbb8452510256d'},\n",
      " 'json': None,\n",
      " 'origin': '121.141.115.224',\n",
      " 'url': 'http://httpbin.org/post'}\n"
     ]
    }
   ],
   "source": [
    "from urllib import request, parse\n",
    "\n",
    "# Base URL being accessed\n",
    "url = 'http://httpbin.org/post'\n",
    "\n",
    "# Extra headers\n",
    "headers = {\n",
    " 'User-agent' : 'none/ofyourbusiness',\n",
    " 'Spam' : 'Eggs'\n",
    "}\n",
    "\n",
    "req = request.Request(url, querystring.encode('ascii'), headers=headers)\n",
    "# req = request.Request(url, querystring.encode('utf-8'), headers=headers)\n",
    "\n",
    "# Make a request and read the response\n",
    "urlopen_return = request.urlopen(req)  # POST\n",
    "response = urlopen_return.read()\n",
    "\n",
    "# print response\n",
    "import json, pprint\n",
    "resp = json.loads(response.decode('utf-8'))\n",
    "# print(json.dumps(resp, indent=4))\n",
    "pprint.pprint(resp)"
   ]
  },
  {
   "cell_type": "code",
   "execution_count": 15,
   "metadata": {
    "collapsed": true
   },
   "outputs": [
    {
     "name": "stdout",
     "output_type": "stream",
     "text": [
      "text: {\n",
      "  \"args\": {}, \n",
      "  \"data\": \"\", \n",
      "  \"files\": {}, \n",
      "  \"form\": {\n",
      "    \"name1\": \"value1\", \n",
      "    \"name2\": \"value2\", \n",
      "    \"param1\": \"\\ud55c\\uae00\"\n",
      "  }, \n",
      "  \"headers\": {\n",
      "    \"Accept\": \"*/*\", \n",
      "    \"Accept-Encoding\": \"gzip, deflate\", \n",
      "    \"Content-Length\": \"51\", \n",
      "    \"Content-Type\": \"application/x-www-form-urlencoded\", \n",
      "    \"Host\": \"httpbin.org\", \n",
      "    \"Message\": \"You're a good man.\", \n",
      "    \"Spam\": \"Eggs\", \n",
      "    \"User-Agent\": \"none/ofyourbusiness\", \n",
      "    \"X-Amzn-Trace-Id\": \"Root=1-65f42036-5201b64f0184ff57104f53be\"\n",
      "  }, \n",
      "  \"json\": null, \n",
      "  \"origin\": \"121.141.115.224\", \n",
      "  \"url\": \"http://httpbin.org/post\"\n",
      "}\n",
      "\n"
     ]
    }
   ],
   "source": [
    "import requests\n",
    "\n",
    "# Base URL being accessed\n",
    "url = 'http://httpbin.org/post'\n",
    "\n",
    "# Dictionary of query parameters (if any)\n",
    "parms = {\n",
    "    'name1' : 'value1',\n",
    "    'name2' : 'value2',\n",
    "    'param1' : '한글',\n",
    "}\n",
    "\n",
    "# Extra headers\n",
    "headers = {\n",
    " 'User-agent' : 'none/ofyourbusiness',\n",
    " 'Spam' : 'Eggs',\n",
    " 'Message' : 'You\\'re a good man.',\n",
    "}\n",
    "\n",
    "resp = requests.post(url, data=parms, headers=headers)\n",
    "\n",
    "# Decoded text returned by the request\n",
    "text = resp.text\n",
    "print('text:', text)"
   ]
  },
  {
   "cell_type": "code",
   "execution_count": 26,
   "metadata": {
    "collapsed": true
   },
   "outputs": [
    {
     "name": "stdout",
     "output_type": "stream",
     "text": [
      "status: 200\n",
      "content_type: text/plain\n",
      "content_length: 297\n",
      "resp.headers: {'Connection': 'keep-alive', 'Content-Length': '297', 'Content-Type': 'text/plain', 'X-Frame-Options': 'SAMEORIGIN', 'Content-Encoding': 'gzip', 'Via': '1.1 varnish, 1.1 varnish', 'Accept-Ranges': 'bytes', 'Date': 'Fri, 15 Mar 2024 10:28:21 GMT', 'Age': '162', 'X-Served-By': 'cache-iad-kiad7000098-IAD, cache-icn1450044-ICN', 'X-Cache': 'HIT, HIT', 'X-Cache-Hits': '32, 2', 'X-Timer': 'S1710498501.256913,VS0,VE0', 'Vary': 'Cookie, Accept-Encoding', 'Strict-Transport-Security': 'max-age=63072000; includeSubDomains; preload'}\n",
      "resp.url: https://www.python.org/robots.txt\n",
      "resp.text: # Directions for robots.  See this URL:\n",
      "# http://www.robotstxt.org/robotstxt.html\n",
      "# for a description of the file format.\n",
      "\n",
      "User-agent: HTTrack\n",
      "User-agent: puf\n",
      "User-agent: MSIECrawler\n",
      "Disallow: /\n",
      "\n",
      "# The Krugle web crawler (though based on Nutch) is OK.\n",
      "User-agent: Krugle\n",
      "Allow: /\n",
      "Disallow: /~guido/orlijn/\n",
      "Disallow: /webstats/\n",
      "\n",
      "# No one should be crawling us with Nutch.\n",
      "User-agent: Nutch\n",
      "Disallow: /\n",
      "\n",
      "# Hide old versions of the documentation and various large sets of files.\n",
      "User-agent: *\n",
      "Disallow: /~guido/orlijn/\n",
      "Disallow: /webstats/\n",
      "\n"
     ]
    }
   ],
   "source": [
    "import requests\n",
    "\n",
    "# resp = requests.head('http://www.python.org/robots.txt')\n",
    "# resp = requests.head('http://www.python.org/')\n",
    "# resp = requests.head('http://www.python.org/index.html')\n",
    "# resp = requests.head('http://www.python.org/index.html', allow_redirects=True)\n",
    "\n",
    "# resp = requests.get('http://www.python.org/')\n",
    "resp = requests.get('http://www.python.org/robots.txt')\n",
    "# resp = requests.get('http://www.python.org/index.html')\n",
    "\n",
    "status = resp.status_code\n",
    "# last_modified = resp.headers['last-modified']\n",
    "content_type = resp.headers['content-type']\n",
    "content_length = resp.headers['content-length']\n",
    "print('status:', status)\n",
    "# print('last_modified:', last_modified)\n",
    "print('content_type:', content_type)\n",
    "print('content_length:', content_length)\n",
    "print('resp.headers:', resp.headers)\n",
    "print('resp.url:', resp.url)\n",
    "print('resp.text:', resp.text)"
   ]
  },
  {
   "cell_type": "code",
   "execution_count": 27,
   "metadata": {
    "collapsed": true
   },
   "outputs": [
    {
     "name": "stdout",
     "output_type": "stream",
     "text": [
      "resp.status_code: 200\n"
     ]
    }
   ],
   "source": [
    "import requests\n",
    "\n",
    "resp = requests.get('http://pypi.python.org/pypi?:action=login',\n",
    "                    auth=('user','password'))\n",
    "print('resp.status_code:', resp.status_code)"
   ]
  },
  {
   "cell_type": "code",
   "execution_count": 30,
   "metadata": {
    "collapsed": true
   },
   "outputs": [
    {
     "name": "stdout",
     "output_type": "stream",
     "text": [
      "resp1.status_code: 200\n",
      "resp1.cookies: <RequestsCookieJar[]>\n",
      "--------------------------------------------------------------------------------\n",
      "resp2.status_code: 200\n",
      "resp2.cookies: <RequestsCookieJar[]>\n"
     ]
    }
   ],
   "source": [
    "import requests\n",
    "\n",
    "url = 'http://httpbin.org/'\n",
    "url = 'http://pypi.python.org/pypi'\n",
    "\n",
    "# First request\n",
    "resp1 = requests.get(url)\n",
    "print('resp1.status_code:', resp1.status_code)\n",
    "print('resp1.cookies:', resp1.cookies)\n",
    "print('-'*80)\n",
    "\n",
    "# Second requests with cookies received on first requests\n",
    "resp2 = requests.get(url, cookies=resp1.cookies)\n",
    "print('resp2.status_code:', resp2.status_code)\n",
    "print('resp2.cookies:', resp2.cookies)"
   ]
  },
  {
   "cell_type": "code",
   "execution_count": 31,
   "metadata": {
    "collapsed": true
   },
   "outputs": [
    {
     "name": "stdout",
     "output_type": "stream",
     "text": [
      "resp.status_code: 200\n",
      "resp.text: {\n",
      "  \"args\": {}, \n",
      "  \"data\": \"\", \n",
      "  \"files\": {\n",
      "    \"file\": \"hello world\\nthis is a test\\nof iterating over lines with a history\\npython is fun\\n\"\n",
      "  }, \n",
      "  \"form\": {}, \n",
      "  \"headers\": {\n",
      "    \"Accept\": \"*/*\", \n",
      "    \"Accept-Encoding\": \"gzip, deflate\", \n",
      "    \"Content-Length\": \"228\", \n",
      "    \"Content-Type\": \"multipart/form-data; boundary=dc6264dfc8cf30bed7d0b3281e1bb689\", \n",
      "    \"Host\": \"httpbin.org\", \n",
      "    \"User-Agent\": \"python-requests/2.31.0\", \n",
      "    \"X-Amzn-Trace-Id\": \"Root=1-65f4257d-2aed2e8c2ec828f40254bfee\"\n",
      "  }, \n",
      "  \"json\": null, \n",
      "  \"origin\": \"121.141.115.224\", \n",
      "  \"url\": \"http://httpbin.org/post\"\n",
      "}\n",
      "\n"
     ]
    }
   ],
   "source": [
    "import requests\n",
    "url = 'http://httpbin.org/post'\n",
    "# files = { 'file': ('data.csv', open('data.csv', 'rb')) }\n",
    "files = { 'file': ('somefile.txt', open('../data/04_1.somefile.txt', 'rb')) }\n",
    "\n",
    "resp = requests.post(url, files=files)\n",
    "print('resp.status_code:', resp.status_code)\n",
    "print('resp.text:', resp.text)"
   ]
  },
  {
   "cell_type": "code",
   "execution_count": 36,
   "metadata": {
    "collapsed": true
   },
   "outputs": [
    {
     "name": "stdout",
     "output_type": "stream",
     "text": [
      "Status 301\n",
      "{'Accept-Ranges': 'bytes',\n",
      " 'Connection': 'close',\n",
      " 'Content-Length': '0',\n",
      " 'Date': 'Fri, 15 Mar 2024 10:46:06 GMT',\n",
      " 'Location': 'https://www.python.org/index.html',\n",
      " 'Retry-After': '0',\n",
      " 'Server': 'Varnish',\n",
      " 'Strict-Transport-Security': 'max-age=63072000; includeSubDomains; preload',\n",
      " 'Via': '1.1 varnish',\n",
      " 'X-Cache': 'HIT',\n",
      " 'X-Cache-Hits': '0',\n",
      " 'X-Served-By': 'cache-icn1450032-ICN',\n",
      " 'X-Timer': 'S1710499567.525580,VS0,VE0'}\n"
     ]
    }
   ],
   "source": [
    "from http.client import HTTPConnection\n",
    "from urllib import parse\n",
    "\n",
    "conn = HTTPConnection('www.python.org', 80)\n",
    "# conn.request('HEAD', '/index.html')\n",
    "# conn.request('POST', '/index.html')\n",
    "conn.request('GET', '/index.html')\n",
    "resp = conn.getresponse()\n",
    "\n",
    "print('Status', resp.status)\n",
    "# for name, value in resp.getheaders():\n",
    "#     print(name, value)\n",
    "import json, pprint\n",
    "pprint.pprint(dict(resp.getheaders()))\n",
    "# print(json.dumps(dict(resp.getheaders()), indent=4))"
   ]
  },
  {
   "cell_type": "code",
   "execution_count": null,
   "metadata": {
    "collapsed": true
   },
   "outputs": [],
   "source": [
    "import urllib.request\n",
    "\n",
    "auth = urllib.request.HTTPBasicAuthHandler()\n",
    "auth.add_password('pypi','http://pypi.python.org','grtlinux','********')\n",
    "opener = urllib.request.build_opener(auth)\n",
    "\n",
    "r = urllib.request.Request('http://pypi.python.org/pypi?:action=login')\n",
    "u = opener.open(r)\n",
    "resp = u.read()\n",
    "print('resp:', resp.decode('utf-8'))  # bytes to str(utf-8)"
   ]
  },
  {
   "cell_type": "code",
   "execution_count": 45,
   "metadata": {
    "collapsed": true
   },
   "outputs": [
    {
     "name": "stdout",
     "output_type": "stream",
     "text": [
      "{'args': {'n': '37', 'name': 'Dave'},\n",
      " 'headers': {'Accept': '*/*',\n",
      "             'Accept-Encoding': 'gzip, deflate',\n",
      "             'Host': 'httpbin.org',\n",
      "             'User-Agent': 'goaway/1.0',\n",
      "             'X-Amzn-Trace-Id': 'Root=1-65f42d58-4902f90d1d2ae62a228ff44a'},\n",
      " 'origin': '121.141.115.224',\n",
      " 'url': 'http://httpbin.org/get?name=Dave&n=37'}\n"
     ]
    }
   ],
   "source": [
    "import requests\n",
    "\n",
    "r = requests.get('http://httpbin.org/get?name=Dave&n=37', headers = { 'User-agent': 'goaway/1.0' })\n",
    "resp = r.json()\n",
    "# resp['headers']\n",
    "\n",
    "import json, pprint\n",
    "pprint.pprint(resp)"
   ]
  },
  {
   "cell_type": "code",
   "execution_count": null,
   "metadata": {
    "collapsed": true
   },
   "outputs": [],
   "source": []
  },
  {
   "cell_type": "code",
   "execution_count": 40,
   "metadata": {},
   "outputs": [
    {
     "name": "stdout",
     "output_type": "stream",
     "text": [
      "Hello, world!\n"
     ]
    }
   ],
   "source": [
    "print('Hello, world!')"
   ]
  }
 ],
 "metadata": {
  "kernelspec": {
   "display_name": "first-py310",
   "language": "python",
   "name": "python3"
  },
  "language_info": {
   "codemirror_mode": {
    "name": "ipython",
    "version": 3
   },
   "file_extension": ".py",
   "mimetype": "text/x-python",
   "name": "python",
   "nbconvert_exporter": "python",
   "pygments_lexer": "ipython3",
   "version": "3.10.9"
  }
 },
 "nbformat": 4,
 "nbformat_minor": 2
}
