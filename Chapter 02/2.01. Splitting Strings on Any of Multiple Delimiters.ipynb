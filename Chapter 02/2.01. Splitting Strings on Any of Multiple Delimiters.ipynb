{
 "cells": [
  {
   "cell_type": "markdown",
   "metadata": {},
   "source": [
    "### 2.01. Splitting Strings on Any of Multiple Delimiters"
   ]
  },
  {
   "cell_type": "code",
   "execution_count": 8,
   "metadata": {},
   "outputs": [
    {
     "data": {
      "text/plain": [
       "['asdf', 'fjdk', 'afed', 'fjek', 'asdf', '123', '45', 'foo', 'bar']"
      ]
     },
     "execution_count": 8,
     "metadata": {},
     "output_type": "execute_result"
    }
   ],
   "source": [
    "line = 'asdf fjdk; afed, fjek,asdf, 123.45    foo    : bar'\n",
    "import re\n",
    "re.split(r'\\s*[:;,\\.\\s]\\s*',line)"
   ]
  },
  {
   "cell_type": "code",
   "execution_count": 9,
   "metadata": {},
   "outputs": [
    {
     "name": "stdout",
     "output_type": "stream",
     "text": [
      "['asdf', ' ', 'fjdk', ';', 'afed', ',', 'fjek', ',', 'asdf', ',', '123', '.', '45', ' ', 'foo', ':', 'bar']\n"
     ]
    }
   ],
   "source": [
    "fields = re.split(r'\\s*(:|;|,|\\.|\\s)\\s*',line)\n",
    "print(fields)"
   ]
  },
  {
   "cell_type": "code",
   "execution_count": 10,
   "metadata": {},
   "outputs": [
    {
     "name": "stdout",
     "output_type": "stream",
     "text": [
      "['asdf', 'fjdk', 'afed', 'fjek', 'asdf', '123', '45', 'foo', 'bar']\n",
      "[' ', ';', ',', ',', ',', '.', ' ', ':', '']\n"
     ]
    }
   ],
   "source": [
    "values = fields[::2]  # 0,2,4,6,8\n",
    "delimiters = fields[1::2] + ['']\n",
    "print(values)\n",
    "print(delimiters)"
   ]
  },
  {
   "cell_type": "code",
   "execution_count": 11,
   "metadata": {},
   "outputs": [
    {
     "data": {
      "text/plain": [
       "[' ', ';', ',', ',', ',', '.', ' ', ':', '']"
      ]
     },
     "execution_count": 11,
     "metadata": {},
     "output_type": "execute_result"
    }
   ],
   "source": [
    "delimiters"
   ]
  },
  {
   "cell_type": "code",
   "execution_count": 12,
   "metadata": {},
   "outputs": [
    {
     "data": {
      "text/plain": [
       "'asdf fjdk;afed,fjek,asdf,123.45 foo:bar'"
      ]
     },
     "execution_count": 12,
     "metadata": {},
     "output_type": "execute_result"
    }
   ],
   "source": [
    "''.join(v+d for v,d in zip(values,delimiters))"
   ]
  },
  {
   "cell_type": "code",
   "execution_count": 13,
   "metadata": {},
   "outputs": [
    {
     "data": {
      "text/plain": [
       "['asdf', 'fjdk', 'afed', 'fjek', 'asdf', '123', '45', 'foo', 'bar']"
      ]
     },
     "execution_count": 13,
     "metadata": {},
     "output_type": "execute_result"
    }
   ],
   "source": [
    "re.split(r'\\s*(?:,|:|;|\\.|\\s)\\s*',line)"
   ]
  },
  {
   "cell_type": "code",
   "execution_count": 1,
   "metadata": {},
   "outputs": [
    {
     "name": "stdout",
     "output_type": "stream",
     "text": [
      "ord('a') : 97\n",
      "ord('ㄱ') : 12593\n",
      "hex(ord('b')) : 0x62\n",
      "\n",
      "chr(97) : a\n",
      "chr(12593) : ㄱ\n",
      "chr(0x62) : b\n"
     ]
    }
   ],
   "source": [
    "result1 = ord('a')\n",
    "result2 = ord('ㄱ')\n",
    "result3 = hex(ord('b'))\n",
    "print(f\"ord('a') : {result1}\")\n",
    "print(f\"ord('ㄱ') : {result2}\")\n",
    "print(f\"hex(ord('b')) : {result3}\\n\")\n",
    "\n",
    "\n",
    "result4 = chr(97)\n",
    "result5 = chr(12593)\n",
    "result6 = chr(0x62)\n",
    "print(f\"chr(97) : {result4}\")\n",
    "print(f\"chr(12593) : {result5}\")\n",
    "print(f\"chr(0x62) : {result6}\")\n"
   ]
  },
  {
   "cell_type": "code",
   "execution_count": 2,
   "metadata": {},
   "outputs": [
    {
     "name": "stdout",
     "output_type": "stream",
     "text": [
      "chr(97) ~ chr(122) : ['a', 'b', 'c', 'd', 'e', 'f', 'g', 'h', 'i', 'j', 'k', 'l', 'm', 'n', 'o', 'p', 'q', 'r', 's', 't', 'u', 'v', 'w', 'x', 'y', 'z']\n",
      "chr(12593) ~ chr(12622) : ['ㄱ', 'ㄲ', 'ㄳ', 'ㄴ', 'ㄵ', 'ㄶ', 'ㄷ', 'ㄸ', 'ㄹ', 'ㄺ', 'ㄻ', 'ㄼ', 'ㄽ', 'ㄾ', 'ㄿ', 'ㅀ', 'ㅁ', 'ㅂ', 'ㅃ', 'ㅄ', 'ㅅ', 'ㅆ', 'ㅇ', 'ㅈ', 'ㅉ', 'ㅊ', 'ㅋ', 'ㅌ', 'ㅍ', 'ㅎ']\n",
      "\n",
      "ord('a') ~ ord('z') : 97 98 99 100 101 102 103 104 105 106 107 108 109 110 111 112 113 114 115 116 117 118 119 120 121 122 \n",
      "ord('ㄱ') ~ ord('ㅎ') : 12593 12594 12595 12596 12597 12598 12599 12600 12601 12602 12603 12604 12605 12606 12607 12608 12609 12610 12611 12612 12613 12614 12615 12616 12617 12618 12619 12620 12621 12622 "
     ]
    }
   ],
   "source": [
    "arr1 = []\n",
    "arr2 = []\n",
    "\n",
    "for val in range(97, 123):\n",
    "    arr1.append(chr(val)) # a ~ z\n",
    "\n",
    "for val in range(12593, 12623):\n",
    "    arr2.append(chr(val)) # ㄱ ~ ㅎ\n",
    "\n",
    "print(f\"chr(97) ~ chr(122) : {arr1}\")\n",
    "print(f\"chr(12593) ~ chr(12622) : {arr2}\")\n",
    "\n",
    "print()\n",
    "\n",
    "print(f\"ord('a') ~ ord('z') : \", end=\"\")\n",
    "for val in arr1:\n",
    "    print(ord(val), end=\" \")\n",
    "\n",
    "\n",
    "print()\n",
    "print(f\"ord('ㄱ') ~ ord('ㅎ') : \", end=\"\")\n",
    "for val in arr2:\n",
    "    print(ord(val), end=\" \")\n"
   ]
  },
  {
   "cell_type": "code",
   "execution_count": null,
   "metadata": {},
   "outputs": [],
   "source": []
  },
  {
   "cell_type": "code",
   "execution_count": 8,
   "metadata": {
    "collapsed": true
   },
   "outputs": [
    {
     "name": "stdout",
     "output_type": "stream",
     "text": [
      "Hello World!\n"
     ]
    }
   ],
   "source": [
    "print('Hello World!')"
   ]
  }
 ],
 "metadata": {
  "kernelspec": {
   "display_name": "first-py310",
   "language": "python",
   "name": "python3"
  },
  "language_info": {
   "codemirror_mode": {
    "name": "ipython",
    "version": 3
   },
   "file_extension": ".py",
   "mimetype": "text/x-python",
   "name": "python",
   "nbconvert_exporter": "python",
   "pygments_lexer": "ipython3",
   "version": "3.10.9"
  }
 },
 "nbformat": 4,
 "nbformat_minor": 2
}
