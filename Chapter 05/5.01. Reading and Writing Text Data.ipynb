{
 "cells": [
  {
   "cell_type": "markdown",
   "metadata": {},
   "source": [
    "### 5.01. Reading and Writing Text Data"
   ]
  },
  {
   "cell_type": "code",
   "execution_count": 3,
   "metadata": {
    "collapsed": true
   },
   "outputs": [
    {
     "name": "stdout",
     "output_type": "stream",
     "text": [
      "hello world\n",
      "this is a test\n",
      "of iterating over lines with a history\n",
      "python is fun\n",
      "\n",
      "0: hello world\n",
      "1: this is a test\n",
      "2: of iterating over lines with a history\n",
      "3: python is fun\n"
     ]
    }
   ],
   "source": [
    "# Read the entire file as a single string\n",
    "with open('../data/04_1.somefile.txt', 'rt') as f:\n",
    "    data = f.read()\n",
    "    print(data)\n",
    "\n",
    "\n",
    "# Iterate over the lines of the file\n",
    "with open('../data/04_1.somefile.txt', 'rt') as f:\n",
    "    for idx, line in enumerate(f):\n",
    "        print(f'{idx}: {line}', end='')\n",
    " # process line"
   ]
  },
  {
   "cell_type": "code",
   "execution_count": 4,
   "metadata": {
    "collapsed": true
   },
   "outputs": [],
   "source": [
    "# Write chunks of text data\n",
    "with open('../data/05_4.newsomefile.txt', 'wt') as f:\n",
    "    f.write('text1\\n')\n",
    "    f.write('text2\\n')"
   ]
  },
  {
   "cell_type": "code",
   "execution_count": 6,
   "metadata": {
    "collapsed": true
   },
   "outputs": [],
   "source": [
    "# Redirected print statement\n",
    "with open('../data/05_5.newsomefile.txt', 'wt') as f:\n",
    "    print('line1', file=f)\n",
    "    print('line2', file=f)\n"
   ]
  },
  {
   "cell_type": "code",
   "execution_count": 7,
   "metadata": {
    "collapsed": true
   },
   "outputs": [
    {
     "name": "stdout",
     "output_type": "stream",
     "text": [
      "0: hello world\n",
      "1: this is a test\n",
      "2: of iterating over lines with a history\n",
      "3: python is fun\n"
     ]
    }
   ],
   "source": [
    "with open('../data/04_1.somefile.txt', 'rt', encoding='latin-1') as f:\n",
    "    for idx, line in enumerate(f):\n",
    "        print(f'{idx}: {line}', end='')\n"
   ]
  },
  {
   "cell_type": "code",
   "execution_count": 8,
   "metadata": {
    "collapsed": true
   },
   "outputs": [
    {
     "name": "stdout",
     "output_type": "stream",
     "text": [
      "hello world\n",
      "this is a test\n",
      "of iterating over lines with a history\n",
      "python is fun\n",
      "\n"
     ]
    }
   ],
   "source": [
    "f = open('../data/04_1.somefile.txt', 'rt')\n",
    "data = f.read()\n",
    "f.close()\n",
    "print(data)"
   ]
  },
  {
   "cell_type": "code",
   "execution_count": 10,
   "metadata": {
    "collapsed": true
   },
   "outputs": [
    {
     "name": "stdout",
     "output_type": "stream",
     "text": [
      "0: hello world\n",
      "1: this is a test\n",
      "2: of iterating over lines with a history\n",
      "3: python is fun\n"
     ]
    }
   ],
   "source": [
    "# Read with disabled newline translation\n",
    "with open('../data/04_1.somefile.txt', 'rt', newline='') as f:\n",
    "    for idx, line in enumerate(f):\n",
    "        print(f'{idx}: {line}', end='')"
   ]
  },
  {
   "cell_type": "code",
   "execution_count": 11,
   "metadata": {
    "collapsed": true
   },
   "outputs": [
    {
     "data": {
      "text/plain": [
       "'hello world\\nthis is a test\\nof iterating over lines with a history\\npython is fun\\n'"
      ]
     },
     "execution_count": 11,
     "metadata": {},
     "output_type": "execute_result"
    }
   ],
   "source": [
    "# Newline translation enabled (the default)\n",
    "f = open('../data/05_6.sample.txt', 'rt')\n",
    "f.read()"
   ]
  },
  {
   "cell_type": "code",
   "execution_count": 12,
   "metadata": {
    "collapsed": true
   },
   "outputs": [
    {
     "data": {
      "text/plain": [
       "'hello world\\nthis is a test\\nof iterating over lines with a history\\npython is fun\\n'"
      ]
     },
     "execution_count": 12,
     "metadata": {},
     "output_type": "execute_result"
    }
   ],
   "source": [
    "# Newline translation disabled\n",
    "g = open('../data/05_6.sample.txt', 'rt', newline='')\n",
    "g.read()"
   ]
  },
  {
   "cell_type": "code",
   "execution_count": 13,
   "metadata": {
    "collapsed": true
   },
   "outputs": [
    {
     "data": {
      "text/plain": [
       "'hello world\\nthis is a test\\nof iterating over lines with a history\\npython is fun\\n'"
      ]
     },
     "execution_count": 13,
     "metadata": {},
     "output_type": "execute_result"
    }
   ],
   "source": [
    "f = open('../data/05_6.sample.txt', 'rt', encoding='ascii')\n",
    "f.read()"
   ]
  },
  {
   "cell_type": "code",
   "execution_count": 14,
   "metadata": {
    "collapsed": true
   },
   "outputs": [
    {
     "data": {
      "text/plain": [
       "'hello world\\nthis is a test\\nof iterating over lines with a history\\npython is fun\\n'"
      ]
     },
     "execution_count": 14,
     "metadata": {},
     "output_type": "execute_result"
    }
   ],
   "source": [
    "# Replace bad chars with Unicode U+fffd replacement char\n",
    "f = open('../data/05_6.sample.txt', 'rt', encoding='ascii', errors='replace')\n",
    "f.read()\n",
    "\n",
    "\n",
    "# Ignore bad chars entirely\n",
    "g = open('../data/05_6.sample.txt', 'rt', encoding='ascii', errors='ignore')\n",
    "g.read()"
   ]
  },
  {
   "cell_type": "code",
   "execution_count": 1,
   "metadata": {},
   "outputs": [
    {
     "name": "stdout",
     "output_type": "stream",
     "text": [
      "Hello, World!\n"
     ]
    }
   ],
   "source": [
    "print('Hello, World!')"
   ]
  }
 ],
 "metadata": {
  "kernelspec": {
   "display_name": "first-py310",
   "language": "python",
   "name": "python3"
  },
  "language_info": {
   "codemirror_mode": {
    "name": "ipython",
    "version": 3
   },
   "file_extension": ".py",
   "mimetype": "text/x-python",
   "name": "python",
   "nbconvert_exporter": "python",
   "pygments_lexer": "ipython3",
   "version": "3.10.9"
  }
 },
 "nbformat": 4,
 "nbformat_minor": 2
}
