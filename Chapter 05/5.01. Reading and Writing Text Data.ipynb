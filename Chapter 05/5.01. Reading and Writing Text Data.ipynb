{
 "cells": [
  {
   "cell_type": "markdown",
   "metadata": {},
   "source": [
    "### 5.01. Reading and Writing Text Data"
   ]
  },
  {
   "cell_type": "code",
   "execution_count": 1,
   "metadata": {
    "collapsed": true
   },
   "outputs": [
    {
     "name": "stdout",
     "output_type": "stream",
     "text": [
      "1. hello world\n",
      "2. this is a test\n",
      "3. of iterating over lines with a history\n",
      "4. python is fun\n",
      "\n",
      "0: 1. hello world\n",
      "1: 2. this is a test\n",
      "2: 3. of iterating over lines with a history\n",
      "3: 4. python is fun\n"
     ]
    }
   ],
   "source": [
    "# Read the entire file as a single string\n",
    "with open('../data/04_1.somefile.txt', 'rt') as f:\n",
    "    data = f.read()\n",
    "    print(data)\n",
    "\n",
    "\n",
    "# Iterate over the lines of the file\n",
    "with open('../data/04_1.somefile.txt', 'rt') as f:\n",
    "    for idx, line in enumerate(f):\n",
    "        print(f'{idx}: {line}', end='')\n",
    " # process line"
   ]
  },
  {
   "cell_type": "code",
   "execution_count": 2,
   "metadata": {
    "collapsed": true
   },
   "outputs": [],
   "source": [
    "# Write chunks of text data\n",
    "with open('../data/05_4.newsomefile.txt', 'wt') as f:\n",
    "    f.write('text1\\n')\n",
    "    f.write('text2\\n')"
   ]
  },
  {
   "cell_type": "code",
   "execution_count": 3,
   "metadata": {
    "collapsed": true
   },
   "outputs": [
    {
     "data": {
      "text/plain": [
       "'line1, line1\\r\\nline2\\r\\n'"
      ]
     },
     "execution_count": 3,
     "metadata": {},
     "output_type": "execute_result"
    }
   ],
   "source": [
    "# Redirected print statement\n",
    "with open('../data/05_5.newsomefile.txt', 'wt', newline='\\r\\n') as f:\n",
    "    print('line1', file=f, end=', ')\n",
    "    print('line1', file=f)\n",
    "    print('line2', file=f)\n",
    "\n",
    "f = open('../data/05_5.newsomefile.txt', 'rt', newline='\\r\\n')\n",
    "f.read()"
   ]
  },
  {
   "cell_type": "code",
   "execution_count": 4,
   "metadata": {
    "collapsed": true
   },
   "outputs": [
    {
     "name": "stdout",
     "output_type": "stream",
     "text": [
      "0: 1. hello world\n",
      "1: 2. this is a test\n",
      "2: 3. of iterating over lines with a history\n",
      "3: 4. python is fun\n"
     ]
    }
   ],
   "source": [
    "with open('../data/04_1.somefile.txt', 'rt', encoding='latin-1') as f:\n",
    "    for idx, line in enumerate(f):  # line is a string included newline\n",
    "        print(f'{idx}: {line}', end='')\n"
   ]
  },
  {
   "cell_type": "code",
   "execution_count": 5,
   "metadata": {
    "collapsed": true
   },
   "outputs": [
    {
     "name": "stdout",
     "output_type": "stream",
     "text": [
      "1. hello world\n",
      "2. this is a test\n",
      "3. of iterating over lines with a history\n",
      "4. python is fun\n",
      "\n"
     ]
    }
   ],
   "source": [
    "f = open('../data/04_1.somefile.txt', 'rt')\n",
    "data = f.read()\n",
    "f.close()\n",
    "print(data)"
   ]
  },
  {
   "cell_type": "code",
   "execution_count": 6,
   "metadata": {
    "collapsed": true
   },
   "outputs": [
    {
     "name": "stdout",
     "output_type": "stream",
     "text": [
      "0: 1. hello world\n",
      "1: 2. this is a test\n",
      "2: 3. of iterating over lines with a history\n",
      "3: 4. python is fun\n"
     ]
    }
   ],
   "source": [
    "# Read with disabled newline translation\n",
    "with open('../data/04_1.somefile.txt', 'rt') as f:\n",
    "    for idx, line in enumerate(f):\n",
    "        # print(f'{idx}: {line}')\n",
    "        print(f'{idx}: {line}', end='')"
   ]
  },
  {
   "cell_type": "code",
   "execution_count": 7,
   "metadata": {
    "collapsed": true
   },
   "outputs": [
    {
     "data": {
      "text/plain": [
       "'hello world\\nthis is a test\\nof iterating over lines with a history\\npython is fun\\n'"
      ]
     },
     "execution_count": 7,
     "metadata": {},
     "output_type": "execute_result"
    }
   ],
   "source": [
    "# Newline translation enabled (the default)\n",
    "f = open('../data/05_6.sample.txt', 'rt')\n",
    "f.read()"
   ]
  },
  {
   "cell_type": "code",
   "execution_count": 8,
   "metadata": {
    "collapsed": true
   },
   "outputs": [
    {
     "data": {
      "text/plain": [
       "'hello world\\nthis is a test\\nof iterating over lines with a history\\npython is fun\\n'"
      ]
     },
     "execution_count": 8,
     "metadata": {},
     "output_type": "execute_result"
    }
   ],
   "source": [
    "# Newline translation disabled\n",
    "g = open('../data/05_6.sample.txt', 'rt')\n",
    "g.read()"
   ]
  },
  {
   "cell_type": "code",
   "execution_count": 9,
   "metadata": {
    "collapsed": true
   },
   "outputs": [
    {
     "data": {
      "text/plain": [
       "'hello world\\nthis is a test\\nof iterating over lines with a history\\npython is fun\\n'"
      ]
     },
     "execution_count": 9,
     "metadata": {},
     "output_type": "execute_result"
    }
   ],
   "source": [
    "f = open('../data/05_6.sample.txt', 'rt', encoding='ascii')\n",
    "f.read()"
   ]
  },
  {
   "cell_type": "code",
   "execution_count": 10,
   "metadata": {
    "collapsed": true
   },
   "outputs": [
    {
     "name": "stdout",
     "output_type": "stream",
     "text": [
      "hello world\n",
      "this is a test\n",
      "of iterating over lines with a history\n",
      "python is fun\n",
      "\n",
      "--------------------------------------------------------------------------------\n",
      "hello world\n",
      "this is a test\n",
      "of iterating over lines with a history\n",
      "python is fun\n",
      "\n"
     ]
    }
   ],
   "source": [
    "# Replace bad chars with Unicode U+fffd replacement char\n",
    "f = open('../data/05_6.sample.txt', 'rt', encoding='ascii', errors='replace')\n",
    "print(f.read())\n",
    "print('-'*80)\n",
    "\n",
    "# Ignore bad chars entirely\n",
    "g = open('../data/05_6.sample.txt', 'rt', encoding='ascii', errors='ignore')\n",
    "print(g.read())"
   ]
  },
  {
   "cell_type": "code",
   "execution_count": null,
   "metadata": {},
   "outputs": [],
   "source": []
  },
  {
   "cell_type": "code",
   "execution_count": 11,
   "metadata": {},
   "outputs": [
    {
     "name": "stdout",
     "output_type": "stream",
     "text": [
      "Hello, World!\n"
     ]
    }
   ],
   "source": [
    "print('Hello, World!')"
   ]
  }
 ],
 "metadata": {
  "kernelspec": {
   "display_name": "first-py310",
   "language": "python",
   "name": "python3"
  },
  "language_info": {
   "codemirror_mode": {
    "name": "ipython",
    "version": 3
   },
   "file_extension": ".py",
   "mimetype": "text/x-python",
   "name": "python",
   "nbconvert_exporter": "python",
   "pygments_lexer": "ipython3",
   "version": "3.10.9"
  }
 },
 "nbformat": 4,
 "nbformat_minor": 2
}
