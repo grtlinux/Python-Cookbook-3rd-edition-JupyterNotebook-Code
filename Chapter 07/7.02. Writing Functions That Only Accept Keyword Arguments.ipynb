{
 "cells": [
  {
   "cell_type": "markdown",
   "metadata": {},
   "source": [
    "### 7.02. Writing Functions That Only Accept Keyword Arguments"
   ]
  },
  {
   "cell_type": "code",
   "execution_count": 1,
   "metadata": {},
   "outputs": [
    {
     "name": "stdout",
     "output_type": "stream",
     "text": [
      "Error recv() takes from 0 to 1 positional arguments but 2 were given\n",
      "Done\n"
     ]
    }
   ],
   "source": [
    "# Python 3\n",
    "def recv(maxsize:int=8092, *, block:bool=False):\n",
    "    print('Receive a message:', maxsize, block)\n",
    "    # pass\n",
    "\n",
    "try:\n",
    "    recv(1024, True)\n",
    "except Exception as e:\n",
    "    print('Error', e)\n",
    "finally:\n",
    "    print('Done')"
   ]
  },
  {
   "cell_type": "code",
   "execution_count": 2,
   "metadata": {
    "collapsed": true
   },
   "outputs": [
    {
     "name": "stdout",
     "output_type": "stream",
     "text": [
      "Receive a message: 1024 True\n"
     ]
    }
   ],
   "source": [
    "recv(1024, block=True)"
   ]
  },
  {
   "cell_type": "code",
   "execution_count": 3,
   "metadata": {},
   "outputs": [
    {
     "name": "stdout",
     "output_type": "stream",
     "text": [
      "IN: (1, 5, 2, -5, 10) None\n",
      "-5\n",
      "IN: (1, 5, 2, -5, 10) 0\n",
      "0\n"
     ]
    }
   ],
   "source": [
    "#Python 3\n",
    "\n",
    "def minimum(*values, clip=None):\n",
    "    print('IN:', values, clip)\n",
    "    m = min(values)\n",
    "    if clip is not None:\n",
    "        m = clip if clip > m else m\n",
    "    return m\n",
    "\n",
    "print(minimum(1,5,2,-5,10))\n",
    "print(minimum(1,5,2,-5,10,clip=0))"
   ]
  },
  {
   "cell_type": "code",
   "execution_count": 26,
   "metadata": {
    "collapsed": true
   },
   "outputs": [
    {
     "name": "stdout",
     "output_type": "stream",
     "text": [
      "Error: recv() takes from 0 to 1 positional arguments but 2 were given\n",
      "Done\n"
     ]
    }
   ],
   "source": [
    "try:\n",
    "    msg = recv(1024, False)\n",
    "except Exception as e:\n",
    "    print('Error:', e)\n",
    "finally:\n",
    "    print('Done')"
   ]
  },
  {
   "cell_type": "code",
   "execution_count": 4,
   "metadata": {
    "collapsed": true
   },
   "outputs": [
    {
     "name": "stdout",
     "output_type": "stream",
     "text": [
      "Receive a message: 1024 False\n",
      "Done\n"
     ]
    }
   ],
   "source": [
    "try:\n",
    "    msg = recv(1024, block=False)\n",
    "except Exception as e:\n",
    "    print('Error:', e)\n",
    "finally:\n",
    "    print('Done')"
   ]
  },
  {
   "cell_type": "code",
   "execution_count": 5,
   "metadata": {
    "collapsed": true
   },
   "outputs": [
    {
     "name": "stdout",
     "output_type": "stream",
     "text": [
      "Help on function recv in module __main__:\n",
      "\n",
      "recv(maxsize: int = 8092, *, block: bool = False)\n",
      "    # Python 3\n",
      "\n"
     ]
    }
   ],
   "source": [
    "help(recv)"
   ]
  },
  {
   "cell_type": "code",
   "execution_count": null,
   "metadata": {},
   "outputs": [],
   "source": []
  },
  {
   "cell_type": "code",
   "execution_count": 6,
   "metadata": {},
   "outputs": [
    {
     "name": "stdout",
     "output_type": "stream",
     "text": [
      "Hello World!\n"
     ]
    }
   ],
   "source": [
    "print('Hello World!')"
   ]
  }
 ],
 "metadata": {
  "kernelspec": {
   "display_name": "first-py310",
   "language": "python",
   "name": "python3"
  },
  "language_info": {
   "codemirror_mode": {
    "name": "ipython",
    "version": 3
   },
   "file_extension": ".py",
   "mimetype": "text/x-python",
   "name": "python",
   "nbconvert_exporter": "python",
   "pygments_lexer": "ipython3",
   "version": "3.10.9"
  }
 },
 "nbformat": 4,
 "nbformat_minor": 2
}
