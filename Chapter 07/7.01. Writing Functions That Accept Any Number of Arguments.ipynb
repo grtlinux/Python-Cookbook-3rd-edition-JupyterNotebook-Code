{
 "cells": [
  {
   "cell_type": "markdown",
   "metadata": {},
   "source": [
    "### 7.01. Writing Functions That Accept Any Number of Arguments"
   ]
  },
  {
   "cell_type": "code",
   "execution_count": 1,
   "metadata": {},
   "outputs": [
    {
     "data": {
      "text/plain": [
       "1.5"
      ]
     },
     "execution_count": 1,
     "metadata": {},
     "output_type": "execute_result"
    }
   ],
   "source": [
    "def avg(first, *rest):\n",
    "    return float(first + sum(rest))/float(1+len(rest))\n",
    "\n",
    "avg(1,2)"
   ]
  },
  {
   "cell_type": "code",
   "execution_count": 2,
   "metadata": {},
   "outputs": [
    {
     "name": "stdout",
     "output_type": "stream",
     "text": [
      "Error: avg() missing 1 required positional argument: 'first'\n",
      "Done\n"
     ]
    }
   ],
   "source": [
    "try:\n",
    "    avg(1,2,3,4)\n",
    "    avg()\n",
    "except Exception as e:\n",
    "    print('Error:', e)\n",
    "finally:\n",
    "    print('Done')"
   ]
  },
  {
   "cell_type": "code",
   "execution_count": 3,
   "metadata": {},
   "outputs": [
    {
     "name": "stdout",
     "output_type": "stream",
     "text": [
      "<item size=\"large\" quantity=\"6\">Albatross</item>\n",
      "<p>&lt;spam&gt;</p>\n"
     ]
    }
   ],
   "source": [
    "import html\n",
    "\n",
    "def make_element(name, value, **attrs):\n",
    "    keyvals = [' %s=\"%s\"' % item for item in attrs.items()]  # item = (key, value)\n",
    "    attr_str = ''.join(keyvals)\n",
    "    element = '<{name}{attrs}>{value}</{name}>'.format(\n",
    "                name=name,\n",
    "                attrs=attr_str,\n",
    "                value=html.escape(value))\n",
    "    return element\n",
    "\n",
    "# Example\n",
    "# Creates '<item size=\"large\" quantity=\"6\">Albatross</item>'\n",
    "el = make_element('item', 'Albatross', size='large', quantity=6)\n",
    "print(el)\n",
    "\n",
    "# Creates '<p>&lt;spam&gt;</p>'\n",
    "el = make_element('p', '<spam>')\n",
    "print(el)\n"
   ]
  },
  {
   "cell_type": "code",
   "execution_count": 4,
   "metadata": {
    "collapsed": true
   },
   "outputs": [
    {
     "name": "stdout",
     "output_type": "stream",
     "text": [
      "(1, 2, 3, 4)\n",
      "{'name': 'Bob', 'age': 23, 'id': '0123'}\n"
     ]
    }
   ],
   "source": [
    "def anyargs(*args, **kwargs):\n",
    "    print(args)\n",
    "    print(kwargs)\n",
    "\n",
    "anyargs(1, 2, 3, 4, name='Bob', age=23, id='0123')"
   ]
  },
  {
   "cell_type": "code",
   "execution_count": 5,
   "metadata": {
    "collapsed": true
   },
   "outputs": [
    {
     "name": "stdout",
     "output_type": "stream",
     "text": [
      "1 (2, 3) 4\n",
      "1 (2, 3) 4 {'a': 5, 'b': 6}\n"
     ]
    }
   ],
   "source": [
    "def a(x, *args, y):\n",
    "    print(x, args, y)\n",
    "\n",
    "\n",
    "def b(x, *args, y, **kwargs):\n",
    "    print(x, args, y, kwargs)\n",
    "\n",
    "a(1, 2, 3, y=4)\n",
    "b(1, 2, 3, y=4, a=5, b=6)\n"
   ]
  },
  {
   "cell_type": "code",
   "execution_count": null,
   "metadata": {},
   "outputs": [],
   "source": []
  },
  {
   "cell_type": "code",
   "execution_count": 6,
   "metadata": {},
   "outputs": [
    {
     "name": "stdout",
     "output_type": "stream",
     "text": [
      "Hello, World!\n"
     ]
    }
   ],
   "source": [
    "print('Hello, World!')"
   ]
  }
 ],
 "metadata": {
  "kernelspec": {
   "display_name": "first-py310",
   "language": "python",
   "name": "python3"
  },
  "language_info": {
   "codemirror_mode": {
    "name": "ipython",
    "version": 3
   },
   "file_extension": ".py",
   "mimetype": "text/x-python",
   "name": "python",
   "nbconvert_exporter": "python",
   "pygments_lexer": "ipython3",
   "version": "3.10.9"
  }
 },
 "nbformat": 4,
 "nbformat_minor": 2
}
