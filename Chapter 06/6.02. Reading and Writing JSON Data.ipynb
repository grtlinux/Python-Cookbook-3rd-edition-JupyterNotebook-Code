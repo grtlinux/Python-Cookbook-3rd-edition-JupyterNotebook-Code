{
 "cells": [
  {
   "cell_type": "markdown",
   "metadata": {},
   "source": [
    "### 6.02. Reading and Writing JSON Data"
   ]
  },
  {
   "cell_type": "code",
   "execution_count": 2,
   "metadata": {
    "collapsed": true
   },
   "outputs": [
    {
     "name": "stdout",
     "output_type": "stream",
     "text": [
      "{\"name\": \"ACME\", \"shares\": 100, \"price\": 542.23}\n"
     ]
    }
   ],
   "source": [
    "import json\n",
    "\n",
    "data = {\n",
    "    'name' : 'ACME',\n",
    "    'shares' : 100,\n",
    "    'price' : 542.23,\n",
    "}\n",
    "\n",
    "json_str = json.dumps(data)\n",
    "print(json_str)"
   ]
  },
  {
   "cell_type": "code",
   "execution_count": 3,
   "metadata": {
    "collapsed": true
   },
   "outputs": [],
   "source": [
    "data = json.loads(json_str)"
   ]
  },
  {
   "cell_type": "code",
   "execution_count": 5,
   "metadata": {
    "collapsed": true
   },
   "outputs": [
    {
     "name": "stdout",
     "output_type": "stream",
     "text": [
      "{'name': 'ACME', 'shares': 100, 'price': 542.23}\n"
     ]
    }
   ],
   "source": [
    "# Writing JSON data\n",
    "with open('data.json', 'w') as f:\n",
    "    json.dump(data, f)\n",
    "    \n",
    "    \n",
    "# Reading data back\n",
    "with open('data.json', 'r') as f:\n",
    "    data = json.load(f)\n",
    "\n",
    "print(data)"
   ]
  },
  {
   "cell_type": "code",
   "execution_count": 6,
   "metadata": {},
   "outputs": [
    {
     "data": {
      "text/plain": [
       "'false'"
      ]
     },
     "execution_count": 6,
     "metadata": {},
     "output_type": "execute_result"
    }
   ],
   "source": [
    "json.dumps(False)"
   ]
  },
  {
   "cell_type": "code",
   "execution_count": 7,
   "metadata": {},
   "outputs": [
    {
     "data": {
      "text/plain": [
       "'{\"a\": true, \"b\": \"Hello\", \"c\": null}'"
      ]
     },
     "execution_count": 7,
     "metadata": {},
     "output_type": "execute_result"
    }
   ],
   "source": [
    "d = {\n",
    "     'a': True,\n",
    "     'b': 'Hello',\n",
    "     'c': None\n",
    "}\n",
    "\n",
    "json.dumps(d)"
   ]
  },
  {
   "cell_type": "code",
   "execution_count": null,
   "metadata": {},
   "outputs": [],
   "source": [
    "# TODO: error and fix later\n",
    "# Python 3\n",
    "\n",
    "from urllib.request import urlopen\n",
    "from pprint import pprint\n",
    "import json\n",
    "\n",
    "# u = urlopen('https://search.twitter.com/search.json?q=python&rpp=5')  # error\n",
    "u = urlopen('https://dev.twitter.com/docs/api/1.1/overview')  # error\n",
    "u\n",
    "# resp = json.loads(u.read().decode('utf-8'))\n",
    "# pprint(resp)"
   ]
  },
  {
   "cell_type": "code",
   "execution_count": 71,
   "metadata": {},
   "outputs": [
    {
     "name": "stdout",
     "output_type": "stream",
     "text": [
      "data-1: OrderedDict([('name', 'ACME'), ('shares', 50), ('price', 490.1)])\n",
      "data-2: {'name': 'ACME', 'shares': 50, 'price': 490.1}\n",
      "data-3: {'name': 'ACME', 'shares': 50, 'price': 490.1}\n"
     ]
    }
   ],
   "source": [
    "from collections import OrderedDict\n",
    "\n",
    "s = '{\"name\": \"ACME\", \"shares\": 50, \"price\": 490.1}'\n",
    "data = json.loads(s, object_pairs_hook=OrderedDict)\n",
    "print('data-1:', data)\n",
    "print('data-2:', { k:v for k,v in data.items()})\n",
    "data = json.loads(s)\n",
    "print('data-3:', data)"
   ]
  },
  {
   "cell_type": "code",
   "execution_count": 25,
   "metadata": {},
   "outputs": [
    {
     "name": "stdout",
     "output_type": "stream",
     "text": [
      "<class '__main__.JSONObject'>, <__main__.JSONObject object at 0x10c8d33a0>, ACME, 50, 490.1\n",
      "{\"name\": \"ACME\", \"shares\": 50, \"price\": 490.1}\n"
     ]
    }
   ],
   "source": [
    "import json\n",
    "class JSONObject():\n",
    "    def __init__(self, d):\n",
    "        self.__dict__ = d\n",
    "\n",
    "def object_to_dict(obj):\n",
    "    if isinstance(obj, JSONObject):\n",
    "        return obj.__dict__\n",
    "    raise TypeError(\"Type not serializable\")\n",
    "\n",
    "# Convert a JSON string to a Python object\n",
    "s = '{\"name\": \"ACME\", \"shares\": 50, \"price\": 490.1}'\n",
    "data = json.loads(s, object_hook=JSONObject)\n",
    "\n",
    "print(type(data), data, data.name, data.shares, data.price, sep=', ')\n",
    "\n",
    "print(json.dumps(data, default=object_to_dict))"
   ]
  },
  {
   "cell_type": "code",
   "execution_count": 26,
   "metadata": {
    "collapsed": true
   },
   "outputs": [
    {
     "name": "stdout",
     "output_type": "stream",
     "text": [
      "0.JSON: {\n",
      "    \"name\": \"ACME\",\n",
      "    \"shares\": 50,\n",
      "    \"price\": 490.1\n",
      "}\n",
      "1.JSON: repr: {\n",
      "    \"name\": \"ACME\",\n",
      "    \"shares\": 50,\n",
      "    \"price\": 490.1\n",
      "}\n",
      "2.JSON: str: {'name': 'ACME', 'shares': 50, 'price': 490.1}\n",
      "3.JSON: {\n",
      "    \"name\": \"ACME\",\n",
      "    \"shares\": 50,\n",
      "    \"price\": 490.1\n",
      "}\n",
      "4.JSON: toJSON: {\n",
      "  \"name\": \"ACME\",\n",
      "  \"price\": 490.1,\n",
      "  \"shares\": 50\n",
      "}\n"
     ]
    }
   ],
   "source": [
    "class JSONObject():\n",
    "    def __init__(self, d):\n",
    "        self.__dict__ = d\n",
    "        print('0.JSON:', json.dumps(self.__dict__, indent=4))\n",
    "    \n",
    "    def __repr__(self):\n",
    "        # return str(self.__dict__)\n",
    "        return 'repr: ' + json.dumps(self.__dict__, indent=4)\n",
    "    \n",
    "    def __str__(self):\n",
    "        return 'str: ' + str(self.__dict__)\n",
    "    \n",
    "    def toJSON(self):\n",
    "        return 'toJSON: ' + json.dumps(self, default=lambda o: o.__dict__, sort_keys=True, indent=2)\n",
    "    \n",
    "d = '{\"name\": \"ACME\", \"shares\": 50, \"price\": 490.1}'\n",
    "data = json.loads(d, object_hook=JSONObject)\n",
    "\n",
    "print('1.JSON: {!r}'.format(data))  # Calls __repr__\n",
    "print('2.JSON:', data)              # Calls __str__\n",
    "\n",
    "print('3.JSON:', json.dumps(data, indent=4, default=lambda o: o.__dict__))\n",
    "\n",
    "print('4.JSON:', data.toJSON())\n"
   ]
  },
  {
   "cell_type": "code",
   "execution_count": 27,
   "metadata": {},
   "outputs": [
    {
     "name": "stdout",
     "output_type": "stream",
     "text": [
      "0.JSON: {\n",
      "    \"name\": \"ACME\",\n",
      "    \"shares\": 50,\n",
      "    \"price\": 490.1\n",
      "}\n",
      "ACME 50 490.1\n"
     ]
    }
   ],
   "source": [
    "data = json.loads(s, object_hook=JSONObject)\n",
    "print(data.name, data.shares, data.price)"
   ]
  },
  {
   "cell_type": "code",
   "execution_count": 29,
   "metadata": {
    "collapsed": true
   },
   "outputs": [
    {
     "name": "stdout",
     "output_type": "stream",
     "text": [
      "str: {'name': 'ACME', 'shares': 50, 'price': 490.1}\n",
      "toJSON: {\n",
      "  \"name\": \"ACME\",\n",
      "  \"price\": 490.1,\n",
      "  \"shares\": 50\n",
      "}\n",
      "{\n",
      "  \"name\": \"ACME\",\n",
      "  \"shares\": 50,\n",
      "  \"price\": 490.1\n",
      "}\n"
     ]
    }
   ],
   "source": [
    "print(data)\n",
    "print(data.toJSON())\n",
    "print(json.dumps(data, default=lambda o: o.__dict__, indent=2))"
   ]
  },
  {
   "cell_type": "code",
   "execution_count": 46,
   "metadata": {
    "collapsed": true
   },
   "outputs": [
    {
     "data": {
      "text/plain": [
       "490.1"
      ]
     },
     "execution_count": 46,
     "metadata": {},
     "output_type": "execute_result"
    }
   ],
   "source": []
  },
  {
   "cell_type": "code",
   "execution_count": 30,
   "metadata": {},
   "outputs": [
    {
     "name": "stdout",
     "output_type": "stream",
     "text": [
      "{\"name\": \"ACME\", \"shares\": 50, \"price\": 490.1}\n"
     ]
    }
   ],
   "source": [
    "print(json.dumps(data, default=lambda o: o.__dict__))"
   ]
  },
  {
   "cell_type": "code",
   "execution_count": 31,
   "metadata": {},
   "outputs": [
    {
     "name": "stdout",
     "output_type": "stream",
     "text": [
      "{\n",
      "    \"name\": \"ACME\",\n",
      "    \"shares\": 50,\n",
      "    \"price\": 490.1\n",
      "}\n"
     ]
    }
   ],
   "source": [
    "print(json.dumps(data, default=lambda o: o.__dict__, indent=4))"
   ]
  },
  {
   "cell_type": "code",
   "execution_count": 33,
   "metadata": {},
   "outputs": [
    {
     "name": "stdout",
     "output_type": "stream",
     "text": [
      "{\"age\": 30, \"name\": \"ACME\", \"price\": 490.1, \"shares\": 50}\n"
     ]
    }
   ],
   "source": [
    "data.age = 30\n",
    "print(json.dumps(data, default=lambda o: o.__dict__, sort_keys=True))"
   ]
  },
  {
   "cell_type": "code",
   "execution_count": 35,
   "metadata": {},
   "outputs": [
    {
     "data": {
      "text/plain": [
       "'{\"x\": 2, \"y\": 3}'"
      ]
     },
     "execution_count": 35,
     "metadata": {},
     "output_type": "execute_result"
    }
   ],
   "source": [
    "class Point:\n",
    "    def __init__(self, x, y):\n",
    "        self.x = x\n",
    "        self.y = y\n",
    "\n",
    "p = Point(2, 3)\n",
    "json.dumps(p, default=lambda o: o.__dict__)"
   ]
  },
  {
   "cell_type": "code",
   "execution_count": 36,
   "metadata": {
    "collapsed": true
   },
   "outputs": [],
   "source": [
    "def serialize_instance(obj):\n",
    "    d = { '__classname__' : type(obj).__name__ }\n",
    "    d.update(vars(obj))\n",
    "    return d"
   ]
  },
  {
   "cell_type": "code",
   "execution_count": 37,
   "metadata": {},
   "outputs": [],
   "source": [
    "# Dictionary mapping names to known classes\n",
    "classes = {\n",
    "    'Point' : Point\n",
    "}\n",
    "\n",
    "\n",
    "def unserialize_object(d):\n",
    "    clsname = d.pop('__classname__', None)\n",
    "    if clsname:\n",
    "        cls = classes[clsname]\n",
    "        obj = cls.__new__(cls) # Make instance without calling __init__\n",
    "        for key, value in d.items():\n",
    "            setattr(obj, key, value)\n",
    "            return obj\n",
    "    else:\n",
    "        return d"
   ]
  },
  {
   "cell_type": "code",
   "execution_count": 42,
   "metadata": {},
   "outputs": [
    {
     "data": {
      "text/plain": [
       "'{\"__classname__\": \"Point\", \"x\": 2, \"y\": 3}'"
      ]
     },
     "execution_count": 42,
     "metadata": {},
     "output_type": "execute_result"
    }
   ],
   "source": [
    "p = Point(2,3)\n",
    "s = json.dumps(p, default=serialize_instance)\n",
    "s"
   ]
  },
  {
   "cell_type": "code",
   "execution_count": 44,
   "metadata": {
    "collapsed": true
   },
   "outputs": [
    {
     "name": "stdout",
     "output_type": "stream",
     "text": [
      "{\"__classname__\": \"Point\", \"x\": 2}\n",
      "2\n",
      "Error: 'Point' object has no attribute 'y'\n",
      "Done\n"
     ]
    }
   ],
   "source": [
    "a = json.loads(s, object_hook=unserialize_object)\n",
    "print(json.dumps(a, default=serialize_instance))\n",
    "\n",
    "try:\n",
    "    print(a.x)\n",
    "    print(a.y)\n",
    "except Exception as e:\n",
    "    print('Error:', e)\n",
    "finally:\n",
    "    print('Done')\n"
   ]
  },
  {
   "cell_type": "code",
   "execution_count": null,
   "metadata": {},
   "outputs": [],
   "source": []
  },
  {
   "cell_type": "code",
   "execution_count": 58,
   "metadata": {},
   "outputs": [
    {
     "name": "stdout",
     "output_type": "stream",
     "text": [
      "Hello World!\n"
     ]
    }
   ],
   "source": [
    "print('Hello World!')"
   ]
  }
 ],
 "metadata": {
  "kernelspec": {
   "display_name": "first-py310",
   "language": "python",
   "name": "python3"
  },
  "language_info": {
   "codemirror_mode": {
    "name": "ipython",
    "version": 3
   },
   "file_extension": ".py",
   "mimetype": "text/x-python",
   "name": "python",
   "nbconvert_exporter": "python",
   "pygments_lexer": "ipython3",
   "version": "3.10.9"
  }
 },
 "nbformat": 4,
 "nbformat_minor": 2
}
