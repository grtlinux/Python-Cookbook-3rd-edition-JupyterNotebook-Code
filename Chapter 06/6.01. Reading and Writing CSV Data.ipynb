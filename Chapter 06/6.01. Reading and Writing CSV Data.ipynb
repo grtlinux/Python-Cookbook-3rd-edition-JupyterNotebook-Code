{
 "cells": [
  {
   "cell_type": "markdown",
   "metadata": {},
   "source": [
    "### 6.01. Reading and Writing CSV Data"
   ]
  },
  {
   "cell_type": "code",
   "execution_count": 1,
   "metadata": {
    "collapsed": true
   },
   "outputs": [
    {
     "name": "stdout",
     "output_type": "stream",
     "text": [
      "['Symbol', 'Price', 'Date', 'Time', 'Change', 'Volume']\n",
      "['AA', '39.48', '6/11/2007', '9:36am', '-0.18', '181800']\n",
      "['AIG', '71.38', '6/11/2007', '9:36am', '-0.15', '195500']\n",
      "['AXP', '62.58', '6/11/2007', '9:36am', '-0.46', '935000']\n",
      "['BA', '98.31', '6/11/2007', '9:36am', '+0.12', '104800']\n",
      "['C', '53.08', '6/11/2007', '9:36am', '-0.25', '360900']\n",
      "['CAT', '78.29', '6/11/2007', '9:36am', '-0.23', '225400']\n"
     ]
    }
   ],
   "source": [
    "import csv\n",
    "with open('../data/06_4.stocks.csv') as f:\n",
    "    f_csv = csv.reader(f)\n",
    "    headers = next(f_csv)\n",
    "    print(headers)\n",
    "    for row in f_csv:\n",
    "        print(row)"
   ]
  },
  {
   "cell_type": "code",
   "execution_count": 6,
   "metadata": {},
   "outputs": [
    {
     "name": "stdout",
     "output_type": "stream",
     "text": [
      "data: 6 [{'Symbol': 'AA', 'Price': '39.48', 'Date': '6/11/2007', 'Time': '9:36am', 'Change': '-0.18', 'Volume': '181800'}, {'Symbol': 'AIG', 'Price': '71.38', 'Date': '6/11/2007', 'Time': '9:36am', 'Change': '-0.15', 'Volume': '195500'}, {'Symbol': 'AXP', 'Price': '62.58', 'Date': '6/11/2007', 'Time': '9:36am', 'Change': '-0.46', 'Volume': '935000'}, {'Symbol': 'BA', 'Price': '98.31', 'Date': '6/11/2007', 'Time': '9:36am', 'Change': '+0.12', 'Volume': '104800'}, {'Symbol': 'C', 'Price': '53.08', 'Date': '6/11/2007', 'Time': '9:36am', 'Change': '-0.25', 'Volume': '360900'}, {'Symbol': 'CAT', 'Price': '78.29', 'Date': '6/11/2007', 'Time': '9:36am', 'Change': '-0.23', 'Volume': '225400'}]\n"
     ]
    }
   ],
   "source": [
    "# csv -> dict -> json\n",
    "with open('../data/06_4.stocks.csv') as f:\n",
    "    f_csv = csv.reader(f)\n",
    "    headers = next(f_csv)\n",
    "    data = [dict(zip(headers, row)) for row in f_csv]\n",
    "    print('data:', len(data), data)\n",
    "    # import pprint\n",
    "    # pprint.pprint(data)\n",
    "    # import json\n",
    "    # print(json.dumps(data, indent=4))"
   ]
  },
  {
   "cell_type": "markdown",
   "metadata": {},
   "source": [
    "## Named Tuple's methods\n",
    "    - _make : 새로운 인스턴스 생성함\n",
    "    - _fields : 필드 네임 확인\n",
    "    - _asdict : 네임드 튜플을 Dictionary로 바꾸고 싶을 떄 사용. Python named tuple to dict. OrdededDict 반환함\n",
    "    - _replace : 특정 필드의 값이 변경된 새로운 객체를 생성함\n",
    "    \n"
   ]
  },
  {
   "cell_type": "code",
   "execution_count": null,
   "metadata": {},
   "outputs": [],
   "source": [
    "from collections import namedtuple\n",
    "\n",
    "# list로 각각의 key 할당하기\n",
    "Point1 = namedtuple('Point', ['x', 'y'])\n",
    "\n",
    "# 문자열 안의 comma 구분자로 각각의 key 할당하기\n",
    "Point2 = namedtuple('Point', 'x, y')\n",
    "\n",
    "# 문자열 안의 띄어쓰기 구분자로 각각의 key 할당하기\n",
    "Point3 = namedtuple('Point', 'x y')\n",
    "\n",
    "# 문자열 안에 중복이 존재할 경우 rename메서드로 자체적인 key 할당하기\n",
    "Point4 = namedtuple('Point', 'x y x class', rename=True)\n",
    "\n",
    "p1 = Point1(x=10, y=35)\n",
    "p2 = Point2(20, 40)\n",
    "p3 = Point3(45, y=20)\n",
    "p4 = Point4(10, 20, 30, 40)\n",
    "\n",
    "# 같은 key값을 가지는 dictionary를 지정된 namedtuple객체로 변환하기\n",
    "temp_dict = {'x':75, 'y':30}\n",
    "print(Point3(**temp_dict)) \n",
    "print(Point1(x=75, y=30))\n",
    "\n",
    "temp = [52, 38]\n",
    "p4 = Point1._make(temp)\n",
    "print(p4)\n",
    "# Point(x=52, y=38)\n",
    "\n",
    "print(p1._asdict(), p4._asdict())\n",
    "# OrderedDict([('x', 10), ('y', 35)]) OrderedDict([('x', 52), ('y', 38)])\n",
    "print(dict(p1._asdict()))\n",
    "# {'x': 10, 'y': 35}\n",
    "\n",
    "print(p2._replace(y=100))\n",
    "# Point(x=20, y=100)\n"
   ]
  },
  {
   "cell_type": "code",
   "execution_count": 7,
   "metadata": {
    "collapsed": true
   },
   "outputs": [
    {
     "name": "stdout",
     "output_type": "stream",
     "text": [
      "<class '__main__.Row'> Row(Symbol='AA', Price='39.48', Date='6/11/2007', Time='9:36am', Change='-0.18', Volume='181800')\n",
      "<class '__main__.Row'> Row(Symbol='AIG', Price='71.38', Date='6/11/2007', Time='9:36am', Change='-0.15', Volume='195500')\n",
      "<class '__main__.Row'> Row(Symbol='AXP', Price='62.58', Date='6/11/2007', Time='9:36am', Change='-0.46', Volume='935000')\n",
      "<class '__main__.Row'> Row(Symbol='BA', Price='98.31', Date='6/11/2007', Time='9:36am', Change='+0.12', Volume='104800')\n",
      "<class '__main__.Row'> Row(Symbol='C', Price='53.08', Date='6/11/2007', Time='9:36am', Change='-0.25', Volume='360900')\n",
      "<class '__main__.Row'> Row(Symbol='CAT', Price='78.29', Date='6/11/2007', Time='9:36am', Change='-0.23', Volume='225400')\n"
     ]
    }
   ],
   "source": [
    "from collections import namedtuple\n",
    "with open('../data/06_4.stocks.csv') as f:\n",
    "    f_csv = csv.reader(f)\n",
    "    headings = next(f_csv)\n",
    "    Row = namedtuple('Row', headings)   # namedtuple\n",
    "    for r in f_csv:\n",
    "        row = Row(*r)   # namedtuple instance mapping with data r\n",
    "        # Process row\n",
    "        print(type(row), row)"
   ]
  },
  {
   "cell_type": "code",
   "execution_count": 10,
   "metadata": {},
   "outputs": [
    {
     "name": "stdout",
     "output_type": "stream",
     "text": [
      "<class '__main__.Town'>\n",
      "('name', 'population', 'coordinates', 'capital', 'state_bird')\n",
      "Town(name='funky', population=300, coordinates='somewhere', capital='lipps', state_bird='chicken')\n",
      "{'name': 'funky', 'population': 300, 'coordinates': 'somewhere', 'capital': 'lipps', 'state_bird': 'chicken'}\n"
     ]
    }
   ],
   "source": [
    "from collections import namedtuple\n",
    "fields = ['name', 'population', 'coordinates', 'capital', 'state_bird']\n",
    "Town = namedtuple('Town', fields)\n",
    "print(Town)\n",
    "print(Town._fields)\n",
    "\n",
    "funkytown = Town('funky', 300, 'somewhere', 'lipps', 'chicken')\n",
    "print(funkytown)\n",
    "print(funkytown._asdict())"
   ]
  },
  {
   "cell_type": "code",
   "execution_count": 13,
   "metadata": {},
   "outputs": [
    {
     "name": "stdout",
     "output_type": "stream",
     "text": [
      "33\n",
      "11 22\n",
      "330\n",
      "Point(x=110, y=220)\n"
     ]
    }
   ],
   "source": [
    "from collections import namedtuple\n",
    "\t\n",
    "  # Basic example\n",
    "Point = namedtuple('Point', ['x', 'y'])\n",
    "p = Point(11, y=22)            # instantiate with positional or keyword arguments\n",
    "print(p[0] + p[1])             # indexable like the plain tuple (11, 22)\n",
    "# 33\n",
    "x, y = p                       # unpack like a regular tuple\n",
    "p = Point(x=110, y=220)          # fields also accessible by name\n",
    "print(x, y)\n",
    "print(p.x + p.y)               # fields also accessible by name\n",
    "print(p)                       # readable __repr__ with a name=value style\n"
   ]
  },
  {
   "cell_type": "code",
   "execution_count": 16,
   "metadata": {
    "collapsed": true
   },
   "outputs": [],
   "source": [
    "import csv\n",
    "lst = []\n",
    "with open('../data/06_4.stocks.csv') as f:\n",
    "    f_csv = csv.DictReader(f)\n",
    "    for row in f_csv:\n",
    "        # process row\n",
    "        lst.append(row)\n",
    "        # print(row)\n",
    "# import pprint\n",
    "# pprint.pprint(lst)\n",
    "# import json\n",
    "# print(json.dumps(lst, indent=4))"
   ]
  },
  {
   "cell_type": "code",
   "execution_count": 8,
   "metadata": {
    "collapsed": true
   },
   "outputs": [],
   "source": [
    "headers = ['Symbol','Price','Date','Time','Change','Volume']\n",
    "rows = [\n",
    "    ('AA', 39.48, '6/11/2007', '9:36am', -0.18, 181800),\n",
    "    ('AIG', 71.38, '6/11/2007', '9:36am', -0.15, 195500),\n",
    "    ('AXP', 62.58, '6/11/2007', '9:36am', -0.46, 935000),\n",
    "]\n",
    "\n",
    "with open('../data/06_4.newstocks.csv','w') as f:\n",
    "    f_csv = csv.writer(f)\n",
    "    f_csv.writerow(headers)\n",
    "    f_csv.writerows(rows)"
   ]
  },
  {
   "cell_type": "code",
   "execution_count": 10,
   "metadata": {
    "collapsed": true
   },
   "outputs": [],
   "source": [
    "headers = ['Symbol', 'Price', 'Date', 'Time', 'Change', 'Volume']\n",
    "rows = [\n",
    "    {'Symbol':'AA', 'Price':39.48, 'Date':'6/11/2007', 'Time':'9:36am', 'Change':-0.18, 'Volume':181800},\n",
    "    {'Symbol':'AIG', 'Price': 71.38, 'Date':'6/11/2007', 'Time':'9:36am', 'Change':-0.15, 'Volume': 195500},\n",
    "    {'Symbol':'AXP', 'Price': 62.58, 'Date':'6/11/2007', 'Time':'9:36am', 'Change':-0.46, 'Volume': 935000},\n",
    "]\n",
    "\n",
    "with open('../data/06_4.newstocks.csv','w') as f:\n",
    "    f_csv = csv.DictWriter(f, headers)\n",
    "    f_csv.writeheader()\n",
    "    f_csv.writerows(rows)"
   ]
  },
  {
   "cell_type": "code",
   "execution_count": 25,
   "metadata": {
    "collapsed": true
   },
   "outputs": [
    {
     "name": "stdout",
     "output_type": "stream",
     "text": [
      "['Symbol', 'Price', 'Date', 'Time', 'Change', 'Volume\\n']\n",
      "['\"AA\"', '39.48', '\"6/11/2007\"', '\"9:36am\"', '-0.18', '181800\\n']\n",
      "['\"AIG\"', '71.38', '\"6/11/2007\"', '\"9:36am\"', '-0.15', '195500\\n']\n",
      "['\"AXP\"', '62.58', '\"6/11/2007\"', '\"9:36am\"', '-0.46', '935000\\n']\n",
      "['\"BA\"', '98.31', '\"6/11/2007\"', '\"9:36am\"', '+0.12', '104800\\n']\n",
      "['\"C\"', '53.08', '\"6/11/2007\"', '\"9:36am\"', '-0.25', '360900\\n']\n",
      "['\"CAT\"', '78.29', '\"6/11/2007\"', '\"9:36am\"', '-0.23', '225400\\n']\n"
     ]
    }
   ],
   "source": [
    "with open('../data/06_4.stocks.csv', 'rt', newline='') as f:\n",
    "    for line in f:\n",
    "        row = line.split(',')\n",
    "        # process row\n",
    "        print(row)"
   ]
  },
  {
   "cell_type": "code",
   "execution_count": 13,
   "metadata": {
    "collapsed": true
   },
   "outputs": [
    {
     "name": "stdout",
     "output_type": "stream",
     "text": [
      "['Symbol', 'Price', 'Date', 'Time', 'Change', 'Volume']\n",
      "['AA', '39.48', '6/11/2007', '9:36am', '-0.18', '181800']\n",
      "['AIG', '71.38', '6/11/2007', '9:36am', '-0.15', '195500']\n",
      "['AXP', '62.58', '6/11/2007', '9:36am', '-0.46', '935000']\n",
      "['BA', '98.31', '6/11/2007', '9:36am', '+0.12', '104800']\n",
      "['C', '53.08', '6/11/2007', '9:36am', '-0.25', '360900']\n",
      "['CAT', '78.29', '6/11/2007', '9:36am', '-0.23', '225400']\n"
     ]
    }
   ],
   "source": [
    "# Example of reading tab-separated values\n",
    "with open('../data/06_4.stocks.tsv') as f:\n",
    "    f_tsv = csv.reader(f, delimiter='\\t')\n",
    "    for row in f_tsv:\n",
    "        # Process row\n",
    "        print(row)"
   ]
  },
  {
   "cell_type": "code",
   "execution_count": 56,
   "metadata": {
    "collapsed": true
   },
   "outputs": [
    {
     "name": "stdout",
     "output_type": "stream",
     "text": [
      "['Symbol', 'Price', 'Date', 'Time', 'Change', 'Volume']\n",
      "{'Symbol': 'Symbol', 'Price': 'Price', 'Date': 'Date', 'Time': 'Time', 'Change': 'Change', 'Volume': 'Volume'}\n",
      "{'Symbol': 'AA', 'Price': '39.48', 'Date': '6/11/2007', 'Time': '9:36am', 'Change': '-0.18', 'Volume': '181800'}\n",
      "{'Symbol': 'AIG', 'Price': '71.38', 'Date': '6/11/2007', 'Time': '9:36am', 'Change': '-0.15', 'Volume': '195500'}\n",
      "{'Symbol': 'AXP', 'Price': '62.58', 'Date': '6/11/2007', 'Time': '9:36am', 'Change': '-0.46', 'Volume': '935000'}\n",
      "{'Symbol': 'BA', 'Price': '98.31', 'Date': '6/11/2007', 'Time': '9:36am', 'Change': '+0.12', 'Volume': '104800'}\n",
      "{'Symbol': 'C', 'Price': '53.08', 'Date': '6/11/2007', 'Time': '9:36am', 'Change': '-0.25', 'Volume': '360900'}\n",
      "{'Symbol': 'CAT', 'Price': '78.29', 'Date': '6/11/2007', 'Time': '9:36am', 'Change': '-0.23', 'Volume': '225400'}\n"
     ]
    }
   ],
   "source": [
    "import re\n",
    "with open('../data/06_4.stocks.csv') as f:\n",
    "    f_csv = csv.reader(f)\n",
    "    # headers = [ re.sub('[^a-zA-Z_]', '_', h) for h in next(f_csv) ]\n",
    "    headers = [ re.sub('[^a-zA-Z_]', '_', h) for h in ('Symbol','Price','Date','Time','Change','Volume') ]\n",
    "    print(headers)\n",
    "    Row = namedtuple('Row', headers)\n",
    "    for r in f_csv:\n",
    "        row = Row(*r)\n",
    "        # Process row\n",
    "        print(row._asdict())"
   ]
  },
  {
   "cell_type": "code",
   "execution_count": 57,
   "metadata": {
    "collapsed": true
   },
   "outputs": [
    {
     "name": "stdout",
     "output_type": "stream",
     "text": [
      "['Symbol', 'Price', 'Date', 'Time', 'Change', 'Volume']\n",
      "('AA', 39.48, '6/11/2007', '9:36am', -0.18, 181800)\n",
      "('AIG', 71.38, '6/11/2007', '9:36am', -0.15, 195500)\n",
      "('AXP', 62.58, '6/11/2007', '9:36am', -0.46, 935000)\n",
      "('BA', 98.31, '6/11/2007', '9:36am', 0.12, 104800)\n",
      "('C', 53.08, '6/11/2007', '9:36am', -0.25, 360900)\n",
      "('CAT', 78.29, '6/11/2007', '9:36am', -0.23, 225400)\n"
     ]
    }
   ],
   "source": [
    "# setting field types\n",
    "col_types = [str, float, str, str, float, int]\n",
    "with open('../data/06_4.stocks.csv') as f:\n",
    "    f_csv = csv.reader(f)\n",
    "    headers = next(f_csv)\n",
    "    print(headers)\n",
    "    for row in f_csv:\n",
    "        # Apply conversions to the row items\n",
    "        row = tuple(convert(value) for convert, value in zip(col_types, row))\n",
    "        print(row)"
   ]
  },
  {
   "cell_type": "code",
   "execution_count": 18,
   "metadata": {
    "collapsed": true
   },
   "outputs": [
    {
     "name": "stdout",
     "output_type": "stream",
     "text": [
      "Reading as dicts with type conversion\n",
      "{'Symbol': 'AA', 'Price': 39.48, 'Date': '6/11/2007', 'Time': '9:36am', 'Change': -0.18, 'Volume': '181800'}\n",
      "{'Symbol': 'AIG', 'Price': 71.38, 'Date': '6/11/2007', 'Time': '9:36am', 'Change': -0.15, 'Volume': '195500'}\n",
      "{'Symbol': 'AXP', 'Price': 62.58, 'Date': '6/11/2007', 'Time': '9:36am', 'Change': -0.46, 'Volume': '935000'}\n",
      "{'Symbol': 'BA', 'Price': 98.31, 'Date': '6/11/2007', 'Time': '9:36am', 'Change': 0.12, 'Volume': '104800'}\n",
      "{'Symbol': 'C', 'Price': 53.08, 'Date': '6/11/2007', 'Time': '9:36am', 'Change': -0.25, 'Volume': '360900'}\n",
      "{'Symbol': 'CAT', 'Price': 78.29, 'Date': '6/11/2007', 'Time': '9:36am', 'Change': -0.23, 'Volume': '225400'}\n"
     ]
    }
   ],
   "source": [
    "print('Reading as dicts with type conversion')\n",
    "field_types = [\n",
    "    ('Price', float),\n",
    "    ('Change', float),\n",
    "    # ('Volume', int),\n",
    "    ('Volume', str),\n",
    " ]\n",
    "\n",
    "with open('../data/06_4.stocks.csv') as f:\n",
    "    for row in csv.DictReader(f):\n",
    "        row.update((key, conversion(row[key])) for key, conversion in field_types)\n",
    "        print(row)"
   ]
  },
  {
   "cell_type": "code",
   "execution_count": 59,
   "metadata": {},
   "outputs": [
    {
     "name": "stdout",
     "output_type": "stream",
     "text": [
      "6 [{'Symbol': 'AA', 'Price': 39.48, 'Date': '6/11/2007', 'Time': '9:36am', 'Change': -0.18, 'Volume': 181800}, {'Symbol': 'AIG', 'Price': 71.38, 'Date': '6/11/2007', 'Time': '9:36am', 'Change': -0.15, 'Volume': 195500}, {'Symbol': 'AXP', 'Price': 62.58, 'Date': '6/11/2007', 'Time': '9:36am', 'Change': -0.46, 'Volume': 935000}, {'Symbol': 'BA', 'Price': 98.31, 'Date': '6/11/2007', 'Time': '9:36am', 'Change': 0.12, 'Volume': 104800}, {'Symbol': 'C', 'Price': 53.08, 'Date': '6/11/2007', 'Time': '9:36am', 'Change': -0.25, 'Volume': 360900}, {'Symbol': 'CAT', 'Price': 78.29, 'Date': '6/11/2007', 'Time': '9:36am', 'Change': -0.23, 'Volume': 225400}]\n"
     ]
    }
   ],
   "source": [
    "# file csv to JSON string - 1\n",
    "field_types = [\n",
    "    ('Price', float),\n",
    "    ('Change', float),\n",
    "    ('Volume', int),\n",
    "    # ('Volume', str),\n",
    "]\n",
    "\n",
    "data = []\n",
    "with open('../data/06_4.stocks.csv') as f:\n",
    "    for row in csv.DictReader(f):\n",
    "        row.update((key, conversion(row[key])) for key, conversion in field_types)\n",
    "        data.append(row)\n",
    "print(len(data), data)\n",
    "# import pprint\n",
    "# pprint.pprint(data)\n",
    "# import json\n",
    "# print(json.dumps(data, indent=4))"
   ]
  },
  {
   "cell_type": "code",
   "execution_count": 60,
   "metadata": {},
   "outputs": [
    {
     "name": "stdout",
     "output_type": "stream",
     "text": [
      "6 [{'Symbol': 'AA', 'Price': 39.48, 'Date': '6/11/2007', 'Time': '9:36am', 'Change': -0.18, 'Volume': 181800}, {'Symbol': 'AIG', 'Price': 71.38, 'Date': '6/11/2007', 'Time': '9:36am', 'Change': -0.15, 'Volume': 195500}, {'Symbol': 'AXP', 'Price': 62.58, 'Date': '6/11/2007', 'Time': '9:36am', 'Change': -0.46, 'Volume': 935000}, {'Symbol': 'BA', 'Price': 98.31, 'Date': '6/11/2007', 'Time': '9:36am', 'Change': 0.12, 'Volume': 104800}, {'Symbol': 'C', 'Price': 53.08, 'Date': '6/11/2007', 'Time': '9:36am', 'Change': -0.25, 'Volume': 360900}, {'Symbol': 'CAT', 'Price': 78.29, 'Date': '6/11/2007', 'Time': '9:36am', 'Change': -0.23, 'Volume': 225400}]\n"
     ]
    }
   ],
   "source": [
    "# file csv to JSON string - 2\n",
    "\n",
    "# cols = [col[0] for col in cur.description]\n",
    "# data = [dict(zip(cols, row)) for row in rows]\n",
    "# print('4.JSON:', json.dumps(data, indent=4))\n",
    "col_types = [str, float, str, str, float, int]\n",
    "data = []\n",
    "with open('../data/06_4.stocks.csv') as f:\n",
    "    f_csv = csv.reader(f)\n",
    "    headers = next(f_csv)\n",
    "    # print(headers)\n",
    "    for row in f_csv:\n",
    "        # Apply conversions to the row items\n",
    "        row = tuple(convert(value) for convert, value in zip(col_types, row))\n",
    "        data.append(dict(zip(headers,row)))\n",
    "print(len(data), data)\n",
    "# import pprint\n",
    "# pprint.pprint(data)\n",
    "# import json\n",
    "# print(json.dumps(data, indent=4))"
   ]
  },
  {
   "cell_type": "markdown",
   "metadata": {},
   "source": [
    "## attr : getattr, setattr, hasattr, delattr"
   ]
  },
  {
   "cell_type": "code",
   "execution_count": 61,
   "metadata": {},
   "outputs": [
    {
     "name": "stdout",
     "output_type": "stream",
     "text": [
      "Hello, world!!\n"
     ]
    }
   ],
   "source": [
    "import sys\n",
    "\n",
    "# del hello\n",
    "def hello(msg) -> str:\n",
    "    # print(msg)\n",
    "    return 'Hello, ' + msg\n",
    "\n",
    "func = ('hello', 'world!!')\n",
    "print(getattr(sys.modules[__name__], func[0])(func[1]))\n",
    "del hello"
   ]
  },
  {
   "cell_type": "code",
   "execution_count": 42,
   "metadata": {},
   "outputs": [
    {
     "name": "stdout",
     "output_type": "stream",
     "text": [
      "30\n",
      "30\n",
      "45\n",
      "50\n"
     ]
    }
   ],
   "source": [
    "# getattr\n",
    "class Employee:\n",
    "  emp_comp = \"Amazon\"\n",
    "  emp_age = 30\n",
    "  default_age = 50\n",
    "\n",
    "  def defaultMethod(self):\n",
    "    print(\"This is a default method\")\n",
    "\n",
    "e = Employee()\n",
    "print(getattr(e, 'emp_age'))            # e 에 emp_age 라는 attribute가 있는지? 있다. 30 출력\n",
    "print(getattr(e, 'emp_age', 45))          # e 에 emp_age 라는 attribute가 있는지? 있다. 30 출력, 45 [default] 무시\n",
    "print(getattr(e, 'emp_age_other', 45))       # e 에 emp_age_other 라는 attribute가 있는지? 없다. 45 [default] 출력\n",
    "print(getattr(e, 'emp_age_other', e.default_age))  # e 에 emp_age_other 라는 attribute가 있는지? 없다. e.default_age [default] 출력 \n",
    "# e.default_age의 값이 return\n"
   ]
  },
  {
   "cell_type": "code",
   "execution_count": 43,
   "metadata": {},
   "outputs": [
    {
     "name": "stdout",
     "output_type": "stream",
     "text": [
      "30\n",
      "100\n",
      "man\n"
     ]
    }
   ],
   "source": [
    "# setattr\n",
    "class Employee:\n",
    "  emp_comp = \"Amazon\"\n",
    "  emp_age = 30\n",
    "  default_age = 50\n",
    "\n",
    "  def defaultMethod(self):\n",
    "    print(\"This is a default method\")\n",
    "    \n",
    "e = Employee()\n",
    "\n",
    "print(getattr(e, 'emp_age'))            # e 에 emp_age 라는 attribute가 있는지? 있다. 30 출력\n",
    "setattr(e, 'emp_age', 100)            # setattr를 통해 emp_age를 100으로 변경 \n",
    "print(getattr(e, 'emp_age', 45))          # e 에 emp_age 라는 attribute가 있는지? 있다. 30 출력, 45 [default] 무시\n",
    "\n",
    "setattr(e, 'emp_sex', \"man\")            # setattr를 통해 emp_sex 생성 및 man 입력\n",
    "print(getattr(e, 'emp_sex', 'woman'))      # e 에 emp_sex 라는 attribute가 있는지? 있다. "
   ]
  },
  {
   "cell_type": "code",
   "execution_count": 44,
   "metadata": {},
   "outputs": [
    {
     "name": "stdout",
     "output_type": "stream",
     "text": [
      "False\n",
      "True\n",
      "False\n"
     ]
    }
   ],
   "source": [
    "# hasattr\n",
    "class Employee:\n",
    "  emp_comp = \"Amazon\"\n",
    "  emp_age = 30\n",
    "  default_age = 50\n",
    "\n",
    "  def defaultMethod(self):\n",
    "    print(\"This is a default method\")\n",
    "    \n",
    "e = Employee()\n",
    "e1 = Employee()\n",
    "\n",
    "print(hasattr(e, 'emp_address'))      # e 에 emp_address가 있는지? 없다. False\n",
    "setattr(e, 'emp_address', 'Korea')    # e 에 emp_address 생성 및 Korea 입력\n",
    "print(hasattr(e, 'emp_address'))      # e 에 emp_address가 있는지? 있다. True\n",
    "print(hasattr(e1, 'emp_address'))     # e1 에 emp_address가 있는지? 없다. False\n"
   ]
  },
  {
   "cell_type": "code",
   "execution_count": 45,
   "metadata": {},
   "outputs": [
    {
     "name": "stdout",
     "output_type": "stream",
     "text": [
      "True\n",
      "True\n",
      "False\n",
      "False\n",
      "True\n",
      "True\n",
      "False\n",
      "False\n"
     ]
    }
   ],
   "source": [
    "# delattr\n",
    "class Employee:\n",
    "  emp_comp = \"Amazon\"\n",
    "  emp_age = 30\n",
    "  default_age = 50\n",
    "\n",
    "  def defaultMethod(self):\n",
    "    print(\"This is a default method\")\n",
    "    \n",
    "e = Employee()\n",
    "e1 = Employee()\n",
    "\n",
    "print(hasattr(e, 'emp_comp'))      # e 에 emp_address가 있는지? 있다. True\n",
    "print(hasattr(e1, 'emp_comp'))      # e 에 emp_address가 있는지? 있다. True\n",
    "delattr(Employee, 'emp_comp')    # Employee에서 emp_comp 삭제\n",
    "print(hasattr(e, 'emp_comp'))      # e 에 emp_address가 있는지? 없다. False\n",
    "print(hasattr(e1, 'emp_comp'))      # e 에 emp_address가 있는지? 없다. False\n",
    "\n",
    "print(hasattr(e, 'emp_age'))      # e 에 emp_age가 있는지? 있다. True\n",
    "print(hasattr(e1, 'emp_age'))      # e 에 emp_age가 있는지? 있다. True\n",
    "del Employee.emp_age          # Employee에서 emp_age 삭제/delattr(Employee, 'emp_age')와 동일\n",
    "print(hasattr(e, 'emp_age'))      # e 에 emp_age가 있는지? 없다. False\n",
    "print(hasattr(e1, 'emp_age'))      # e 에 emp_age가 있는지? 없다. False\n"
   ]
  },
  {
   "cell_type": "code",
   "execution_count": 49,
   "metadata": {},
   "outputs": [
    {
     "name": "stdout",
     "output_type": "stream",
     "text": [
      "['__class__', '__delattr__', '__dict__', '__dir__', '__doc__']\n",
      "This is a default method\n"
     ]
    }
   ],
   "source": [
    "# dir\n",
    "class Employee:\n",
    "  emp_comp = \"Amazon\"\n",
    "  emp_age = 30\n",
    "  default_age = 50\n",
    "\n",
    "  def defaultMethod(self):\n",
    "    print(\"This is a default method\")\n",
    "\n",
    "emp = Employee()\n",
    "print(dir(Employee)[:5])\n",
    "getattr(emp, 'defaultMethod')()"
   ]
  },
  {
   "cell_type": "markdown",
   "metadata": {},
   "source": [
    "## ```sys.modules[__name__]```"
   ]
  },
  {
   "cell_type": "code",
   "execution_count": null,
   "metadata": {},
   "outputs": [],
   "source": [
    "# sys.modules[__name__].__dir__()\n",
    "# sys.modules[__name__].__dict__.keys()\n",
    "# sys.modules[__name__].__class__\n",
    "# sys.modules[__name__].__doc__\n",
    "# sys.modules[__name__].__file__\n",
    "# sys.modules[__name__].__loader__\n",
    "# sys.modules[__name__].__name__\n",
    "# sys.modules[__name__].__package__\n",
    "# sys.modules[__name__].__spec__\n",
    "# sys.modules[__name__].__cached__\n",
    "# sys.modules[__name__].__builtins__\n",
    "# sys.modules[__name__].__annotations__\n",
    "# sys.modules[__name__].__call__\n",
    "del hello\n",
    "getattr(sys.modules[__name__], 'hello')('world!!')"
   ]
  },
  {
   "cell_type": "code",
   "execution_count": null,
   "metadata": {},
   "outputs": [],
   "source": []
  },
  {
   "cell_type": "code",
   "execution_count": null,
   "metadata": {},
   "outputs": [],
   "source": []
  },
  {
   "cell_type": "code",
   "execution_count": null,
   "metadata": {},
   "outputs": [],
   "source": []
  },
  {
   "cell_type": "code",
   "execution_count": 26,
   "metadata": {},
   "outputs": [
    {
     "name": "stdout",
     "output_type": "stream",
     "text": [
      "Hello, world!\n"
     ]
    }
   ],
   "source": [
    "print('Hello, world!')"
   ]
  }
 ],
 "metadata": {
  "kernelspec": {
   "display_name": "first-py310",
   "language": "python",
   "name": "python3"
  },
  "language_info": {
   "codemirror_mode": {
    "name": "ipython",
    "version": 3
   },
   "file_extension": ".py",
   "mimetype": "text/x-python",
   "name": "python",
   "nbconvert_exporter": "python",
   "pygments_lexer": "ipython3",
   "version": "3.10.9"
  }
 },
 "nbformat": 4,
 "nbformat_minor": 2
}
