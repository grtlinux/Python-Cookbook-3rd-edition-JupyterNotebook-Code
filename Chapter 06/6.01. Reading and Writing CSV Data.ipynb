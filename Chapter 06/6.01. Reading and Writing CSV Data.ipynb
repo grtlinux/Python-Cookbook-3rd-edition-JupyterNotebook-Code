{
 "cells": [
  {
   "cell_type": "markdown",
   "metadata": {},
   "source": [
    "### 6.01. Reading and Writing CSV Data"
   ]
  },
  {
   "cell_type": "code",
   "execution_count": 19,
   "metadata": {
    "collapsed": true
   },
   "outputs": [
    {
     "name": "stdout",
     "output_type": "stream",
     "text": [
      "['Symbol', 'Price', 'Date', 'Time', 'Change', 'Volume']\n",
      "['AA', '39.48', '6/11/2007', '9:36am', '-0.18', '181800']\n",
      "['AIG', '71.38', '6/11/2007', '9:36am', '-0.15', '195500']\n",
      "['AXP', '62.58', '6/11/2007', '9:36am', '-0.46', '935000']\n",
      "['BA', '98.31', '6/11/2007', '9:36am', '+0.12', '104800']\n",
      "['C', '53.08', '6/11/2007', '9:36am', '-0.25', '360900']\n",
      "['CAT', '78.29', '6/11/2007', '9:36am', '-0.23', '225400']\n"
     ]
    }
   ],
   "source": [
    "import csv\n",
    "with open('../data/06_4.stocks.csv') as f:\n",
    "    f_csv = csv.reader(f)\n",
    "    headers = next(f_csv)\n",
    "    print(headers)\n",
    "    for row in f_csv:\n",
    "        print(row)"
   ]
  },
  {
   "cell_type": "code",
   "execution_count": 5,
   "metadata": {
    "collapsed": true
   },
   "outputs": [
    {
     "name": "stdout",
     "output_type": "stream",
     "text": [
      "Row(Symbol='AA', Price='39.48', Date='6/11/2007', Time='9:36am', Change='-0.18', Volume='181800')\n",
      "Row(Symbol='AIG', Price='71.38', Date='6/11/2007', Time='9:36am', Change='-0.15', Volume='195500')\n",
      "Row(Symbol='AXP', Price='62.58', Date='6/11/2007', Time='9:36am', Change='-0.46', Volume='935000')\n",
      "Row(Symbol='BA', Price='98.31', Date='6/11/2007', Time='9:36am', Change='+0.12', Volume='104800')\n",
      "Row(Symbol='C', Price='53.08', Date='6/11/2007', Time='9:36am', Change='-0.25', Volume='360900')\n",
      "Row(Symbol='CAT', Price='78.29', Date='6/11/2007', Time='9:36am', Change='-0.23', Volume='225400')\n"
     ]
    }
   ],
   "source": [
    "from collections import namedtuple\n",
    "with open('../data/06_4.stocks.csv') as f:\n",
    "    f_csv = csv.reader(f)\n",
    "    headings = next(f_csv)\n",
    "    Row = namedtuple('Row', headings)\n",
    "    for r in f_csv:\n",
    "        row = Row(*r)\n",
    "        # Process row\n",
    "        print(row)"
   ]
  },
  {
   "cell_type": "code",
   "execution_count": 6,
   "metadata": {
    "collapsed": true
   },
   "outputs": [
    {
     "name": "stdout",
     "output_type": "stream",
     "text": [
      "{'Symbol': 'AA', 'Price': '39.48', 'Date': '6/11/2007', 'Time': '9:36am', 'Change': '-0.18', 'Volume': '181800'}\n",
      "{'Symbol': 'AIG', 'Price': '71.38', 'Date': '6/11/2007', 'Time': '9:36am', 'Change': '-0.15', 'Volume': '195500'}\n",
      "{'Symbol': 'AXP', 'Price': '62.58', 'Date': '6/11/2007', 'Time': '9:36am', 'Change': '-0.46', 'Volume': '935000'}\n",
      "{'Symbol': 'BA', 'Price': '98.31', 'Date': '6/11/2007', 'Time': '9:36am', 'Change': '+0.12', 'Volume': '104800'}\n",
      "{'Symbol': 'C', 'Price': '53.08', 'Date': '6/11/2007', 'Time': '9:36am', 'Change': '-0.25', 'Volume': '360900'}\n",
      "{'Symbol': 'CAT', 'Price': '78.29', 'Date': '6/11/2007', 'Time': '9:36am', 'Change': '-0.23', 'Volume': '225400'}\n"
     ]
    }
   ],
   "source": [
    "import csv\n",
    "with open('../data/06_4.stocks.csv') as f:\n",
    "    f_csv = csv.DictReader(f)\n",
    "    for row in f_csv:\n",
    "        # process row\n",
    "        print(row)"
   ]
  },
  {
   "cell_type": "code",
   "execution_count": 8,
   "metadata": {
    "collapsed": true
   },
   "outputs": [],
   "source": [
    "headers = ['Symbol','Price','Date','Time','Change','Volume']\n",
    "rows = [\n",
    "    ('AA', 39.48, '6/11/2007', '9:36am', -0.18, 181800),\n",
    "    ('AIG', 71.38, '6/11/2007', '9:36am', -0.15, 195500),\n",
    "    ('AXP', 62.58, '6/11/2007', '9:36am', -0.46, 935000),\n",
    "]\n",
    "\n",
    "with open('../data/06_4.newstocks.csv','w') as f:\n",
    "    f_csv = csv.writer(f)\n",
    "    f_csv.writerow(headers)\n",
    "    f_csv.writerows(rows)"
   ]
  },
  {
   "cell_type": "code",
   "execution_count": 10,
   "metadata": {
    "collapsed": true
   },
   "outputs": [],
   "source": [
    "headers = ['Symbol', 'Price', 'Date', 'Time', 'Change', 'Volume']\n",
    "rows = [\n",
    "    {'Symbol':'AA', 'Price':39.48, 'Date':'6/11/2007', 'Time':'9:36am', 'Change':-0.18, 'Volume':181800},\n",
    "    {'Symbol':'AIG', 'Price': 71.38, 'Date':'6/11/2007', 'Time':'9:36am', 'Change':-0.15, 'Volume': 195500},\n",
    "    {'Symbol':'AXP', 'Price': 62.58, 'Date':'6/11/2007', 'Time':'9:36am', 'Change':-0.46, 'Volume': 935000},\n",
    "]\n",
    "\n",
    "with open('../data/06_4.newstocks.csv','w') as f:\n",
    "    f_csv = csv.DictWriter(f, headers)\n",
    "    f_csv.writeheader()\n",
    "    f_csv.writerows(rows)"
   ]
  },
  {
   "cell_type": "code",
   "execution_count": 11,
   "metadata": {
    "collapsed": true
   },
   "outputs": [
    {
     "name": "stdout",
     "output_type": "stream",
     "text": [
      "['Symbol', 'Price', 'Date', 'Time', 'Change', 'Volume\\n']\n",
      "['\"AA\"', '39.48', '\"6/11/2007\"', '\"9:36am\"', '-0.18', '181800\\n']\n",
      "['\"AIG\"', '71.38', '\"6/11/2007\"', '\"9:36am\"', '-0.15', '195500\\n']\n",
      "['\"AXP\"', '62.58', '\"6/11/2007\"', '\"9:36am\"', '-0.46', '935000\\n']\n",
      "['\"BA\"', '98.31', '\"6/11/2007\"', '\"9:36am\"', '+0.12', '104800\\n']\n",
      "['\"C\"', '53.08', '\"6/11/2007\"', '\"9:36am\"', '-0.25', '360900\\n']\n",
      "['\"CAT\"', '78.29', '\"6/11/2007\"', '\"9:36am\"', '-0.23', '225400\\n']\n"
     ]
    }
   ],
   "source": [
    "with open('../data/06_4.stocks.csv') as f:\n",
    "    for line in f:\n",
    "        row = line.split(',')\n",
    "        # process row\n",
    "        print(row)"
   ]
  },
  {
   "cell_type": "code",
   "execution_count": 13,
   "metadata": {
    "collapsed": true
   },
   "outputs": [
    {
     "name": "stdout",
     "output_type": "stream",
     "text": [
      "['Symbol', 'Price', 'Date', 'Time', 'Change', 'Volume']\n",
      "['AA', '39.48', '6/11/2007', '9:36am', '-0.18', '181800']\n",
      "['AIG', '71.38', '6/11/2007', '9:36am', '-0.15', '195500']\n",
      "['AXP', '62.58', '6/11/2007', '9:36am', '-0.46', '935000']\n",
      "['BA', '98.31', '6/11/2007', '9:36am', '+0.12', '104800']\n",
      "['C', '53.08', '6/11/2007', '9:36am', '-0.25', '360900']\n",
      "['CAT', '78.29', '6/11/2007', '9:36am', '-0.23', '225400']\n"
     ]
    }
   ],
   "source": [
    "# Example of reading tab-separated values\n",
    "with open('../data/06_4.stocks.tsv') as f:\n",
    "    f_tsv = csv.reader(f, delimiter='\\t')\n",
    "    for row in f_tsv:\n",
    "        # Process row\n",
    "        print(row)"
   ]
  },
  {
   "cell_type": "code",
   "execution_count": 14,
   "metadata": {
    "collapsed": true
   },
   "outputs": [
    {
     "name": "stdout",
     "output_type": "stream",
     "text": [
      "Row(Symbol='AA', Price='39.48', Date='6/11/2007', Time='9:36am', Change='-0.18', Volume='181800')\n",
      "Row(Symbol='AIG', Price='71.38', Date='6/11/2007', Time='9:36am', Change='-0.15', Volume='195500')\n",
      "Row(Symbol='AXP', Price='62.58', Date='6/11/2007', Time='9:36am', Change='-0.46', Volume='935000')\n",
      "Row(Symbol='BA', Price='98.31', Date='6/11/2007', Time='9:36am', Change='+0.12', Volume='104800')\n",
      "Row(Symbol='C', Price='53.08', Date='6/11/2007', Time='9:36am', Change='-0.25', Volume='360900')\n",
      "Row(Symbol='CAT', Price='78.29', Date='6/11/2007', Time='9:36am', Change='-0.23', Volume='225400')\n"
     ]
    }
   ],
   "source": [
    "import re\n",
    "with open('../data/06_4.stocks.csv') as f:\n",
    "    f_csv = csv.reader(f)\n",
    "    headers = [ re.sub('[^a-zA-Z_]', '_', h) for h in next(f_csv) ]\n",
    "    Row = namedtuple('Row', headers)\n",
    "    for r in f_csv:\n",
    "        row = Row(*r)\n",
    "        # Process row\n",
    "        print(row)"
   ]
  },
  {
   "cell_type": "code",
   "execution_count": 23,
   "metadata": {
    "collapsed": true
   },
   "outputs": [
    {
     "name": "stdout",
     "output_type": "stream",
     "text": [
      "['Symbol', 'Price', 'Date', 'Time', 'Change', 'Volume']\n",
      "('AA', 39.48, '6/11/2007', '9:36am', -0.18, 181800)\n",
      "('AIG', 71.38, '6/11/2007', '9:36am', -0.15, 195500)\n",
      "('AXP', 62.58, '6/11/2007', '9:36am', -0.46, 935000)\n",
      "('BA', 98.31, '6/11/2007', '9:36am', 0.12, 104800)\n",
      "('C', 53.08, '6/11/2007', '9:36am', -0.25, 360900)\n",
      "('CAT', 78.29, '6/11/2007', '9:36am', -0.23, 225400)\n"
     ]
    }
   ],
   "source": [
    "col_types = [str, float, str, str, float, int]\n",
    "with open('../data/06_4.stocks.csv') as f:\n",
    "    f_csv = csv.reader(f)\n",
    "    headers = next(f_csv)\n",
    "    print(headers)\n",
    "    for row in f_csv:\n",
    "        # Apply conversions to the row items\n",
    "        row = tuple(convert(value) for convert, value in zip(col_types, row))\n",
    "        print(row)"
   ]
  },
  {
   "cell_type": "code",
   "execution_count": 18,
   "metadata": {
    "collapsed": true
   },
   "outputs": [
    {
     "name": "stdout",
     "output_type": "stream",
     "text": [
      "Reading as dicts with type conversion\n",
      "{'Symbol': 'AA', 'Price': 39.48, 'Date': '6/11/2007', 'Time': '9:36am', 'Change': -0.18, 'Volume': '181800'}\n",
      "{'Symbol': 'AIG', 'Price': 71.38, 'Date': '6/11/2007', 'Time': '9:36am', 'Change': -0.15, 'Volume': '195500'}\n",
      "{'Symbol': 'AXP', 'Price': 62.58, 'Date': '6/11/2007', 'Time': '9:36am', 'Change': -0.46, 'Volume': '935000'}\n",
      "{'Symbol': 'BA', 'Price': 98.31, 'Date': '6/11/2007', 'Time': '9:36am', 'Change': 0.12, 'Volume': '104800'}\n",
      "{'Symbol': 'C', 'Price': 53.08, 'Date': '6/11/2007', 'Time': '9:36am', 'Change': -0.25, 'Volume': '360900'}\n",
      "{'Symbol': 'CAT', 'Price': 78.29, 'Date': '6/11/2007', 'Time': '9:36am', 'Change': -0.23, 'Volume': '225400'}\n"
     ]
    }
   ],
   "source": [
    "print('Reading as dicts with type conversion')\n",
    "field_types = [\n",
    "    ('Price', float),\n",
    "    ('Change', float),\n",
    "    # ('Volume', int),\n",
    "    ('Volume', str),\n",
    " ]\n",
    "\n",
    "with open('../data/06_4.stocks.csv') as f:\n",
    "    for row in csv.DictReader(f):\n",
    "        row.update((key, conversion(row[key])) for key, conversion in field_types)\n",
    "        print(row)"
   ]
  },
  {
   "cell_type": "code",
   "execution_count": 24,
   "metadata": {},
   "outputs": [
    {
     "name": "stdout",
     "output_type": "stream",
     "text": [
      "[\n",
      "    {\n",
      "        \"Symbol\": \"AA\",\n",
      "        \"Price\": 39.48,\n",
      "        \"Date\": \"6/11/2007\",\n",
      "        \"Time\": \"9:36am\",\n",
      "        \"Change\": -0.18,\n",
      "        \"Volume\": \"181800\"\n",
      "    },\n",
      "    {\n",
      "        \"Symbol\": \"AIG\",\n",
      "        \"Price\": 71.38,\n",
      "        \"Date\": \"6/11/2007\",\n",
      "        \"Time\": \"9:36am\",\n",
      "        \"Change\": -0.15,\n",
      "        \"Volume\": \"195500\"\n",
      "    },\n",
      "    {\n",
      "        \"Symbol\": \"AXP\",\n",
      "        \"Price\": 62.58,\n",
      "        \"Date\": \"6/11/2007\",\n",
      "        \"Time\": \"9:36am\",\n",
      "        \"Change\": -0.46,\n",
      "        \"Volume\": \"935000\"\n",
      "    },\n",
      "    {\n",
      "        \"Symbol\": \"BA\",\n",
      "        \"Price\": 98.31,\n",
      "        \"Date\": \"6/11/2007\",\n",
      "        \"Time\": \"9:36am\",\n",
      "        \"Change\": 0.12,\n",
      "        \"Volume\": \"104800\"\n",
      "    },\n",
      "    {\n",
      "        \"Symbol\": \"C\",\n",
      "        \"Price\": 53.08,\n",
      "        \"Date\": \"6/11/2007\",\n",
      "        \"Time\": \"9:36am\",\n",
      "        \"Change\": -0.25,\n",
      "        \"Volume\": \"360900\"\n",
      "    },\n",
      "    {\n",
      "        \"Symbol\": \"CAT\",\n",
      "        \"Price\": 78.29,\n",
      "        \"Date\": \"6/11/2007\",\n",
      "        \"Time\": \"9:36am\",\n",
      "        \"Change\": -0.23,\n",
      "        \"Volume\": \"225400\"\n",
      "    }\n",
      "]\n"
     ]
    }
   ],
   "source": [
    "# file csv to JSON string - 1\n",
    "import json\n",
    "field_types = [\n",
    "    ('Price', float),\n",
    "    ('Change', float),\n",
    "    # ('Volume', int),\n",
    "    ('Volume', str),\n",
    "]\n",
    "\n",
    "data = []\n",
    "with open('../data/06_4.stocks.csv') as f:\n",
    "    for row in csv.DictReader(f):\n",
    "        row.update((key, conversion(row[key])) for key, conversion in field_types)\n",
    "        data.append(row)\n",
    "print(json.dumps(data, indent=4))"
   ]
  },
  {
   "cell_type": "code",
   "execution_count": 25,
   "metadata": {},
   "outputs": [
    {
     "name": "stdout",
     "output_type": "stream",
     "text": [
      "[\n",
      "    {\n",
      "        \"Symbol\": \"AA\",\n",
      "        \"Price\": 39.48,\n",
      "        \"Date\": \"6/11/2007\",\n",
      "        \"Time\": \"9:36am\",\n",
      "        \"Change\": -0.18,\n",
      "        \"Volume\": 181800\n",
      "    },\n",
      "    {\n",
      "        \"Symbol\": \"AIG\",\n",
      "        \"Price\": 71.38,\n",
      "        \"Date\": \"6/11/2007\",\n",
      "        \"Time\": \"9:36am\",\n",
      "        \"Change\": -0.15,\n",
      "        \"Volume\": 195500\n",
      "    },\n",
      "    {\n",
      "        \"Symbol\": \"AXP\",\n",
      "        \"Price\": 62.58,\n",
      "        \"Date\": \"6/11/2007\",\n",
      "        \"Time\": \"9:36am\",\n",
      "        \"Change\": -0.46,\n",
      "        \"Volume\": 935000\n",
      "    },\n",
      "    {\n",
      "        \"Symbol\": \"BA\",\n",
      "        \"Price\": 98.31,\n",
      "        \"Date\": \"6/11/2007\",\n",
      "        \"Time\": \"9:36am\",\n",
      "        \"Change\": 0.12,\n",
      "        \"Volume\": 104800\n",
      "    },\n",
      "    {\n",
      "        \"Symbol\": \"C\",\n",
      "        \"Price\": 53.08,\n",
      "        \"Date\": \"6/11/2007\",\n",
      "        \"Time\": \"9:36am\",\n",
      "        \"Change\": -0.25,\n",
      "        \"Volume\": 360900\n",
      "    },\n",
      "    {\n",
      "        \"Symbol\": \"CAT\",\n",
      "        \"Price\": 78.29,\n",
      "        \"Date\": \"6/11/2007\",\n",
      "        \"Time\": \"9:36am\",\n",
      "        \"Change\": -0.23,\n",
      "        \"Volume\": 225400\n",
      "    }\n",
      "]\n"
     ]
    }
   ],
   "source": [
    "# file csv to JSON string - 2\n",
    "\n",
    "# cols = [col[0] for col in cur.description]\n",
    "# data = [dict(zip(cols, row)) for row in rows]\n",
    "# print('4.JSON:', json.dumps(data, indent=4))\n",
    "import json\n",
    "col_types = [str, float, str, str, float, int]\n",
    "data = []\n",
    "with open('../data/06_4.stocks.csv') as f:\n",
    "    f_csv = csv.reader(f)\n",
    "    headers = next(f_csv)\n",
    "    # print(headers)\n",
    "    for row in f_csv:\n",
    "        # Apply conversions to the row items\n",
    "        row = tuple(convert(value) for convert, value in zip(col_types, row))\n",
    "        data.append(dict(zip(headers,row)))\n",
    "print(json.dumps(data, indent=4))"
   ]
  },
  {
   "cell_type": "code",
   "execution_count": 26,
   "metadata": {},
   "outputs": [
    {
     "name": "stdout",
     "output_type": "stream",
     "text": [
      "Hello, world!\n"
     ]
    }
   ],
   "source": [
    "print('Hello, world!')"
   ]
  }
 ],
 "metadata": {
  "kernelspec": {
   "display_name": "first-py310",
   "language": "python",
   "name": "python3"
  },
  "language_info": {
   "codemirror_mode": {
    "name": "ipython",
    "version": 3
   },
   "file_extension": ".py",
   "mimetype": "text/x-python",
   "name": "python",
   "nbconvert_exporter": "python",
   "pygments_lexer": "ipython3",
   "version": "3.10.9"
  }
 },
 "nbformat": 4,
 "nbformat_minor": 2
}
