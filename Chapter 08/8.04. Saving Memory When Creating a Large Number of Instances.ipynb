{
 "cells": [
  {
   "cell_type": "markdown",
   "metadata": {},
   "source": [
    "### 8.04. Saving Memory When Creating a Large Number of Instances"
   ]
  },
  {
   "cell_type": "code",
   "execution_count": 29,
   "metadata": {
    "collapsed": true
   },
   "outputs": [
    {
     "name": "stdout",
     "output_type": "stream",
     "text": [
      "__str__:2024/4/10\n",
      "__repr__:2024/4/10\n",
      "2024-04-11 Thu Apr\n",
      "ERROR: 'Date' object has no attribute '__dict__'\n"
     ]
    }
   ],
   "source": [
    "from datetime import date\n",
    "\n",
    "class Date:\n",
    "    __slots__ = ['year', 'month', 'day']\n",
    "    def __init__(self, year, month, day):\n",
    "        self.year = year\n",
    "        self.month = month\n",
    "        self.day = day\n",
    "    \n",
    "    def __str__(self):\n",
    "        return f'__str__:{self.year}/{self.month}/{self.day}'\n",
    "\n",
    "    def __repr__(self):\n",
    "        return f'__repr__:{self.year}/{self.month}/{self.day}'\n",
    "\n",
    "d = Date(2024, 4, 10)\n",
    "print(d)\n",
    "print(repr(d))\n",
    "print(f'{date.today():%Y-%m-%d %a %b}')\n",
    "\n",
    "try:\n",
    "    d.__dict__['year'] = 2021   # AttributeError: 'Date' object has no attribute '__dict__' because of __slots__\n",
    "    print(d.__dict__)\n",
    "except AttributeError as e:\n",
    "    print('ERROR:', e)\n"
   ]
  },
  {
   "cell_type": "markdown",
   "metadata": {},
   "source": [
    "### `__slots__`\n",
    "- Python 클래스에서 __slots__ 속성은 해당 클래스가 생성하는 객체의 동적 속성 할당을 제한하고, 대신 고정된 속성 세트만 사용하도록 함으로써 메모리 사용을 최적화하는 데 사용됩니다. 기본적으로 Python 객체는 내부적으로 __dict__라는 딕셔너리를 사용하여 객체의 속성을 저장합니다. __slots__을 사용하면 이 딕셔너리를 사용하지 않고 각 인스턴스마다 고정된 크기의 속성 배열을 할당합니다. 이는 메모리 사용량을 줄이고, 속성 접근 속도를 향상시킬 수 있습니다.\n",
    "- 메모리 절약: 객체마다 별도의 __dict__를 생성하지 않기 때문에, 메모리 사용량이 줄어듭니다.\n",
    "- 속성 오버라이드 방지: __slots__에 지정된 속성 외의 속성을 객체에 추가할 수 없습니다."
   ]
  },
  {
   "cell_type": "code",
   "execution_count": 2,
   "metadata": {},
   "outputs": [
    {
     "name": "stdout",
     "output_type": "stream",
     "text": [
      "1 2\n",
      "'Point' object has no attribute 'z'\n"
     ]
    }
   ],
   "source": [
    "# __slots__ - 1\n",
    "class Point:\n",
    "    __slots__ = ('x', 'y')  # x, y 속성만 사용 가능\n",
    "\n",
    "    def __init__(self, x, y):\n",
    "        self.x = x\n",
    "        self.y = y\n",
    "\n",
    "try:\n",
    "    p = Point(1, 2)\n",
    "    print(p.x, p.y)  # 1 2\n",
    "    p.z = 3  # AttributeError: 'Point' object has no attribute 'z'\n",
    "except AttributeError as e:\n",
    "    print(e)\n"
   ]
  },
  {
   "cell_type": "code",
   "execution_count": 3,
   "metadata": {},
   "outputs": [
    {
     "name": "stdout",
     "output_type": "stream",
     "text": [
      "red 10\n",
      "'Circle' object has no attribute 'area'\n"
     ]
    }
   ],
   "source": [
    "# __slots__ - 2\n",
    "class Shape:\n",
    "    __slots__ = ('color',)\n",
    "\n",
    "class Circle(Shape):\n",
    "    __slots__ = ('radius',)\n",
    "\n",
    "    def __init__(self, color, radius):\n",
    "        self.color = color\n",
    "        self.radius = radius\n",
    "\n",
    "try:\n",
    "    c = Circle(\"red\", 10)\n",
    "    print(c.color, c.radius)  # red 10\n",
    "    c.area = 314  # AttributeError: 'Circle' object has no attribute 'area'\n",
    "except AttributeError as e:\n",
    "    print(e)\n"
   ]
  },
  {
   "cell_type": "code",
   "execution_count": 5,
   "metadata": {},
   "outputs": [
    {
     "name": "stdout",
     "output_type": "stream",
     "text": [
      "John Doe, Developer\n",
      "12345\n"
     ]
    }
   ],
   "source": [
    "# __slots__ - 3\n",
    "class Employee:\n",
    "    __slots__ = ('name', 'job', 'eid')\n",
    "\n",
    "    def __init__(self, name, job):\n",
    "        self.name = name\n",
    "        self.job = job\n",
    "        self.eid = None  # 기본값 설정\n",
    "\n",
    "try:\n",
    "    e = Employee(\"John Doe\", \"Developer\")\n",
    "    print(f'{e.name}, {e.job}')  # John Doe Developer\n",
    "    e.eid = '12345'\n",
    "    print(e.eid)  # 12345\n",
    "except AttributeError as e:\n",
    "    print(e)\n"
   ]
  },
  {
   "cell_type": "code",
   "execution_count": 15,
   "metadata": {},
   "outputs": [
    {
     "name": "stdout",
     "output_type": "stream",
     "text": [
      "Toyota Corolla (2020) is starting.\n"
     ]
    }
   ],
   "source": [
    "# __slots__ - 4\n",
    "class Car:\n",
    "    __slots__ = ('make', 'model', 'year', '_start')\n",
    "\n",
    "    def __init__(self, make, model, year):\n",
    "        self.make = make\n",
    "        self.model = model\n",
    "        self.year = year\n",
    "\n",
    "    def start(self):\n",
    "        print(f\"{self.make} {self.model} ({self.year}) is starting.\")\n",
    "\n",
    "car = Car(\"Toyota\", \"Corolla\", 2020)\n",
    "car.start()  # Toyota Corolla (2020) is starting.\n"
   ]
  },
  {
   "cell_type": "code",
   "execution_count": 14,
   "metadata": {},
   "outputs": [
    {
     "name": "stdout",
     "output_type": "stream",
     "text": [
      "Buddy Golden Retriever ('Sound!', 'Woof!')\n"
     ]
    }
   ],
   "source": [
    "# __slots__ - 5\n",
    "class Animal:\n",
    "    # 부모 클래스에는 __slots__ 없음\n",
    "    def sound(self):\n",
    "        return \"Sound!\"\n",
    "\n",
    "class Dog(Animal):\n",
    "    __slots__ = ('name', 'breed')\n",
    "\n",
    "    def __init__(self, name, breed):\n",
    "        self.name = name\n",
    "        self.breed = breed\n",
    "\n",
    "    def sound(self):\n",
    "        # super().sound()\n",
    "        return super().sound(), \"Woof!\"\n",
    "\n",
    "d = Dog(\"Buddy\", \"Golden Retriever\")\n",
    "print(d.name, d.breed, d.sound())  # Buddy Golden Retriever Woof!\n"
   ]
  },
  {
   "cell_type": "code",
   "execution_count": null,
   "metadata": {},
   "outputs": [],
   "source": []
  },
  {
   "cell_type": "code",
   "execution_count": 1,
   "metadata": {},
   "outputs": [
    {
     "name": "stdout",
     "output_type": "stream",
     "text": [
      "Hello, world!!!\n"
     ]
    }
   ],
   "source": [
    "print('Hello, world!!!')"
   ]
  }
 ],
 "metadata": {
  "kernelspec": {
   "display_name": "first-py310",
   "language": "python",
   "name": "python3"
  },
  "language_info": {
   "codemirror_mode": {
    "name": "ipython",
    "version": 3
   },
   "file_extension": ".py",
   "mimetype": "text/x-python",
   "name": "python",
   "nbconvert_exporter": "python",
   "pygments_lexer": "ipython3",
   "version": "3.10.9"
  }
 },
 "nbformat": 4,
 "nbformat_minor": 2
}
