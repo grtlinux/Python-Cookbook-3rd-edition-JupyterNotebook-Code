{
 "cells": [
  {
   "cell_type": "markdown",
   "metadata": {},
   "source": [
    "### 8.02. Customizing String Formatting"
   ]
  },
  {
   "cell_type": "code",
   "execution_count": 2,
   "metadata": {
    "collapsed": true
   },
   "outputs": [],
   "source": [
    "from datetime import date"
   ]
  },
  {
   "cell_type": "code",
   "execution_count": 27,
   "metadata": {},
   "outputs": [
    {
     "name": "stdout",
     "output_type": "stream",
     "text": [
      "fmt: {d._year}{d._sep}{d._month:02}{d._sep}{d._day:02}\n",
      "dt: 2012/12/21\n",
      "fmt: {d._year}{d._sep}{d._month:02}{d._sep}{d._day:02}\n",
      "dt: 2012-12-21\n"
     ]
    }
   ],
   "source": [
    "# sample for switch case\n",
    "class Date:\n",
    "    _formats = {\n",
    "        'ymd' : '{d._year}{d._sep}{d._month:02}{d._sep}{d._day:02}',\n",
    "        'mdy' : '{d._month:02}{d._sep}{d._day:02}{d._sep}{d._year}',\n",
    "        'dmy' : '{d._day:02}{d._sep}{d._month:02}{d._sep}{d._year}',\n",
    "    }\n",
    "    \n",
    "    def __init__(self, year, month, day, dt:date=None, fmt_name:str='ymd-') -> None:\n",
    "        if dt is not None:\n",
    "            year = dt.year\n",
    "            month = dt.month\n",
    "            day = dt.day\n",
    "        self._year = year\n",
    "        self._month = month\n",
    "        self._day = day\n",
    "        self._fmt_name = fmt_name[:3]\n",
    "        self._sep = fmt_name[-1] if fmt_name[-1] in '/-.' else '-'\n",
    "        \n",
    "    def __format__(self, fmt_name:str=None) -> str:\n",
    "        fmt = self._formats.get(fmt_name, self._formats[self._fmt_name])   # get the value of code, if not found, use the default value\n",
    "        self._sep = fmt_name[-1] if fmt_name[-1] in '/-.' else '-'\n",
    "        print(f'fmt: {fmt}')\n",
    "        return fmt.format(d=self)\n",
    "    \n",
    "dt = Date(2012, 12, 21)\n",
    "print(f'dt: {dt:ymd/}')\n",
    "print('dt: {0:dmy-}'.format(dt))"
   ]
  },
  {
   "cell_type": "code",
   "execution_count": 17,
   "metadata": {},
   "outputs": [
    {
     "name": "stdout",
     "output_type": "stream",
     "text": [
      "fmt: {d._year}-{d._month:02}-{d._day:02}\n"
     ]
    },
    {
     "data": {
      "text/plain": [
       "'2012-12-21'"
      ]
     },
     "execution_count": 17,
     "metadata": {},
     "output_type": "execute_result"
    }
   ],
   "source": [
    "dt = Date(2012, 12, 21)\n",
    "format(dt, 'ymd')"
   ]
  },
  {
   "cell_type": "code",
   "execution_count": 3,
   "metadata": {},
   "outputs": [
    {
     "data": {
      "text/plain": [
       "'12/21/2012'"
      ]
     },
     "execution_count": 3,
     "metadata": {},
     "output_type": "execute_result"
    }
   ],
   "source": [
    "format(dt, 'mdy')"
   ]
  },
  {
   "cell_type": "code",
   "execution_count": 4,
   "metadata": {},
   "outputs": [
    {
     "data": {
      "text/plain": [
       "'The date is 2012-12-21'"
      ]
     },
     "execution_count": 4,
     "metadata": {},
     "output_type": "execute_result"
    }
   ],
   "source": [
    "'The date is {:ymd}'.format(dt)"
   ]
  },
  {
   "cell_type": "code",
   "execution_count": 5,
   "metadata": {},
   "outputs": [
    {
     "data": {
      "text/plain": [
       "'The date is 12/21/2012'"
      ]
     },
     "execution_count": 5,
     "metadata": {},
     "output_type": "execute_result"
    }
   ],
   "source": [
    "'The date is {:mdy}'.format(dt)"
   ]
  },
  {
   "cell_type": "code",
   "execution_count": 7,
   "metadata": {},
   "outputs": [
    {
     "data": {
      "text/plain": [
       "'2024-03-20'"
      ]
     },
     "execution_count": 7,
     "metadata": {},
     "output_type": "execute_result"
    }
   ],
   "source": [
    "from datetime import date\n",
    "dt = date(2012, 12, 21)\n",
    "dt = date.today()\n",
    "format(dt)"
   ]
  },
  {
   "cell_type": "code",
   "execution_count": 10,
   "metadata": {},
   "outputs": [
    {
     "data": {
      "text/plain": [
       "'Wednesday(Wed), March(Mar) 20, 2024'"
      ]
     },
     "execution_count": 10,
     "metadata": {},
     "output_type": "execute_result"
    }
   ],
   "source": [
    "format(dt,'%A(%a), %B(%b) %d, %Y')"
   ]
  },
  {
   "cell_type": "code",
   "execution_count": 9,
   "metadata": {},
   "outputs": [
    {
     "data": {
      "text/plain": [
       "'The end is 20 Mar 2024. Goodbye'"
      ]
     },
     "execution_count": 9,
     "metadata": {},
     "output_type": "execute_result"
    }
   ],
   "source": [
    "'The end is {:%d %b %Y}. Goodbye'.format(dt)"
   ]
  },
  {
   "cell_type": "code",
   "execution_count": null,
   "metadata": {
    "collapsed": true
   },
   "outputs": [],
   "source": []
  },
  {
   "cell_type": "code",
   "execution_count": 11,
   "metadata": {},
   "outputs": [
    {
     "name": "stdout",
     "output_type": "stream",
     "text": [
      "Hello World!\n"
     ]
    }
   ],
   "source": [
    "print('Hello World!')"
   ]
  }
 ],
 "metadata": {
  "kernelspec": {
   "display_name": "first-py310",
   "language": "python",
   "name": "python3"
  },
  "language_info": {
   "codemirror_mode": {
    "name": "ipython",
    "version": 3
   },
   "file_extension": ".py",
   "mimetype": "text/x-python",
   "name": "python",
   "nbconvert_exporter": "python",
   "pygments_lexer": "ipython3",
   "version": "3.10.9"
  }
 },
 "nbformat": 4,
 "nbformat_minor": 2
}
